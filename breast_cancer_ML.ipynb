{
 "cells": [
  {
   "cell_type": "code",
   "execution_count": 9,
   "metadata": {},
   "outputs": [
    {
     "name": "stderr",
     "output_type": "stream",
     "text": [
      "C:\\Users\\bmerg\\AppData\\Local\\Temp\\ipykernel_16196\\2422827942.py:18: MatplotlibDeprecationWarning: The seaborn styles shipped by Matplotlib are deprecated since 3.6, as they no longer correspond to the styles shipped by seaborn. However, they will remain available as 'seaborn-v0_8-<style>'. Alternatively, directly use the seaborn API instead.\n",
      "  plt.style.use('seaborn')\n"
     ]
    }
   ],
   "source": [
    "# importing dependencies\n",
    "import pandas as pd\n",
    "import numpy as np\n",
    "import seaborn as sns\n",
    "import matplotlib.pyplot as plt\n",
    "from sklearn.preprocessing import StandardScaler, MinMaxScaler\n",
    "from sklearn.model_selection import GridSearchCV\n",
    "from sklearn.ensemble import RandomForestClassifier\n",
    "from sklearn.linear_model import LogisticRegression\n",
    "from sklearn.metrics import f1_score, recall_score, precision_score, accuracy_score, confusion_matrix, classification_report\n",
    "from sklearn.preprocessing import OneHotEncoder\n",
    "from sklearn.compose import ColumnTransformer\n",
    "from sklearn.preprocessing import LabelEncoder\n",
    "from sklearn.preprocessing import OrdinalEncoder\n",
    "from sklearn.model_selection import train_test_split\n",
    "from sklearn.pipeline import Pipeline\n",
    "plt.style.use('seaborn')\n",
    "\n",
    "\n",
    "# perform train-test-split - original csv file is imported again to start with a clean df\n",
    "# import modules\n",
    "\n",
    "# reading in data as df\n",
    "df = pd.read_csv('Breast_Cancer.csv', delimiter=',')\n",
    "\n",
    "# correcting typos\n",
    "df = df.rename(columns={'T Stage ':'T Stage'})\n",
    "df = df.rename(columns={'Reginol Node Positive': 'Regional Node Positive'})\n",
    "\n",
    "# remapping target column\n",
    "df.loc[:,'Status_encoded'] = df.loc[:,'Status'].map({'Alive':0, 'Dead':1})\n",
    "\n",
    "# changing dtypes of columns as needed\n",
    "dtypes_columns = {'Age' : 'int64',\n",
    "'Race' : 'category',\n",
    "'Marital Status' : 'category',\n",
    "'T Stage' : 'category', \n",
    "'N Stage' : 'category',\n",
    "'6th Stage' : 'category',\n",
    "'differentiate' : 'category',\n",
    "'Grade' : 'category',\n",
    "'A Stage' : 'category', \n",
    "'Tumor Size' : 'int64',\n",
    "'Estrogen Status' : 'category',\n",
    "'Progesterone Status' : 'category',\n",
    "'Regional Node Examined' : 'int64',\n",
    "'Regional Node Positive' : 'int64',\n",
    "'Survival Months' : 'int64',\n",
    "'Status' : 'category',\n",
    "'Status_encoded' : 'int64'}\n",
    "df = df.astype(dtypes_columns)\n",
    "\n",
    "# drop 'Grade' columns because the information is the same as in the 'differentiate' column \n",
    "df.drop('Grade', axis=1, inplace=True)\n",
    "\n",
    "# creating target and features \n",
    "target = df.loc[:,'Status_encoded']\n",
    "features = df.drop('Status', axis=1)\n",
    "features = features.drop('Status_encoded', axis=1)\n",
    "\n",
    "# train and test split\n",
    "features_train, features_test, target_train, target_test = train_test_split(features, \n",
    "                                                                            target, \n",
    "                                                                            random_state=42,\n",
    "                                                                            test_size=0.1)"
   ]
  },
  {
   "cell_type": "code",
   "execution_count": 10,
   "metadata": {},
   "outputs": [
    {
     "data": {
      "text/plain": [
       "(3621, 14)"
      ]
     },
     "metadata": {},
     "output_type": "display_data"
    },
    {
     "data": {
      "text/plain": [
       "(403, 14)"
      ]
     },
     "metadata": {},
     "output_type": "display_data"
    },
    {
     "data": {
      "text/plain": [
       "(3621,)"
      ]
     },
     "metadata": {},
     "output_type": "display_data"
    },
    {
     "data": {
      "text/plain": [
       "(403,)"
      ]
     },
     "metadata": {},
     "output_type": "display_data"
    }
   ],
   "source": [
    "display(features_train.shape)\n",
    "display(features_test.shape)\n",
    "display(target_train.shape)\n",
    "display(target_test.shape)"
   ]
  },
  {
   "cell_type": "code",
   "execution_count": 34,
   "metadata": {},
   "outputs": [],
   "source": [
    "# creating lists of categorical, ordinal and numerical columns\n",
    "cat_cols = ['Race', 'Marital Status', 'Estrogen Status', 'Progesterone Status']\n",
    "ord_cols = ['T Stage', 'N Stage', '6th Stage', 'differentiate', 'A Stage']\n",
    "num_cols = [col for col in features_train.select_dtypes(include=[\"int64\",\"float64\"])]"
   ]
  },
  {
   "cell_type": "code",
   "execution_count": null,
   "metadata": {},
   "outputs": [],
   "source": [
    "# choosing features for model\n",
    " selected_features = cat_cols + ord_cols + num_cols\n",
    "# selecting only top 5 features extracted from feature_importance of DecisionTreeClassifier\n",
    "# ['Age', 'Tumor Size', 'Survival Months', 'Regional Node Examined', 'Regional Node Positive']\n",
    "# selected_features = num_cols"
   ]
  },
  {
   "cell_type": "code",
   "execution_count": 41,
   "metadata": {},
   "outputs": [
    {
     "data": {
      "text/html": [
       "<style>#sk-container-id-5 {color: black;background-color: white;}#sk-container-id-5 pre{padding: 0;}#sk-container-id-5 div.sk-toggleable {background-color: white;}#sk-container-id-5 label.sk-toggleable__label {cursor: pointer;display: block;width: 100%;margin-bottom: 0;padding: 0.3em;box-sizing: border-box;text-align: center;}#sk-container-id-5 label.sk-toggleable__label-arrow:before {content: \"▸\";float: left;margin-right: 0.25em;color: #696969;}#sk-container-id-5 label.sk-toggleable__label-arrow:hover:before {color: black;}#sk-container-id-5 div.sk-estimator:hover label.sk-toggleable__label-arrow:before {color: black;}#sk-container-id-5 div.sk-toggleable__content {max-height: 0;max-width: 0;overflow: hidden;text-align: left;background-color: #f0f8ff;}#sk-container-id-5 div.sk-toggleable__content pre {margin: 0.2em;color: black;border-radius: 0.25em;background-color: #f0f8ff;}#sk-container-id-5 input.sk-toggleable__control:checked~div.sk-toggleable__content {max-height: 200px;max-width: 100%;overflow: auto;}#sk-container-id-5 input.sk-toggleable__control:checked~label.sk-toggleable__label-arrow:before {content: \"▾\";}#sk-container-id-5 div.sk-estimator input.sk-toggleable__control:checked~label.sk-toggleable__label {background-color: #d4ebff;}#sk-container-id-5 div.sk-label input.sk-toggleable__control:checked~label.sk-toggleable__label {background-color: #d4ebff;}#sk-container-id-5 input.sk-hidden--visually {border: 0;clip: rect(1px 1px 1px 1px);clip: rect(1px, 1px, 1px, 1px);height: 1px;margin: -1px;overflow: hidden;padding: 0;position: absolute;width: 1px;}#sk-container-id-5 div.sk-estimator {font-family: monospace;background-color: #f0f8ff;border: 1px dotted black;border-radius: 0.25em;box-sizing: border-box;margin-bottom: 0.5em;}#sk-container-id-5 div.sk-estimator:hover {background-color: #d4ebff;}#sk-container-id-5 div.sk-parallel-item::after {content: \"\";width: 100%;border-bottom: 1px solid gray;flex-grow: 1;}#sk-container-id-5 div.sk-label:hover label.sk-toggleable__label {background-color: #d4ebff;}#sk-container-id-5 div.sk-serial::before {content: \"\";position: absolute;border-left: 1px solid gray;box-sizing: border-box;top: 0;bottom: 0;left: 50%;z-index: 0;}#sk-container-id-5 div.sk-serial {display: flex;flex-direction: column;align-items: center;background-color: white;padding-right: 0.2em;padding-left: 0.2em;position: relative;}#sk-container-id-5 div.sk-item {position: relative;z-index: 1;}#sk-container-id-5 div.sk-parallel {display: flex;align-items: stretch;justify-content: center;background-color: white;position: relative;}#sk-container-id-5 div.sk-item::before, #sk-container-id-5 div.sk-parallel-item::before {content: \"\";position: absolute;border-left: 1px solid gray;box-sizing: border-box;top: 0;bottom: 0;left: 50%;z-index: -1;}#sk-container-id-5 div.sk-parallel-item {display: flex;flex-direction: column;z-index: 1;position: relative;background-color: white;}#sk-container-id-5 div.sk-parallel-item:first-child::after {align-self: flex-end;width: 50%;}#sk-container-id-5 div.sk-parallel-item:last-child::after {align-self: flex-start;width: 50%;}#sk-container-id-5 div.sk-parallel-item:only-child::after {width: 0;}#sk-container-id-5 div.sk-dashed-wrapped {border: 1px dashed gray;margin: 0 0.4em 0.5em 0.4em;box-sizing: border-box;padding-bottom: 0.4em;background-color: white;}#sk-container-id-5 div.sk-label label {font-family: monospace;font-weight: bold;display: inline-block;line-height: 1.2em;}#sk-container-id-5 div.sk-label-container {text-align: center;}#sk-container-id-5 div.sk-container {/* jupyter's `normalize.less` sets `[hidden] { display: none; }` but bootstrap.min.css set `[hidden] { display: none !important; }` so we also need the `!important` here to be able to override the default hidden behavior on the sphinx rendered scikit-learn.org. See: https://github.com/scikit-learn/scikit-learn/issues/21755 */display: inline-block !important;position: relative;}#sk-container-id-5 div.sk-text-repr-fallback {display: none;}</style><div id=\"sk-container-id-5\" class=\"sk-top-container\"><div class=\"sk-text-repr-fallback\"><pre>GridSearchCV(cv=5,\n",
       "             estimator=Pipeline(steps=[(&#x27;preprocessing&#x27;,\n",
       "                                        ColumnTransformer(remainder=&#x27;passthrough&#x27;,\n",
       "                                                          transformers=[])),\n",
       "                                       (&#x27;model&#x27;,\n",
       "                                        RandomForestClassifier(class_weight=&#x27;balanced&#x27;,\n",
       "                                                               n_jobs=-1,\n",
       "                                                               random_state=42))]),\n",
       "             n_jobs=-1,\n",
       "             param_grid={&#x27;model__max_depth&#x27;: array([  1,   1,   3,   6,  11,  21,  39,  73, 135, 250]),\n",
       "                         &#x27;model__min_samples_leaf&#x27;: array([ 1,  1,  2,  3,  5,  7, 11, 17, 26, 40]),\n",
       "                         &#x27;model__n_estimators&#x27;: array([ 25,  32,  43,  57,  75,  99, 131, 172, 227, 300])},\n",
       "             scoring=&#x27;f1&#x27;)</pre><b>In a Jupyter environment, please rerun this cell to show the HTML representation or trust the notebook. <br />On GitHub, the HTML representation is unable to render, please try loading this page with nbviewer.org.</b></div><div class=\"sk-container\" hidden><div class=\"sk-item sk-dashed-wrapped\"><div class=\"sk-label-container\"><div class=\"sk-label sk-toggleable\"><input class=\"sk-toggleable__control sk-hidden--visually\" id=\"sk-estimator-id-33\" type=\"checkbox\" ><label for=\"sk-estimator-id-33\" class=\"sk-toggleable__label sk-toggleable__label-arrow\">GridSearchCV</label><div class=\"sk-toggleable__content\"><pre>GridSearchCV(cv=5,\n",
       "             estimator=Pipeline(steps=[(&#x27;preprocessing&#x27;,\n",
       "                                        ColumnTransformer(remainder=&#x27;passthrough&#x27;,\n",
       "                                                          transformers=[])),\n",
       "                                       (&#x27;model&#x27;,\n",
       "                                        RandomForestClassifier(class_weight=&#x27;balanced&#x27;,\n",
       "                                                               n_jobs=-1,\n",
       "                                                               random_state=42))]),\n",
       "             n_jobs=-1,\n",
       "             param_grid={&#x27;model__max_depth&#x27;: array([  1,   1,   3,   6,  11,  21,  39,  73, 135, 250]),\n",
       "                         &#x27;model__min_samples_leaf&#x27;: array([ 1,  1,  2,  3,  5,  7, 11, 17, 26, 40]),\n",
       "                         &#x27;model__n_estimators&#x27;: array([ 25,  32,  43,  57,  75,  99, 131, 172, 227, 300])},\n",
       "             scoring=&#x27;f1&#x27;)</pre></div></div></div><div class=\"sk-parallel\"><div class=\"sk-parallel-item\"><div class=\"sk-item\"><div class=\"sk-label-container\"><div class=\"sk-label sk-toggleable\"><input class=\"sk-toggleable__control sk-hidden--visually\" id=\"sk-estimator-id-34\" type=\"checkbox\" ><label for=\"sk-estimator-id-34\" class=\"sk-toggleable__label sk-toggleable__label-arrow\">estimator: Pipeline</label><div class=\"sk-toggleable__content\"><pre>Pipeline(steps=[(&#x27;preprocessing&#x27;,\n",
       "                 ColumnTransformer(remainder=&#x27;passthrough&#x27;, transformers=[])),\n",
       "                (&#x27;model&#x27;,\n",
       "                 RandomForestClassifier(class_weight=&#x27;balanced&#x27;, n_jobs=-1,\n",
       "                                        random_state=42))])</pre></div></div></div><div class=\"sk-serial\"><div class=\"sk-item\"><div class=\"sk-serial\"><div class=\"sk-item sk-dashed-wrapped\"><div class=\"sk-label-container\"><div class=\"sk-label sk-toggleable\"><input class=\"sk-toggleable__control sk-hidden--visually\" id=\"sk-estimator-id-35\" type=\"checkbox\" ><label for=\"sk-estimator-id-35\" class=\"sk-toggleable__label sk-toggleable__label-arrow\">preprocessing: ColumnTransformer</label><div class=\"sk-toggleable__content\"><pre>ColumnTransformer(remainder=&#x27;passthrough&#x27;, transformers=[])</pre></div></div></div><div class=\"sk-parallel\"><div class=\"sk-parallel-item\"><div class=\"sk-item\"><div class=\"sk-label-container\"><div class=\"sk-label sk-toggleable\"><input class=\"sk-toggleable__control sk-hidden--visually\" id=\"sk-estimator-id-36\" type=\"checkbox\" ><label for=\"sk-estimator-id-36\" class=\"sk-toggleable__label sk-toggleable__label-arrow\">remainder</label><div class=\"sk-toggleable__content\"><pre></pre></div></div></div><div class=\"sk-serial\"><div class=\"sk-item\"><div class=\"sk-estimator sk-toggleable\"><input class=\"sk-toggleable__control sk-hidden--visually\" id=\"sk-estimator-id-37\" type=\"checkbox\" ><label for=\"sk-estimator-id-37\" class=\"sk-toggleable__label sk-toggleable__label-arrow\">passthrough</label><div class=\"sk-toggleable__content\"><pre>passthrough</pre></div></div></div></div></div></div></div></div><div class=\"sk-item\"><div class=\"sk-estimator sk-toggleable\"><input class=\"sk-toggleable__control sk-hidden--visually\" id=\"sk-estimator-id-38\" type=\"checkbox\" ><label for=\"sk-estimator-id-38\" class=\"sk-toggleable__label sk-toggleable__label-arrow\">RandomForestClassifier</label><div class=\"sk-toggleable__content\"><pre>RandomForestClassifier(class_weight=&#x27;balanced&#x27;, n_jobs=-1, random_state=42)</pre></div></div></div></div></div></div></div></div></div></div></div></div>"
      ],
      "text/plain": [
       "GridSearchCV(cv=5,\n",
       "             estimator=Pipeline(steps=[('preprocessing',\n",
       "                                        ColumnTransformer(remainder='passthrough',\n",
       "                                                          transformers=[])),\n",
       "                                       ('model',\n",
       "                                        RandomForestClassifier(class_weight='balanced',\n",
       "                                                               n_jobs=-1,\n",
       "                                                               random_state=42))]),\n",
       "             n_jobs=-1,\n",
       "             param_grid={'model__max_depth': array([  1,   1,   3,   6,  11,  21,  39,  73, 135, 250]),\n",
       "                         'model__min_samples_leaf': array([ 1,  1,  2,  3,  5,  7, 11, 17, 26, 40]),\n",
       "                         'model__n_estimators': array([ 25,  32,  43,  57,  75,  99, 131, 172, 227, 300])},\n",
       "             scoring='f1')"
      ]
     },
     "execution_count": 41,
     "metadata": {},
     "output_type": "execute_result"
    }
   ],
   "source": [
    "\n",
    "\n",
    "# gridsearch RandomForestClassifier\n",
    "\n",
    "# setting up pipeline for OneHotEncoding and OrdinalEncoder\n",
    "ohe_transformer = OneHotEncoder(drop='if_binary')\n",
    "ord_transformer = OrdinalEncoder()\n",
    "transformer = ColumnTransformer([#('cat_transformer', ohe_transformer, cat_cols), \n",
    "                                 #('ord_transformer', ord_transformer, ord_cols)\n",
    "                                ], remainder='passthrough')\n",
    "\n",
    "# creating model instance\n",
    "model_rfc = RandomForestClassifier(class_weight='balanced', \n",
    "                                   random_state=42, \n",
    "                                   n_jobs=-1\n",
    "                                  )\n",
    "\n",
    "# creating baseline model pipeline\n",
    "baseline_model = Pipeline([('preprocessing', transformer),\n",
    "                           ('model', model_rfc)])\n",
    "\n",
    "search_space_rfc = {'model__max_depth': np.geomspace(start=1, stop=250, num=10, dtype='int'),\n",
    "                   'model__min_samples_leaf': np.geomspace(start=1, stop=40, num=10, dtype='int'),\n",
    "                    'model__n_estimators': np.geomspace(start=25, stop=300, num=10, dtype='int')}\n",
    "\n",
    "model_rfc = GridSearchCV(estimator=baseline_model,\n",
    "                        param_grid=search_space_rfc,\n",
    "                        scoring='f1',\n",
    "                        cv=5,\n",
    "                        n_jobs=-1)\n",
    "\n",
    "# fitting model\n",
    "model_rfc.fit(features_train[selected_features], target_train)\n"
   ]
  },
  {
   "cell_type": "code",
   "execution_count": 43,
   "metadata": {},
   "outputs": [
    {
     "name": "stdout",
     "output_type": "stream",
     "text": [
      "Pipeline(steps=[('preprocessing',\n",
      "                 ColumnTransformer(remainder='passthrough', transformers=[])),\n",
      "                ('model',\n",
      "                 RandomForestClassifier(class_weight='balanced', max_depth=11,\n",
      "                                        min_samples_leaf=3, n_estimators=172,\n",
      "                                        n_jobs=-1, random_state=42))])\n",
      "recall: 0.6571428571428571\n",
      "precision: 0.7666666666666667\n",
      "f1: 0.7076923076923077\n",
      "accuracy: 0.9057071960297767\n"
     ]
    },
    {
     "data": {
      "image/png": "[encoded data removed]",
      "text/plain": [
       "<Figure size 640x480 with 2 Axes>"
      ]
     },
     "metadata": {},
     "output_type": "display_data"
    }
   ],
   "source": [
    "# predict and evaluate on test data\n",
    "print(model_rfc.best_estimator_)\n",
    "\n",
    "recall = recall_score(target_test, model_rfc.predict(features_test[selected_features]))\n",
    "precision = precision_score(target_test, model_rfc.predict(features_test[selected_features]))\n",
    "f1 = f1_score(target_test, model_rfc.predict(features_test[selected_features]))\n",
    "accuracy = accuracy_score(target_test, model_rfc.predict(features_test[selected_features]))\n",
    "print(f'recall: {recall}')\n",
    "print(f'precision: {precision}')\n",
    "print(f'f1: {f1}')\n",
    "print(f'accuracy: {accuracy}')\n",
    "\n",
    "# confusion matrix for predictions on test data\n",
    "plt.style.use('classic')\n",
    "test_pred = model_rfc.best_estimator_.predict(features_test[selected_features])\n",
    "confusion_matrix(target_test, test_pred)\n",
    "from sklearn.metrics import ConfusionMatrixDisplay\n",
    "ConfusionMatrixDisplay.from_estimator(model_rfc, features_test[selected_features], target_test);"
   ]
  },
  {
   "cell_type": "code",
   "execution_count": null,
   "metadata": {},
   "outputs": [],
   "source": [
    "\n",
    "# Best score with all features\n",
    "# Pipeline(steps=[('transformer',\n",
    "#                  ColumnTransformer(remainder='passthrough', transformers=[])),\n",
    "#                 ('model',\n",
    "#                  RandomForestClassifier(class_weight='balanced', max_depth=25,\n",
    "#                                         min_samples_leaf=3, n_estimators=209,\n",
    "#                                         n_jobs=-1, random_state=42))])\n",
    "# recall: 0.6571428571428571\n",
    "# precision: 0.7796610169491526\n",
    "# f1: 0.7131782945736433\n",
    "# accuracy: 0.9081885856079405\n",
    "\n",
    "# Best score with only top 5 features extracted from feature_importance of DecisionTreeClassifier\n",
    "# ['Age', 'Tumor Size', 'Survival Months', 'Regional Node Examined', 'Regional Node Positive']\n",
    "\n",
    "# Pipeline(steps=[('preprocessing',\n",
    "#                  ColumnTransformer(remainder='passthrough', transformers=[])),\n",
    "#                 ('model',\n",
    "#                  RandomForestClassifier(class_weight='balanced', max_depth=1,\n",
    "#                                         n_estimators=25, n_jobs=-1,\n",
    "#                                         random_state=42))])\n",
    "# recall: 0.6571428571428571\n",
    "# precision: 0.8214285714285714\n",
    "# f1: 0.73015873015873\n",
    "# accuracy: 0.9156327543424317\n"
   ]
  }
 ],
 "metadata": {
  "kernelspec": {
   "display_name": "portfolio_minimal_ds",
   "language": "python",
   "name": "python3"
  },
  "language_info": {
   "codemirror_mode": {
    "name": "ipython",
    "version": 3
   },
   "file_extension": ".py",
   "mimetype": "text/x-python",
   "name": "python",
   "nbconvert_exporter": "python",
   "pygments_lexer": "ipython3",
   "version": "3.10.11"
  },
  "orig_nbformat": 4
 },
 "nbformat": 4,
 "nbformat_minor": 2
}
