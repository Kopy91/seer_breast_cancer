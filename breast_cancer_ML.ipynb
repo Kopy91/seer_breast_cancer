{
 "cells": [
  {
   "attachments": {},
   "cell_type": "markdown",
   "metadata": {},
   "source": [
    "<p id=\"part0\"></p>\n",
    "\n",
    "<p style=\"font-family: Arials; line-height: 1.5; font-size: 24px; font-weight: bold; letter-spacing: 2px; text-align: center; color: #6495ED\"><br>\n",
    "Breast Cancer Risk Prediction <br> Train-Test Split, Data-Preparation, Feature Engenieering, Modeling</p>\n",
    "<br>\n",
    "\n",
    "<p style=\"font-family: Arials; font-size: 20px; font-style: normal; font-weight: bold; letter-spacing: 3px; color: #808080; line-height:1\">TABLE OF CONTENT</p>\n",
    "\n",
    "<p style=\"font-family: Arials; font-size: 16px; font-style: normal; font-weight: bold; letter-spacing: 2px; color: #808080; line-height:1\"><a href=\"#0.\" style=\"color:#808080\">0. Preface</a></p>\n",
    "\n",
    "<p style=\"text-indent: 1vw; font-family: Arials; font-size: 14px; font-style: normal; font-weight: bold; letter-spacing: 2px; color: #808080; line-height:1; padding-left: 50px\">\n",
    "<a href=\"#0.0\" style=\"color:#808080\">0.0 Prologue</a></p>\n",
    "\n",
    "<p style=\"text-indent: 1vw; font-family: Arials; font-size: 14px; font-style: normal; font-weight: bold; letter-spacing: 2px; color: #808080; line-height:1; padding-left: 50px\">\n",
    "<a href=\"#0.1\" style=\"color:#808080\">0.1 Importing Libaries</a></p>\n",
    "\n",
    "<p style=\"font-family: Arials; font-size: 16px; font-style: normal; font-weight: bold; letter-spacing: 2px; color: #808080; line-height:1\"><a href=\"#1.\" style=\"color:#808080\">1. Data Gather</a></p>\n",
    "\n",
    "<p style=\"font-family: Arials; font-size: 16px; font-style: normal; font-weight: bold; letter-spacing: 2px; color: #808080; line-height:1\"><a href=\"#2.\" style=\"color:#808080\">2. Preprocessing</a></p>\n",
    "\n",
    "<p style=\"font-family: Arials; font-size: 16px; font-style: normal; font-weight: bold; letter-spacing: 2px; color: #808080; line-height:1\"><a href=\"#3.\" style=\"color:#808080\">3. Train-Test split</a></p>\n",
    "\n",
    "<p style=\"font-family: Arials; font-size: 16px; font-style: normal; font-weight: bold; letter-spacing: 2px; color: #808080; line-height:1\"><a href=\"#4\" style=\"color:#808080\">4. Modelling</a></p>\n",
    "\n",
    "<p style=\"text-indent: 1vw; font-family: Arials; font-size: 14px; font-style: normal; font-weight: bold; letter-spacing: 2px; color: #808080; line-height:1; padding-left: 20px;\">\n",
    "<a href=\"#4.1\" style=\"color:#808080\">4.1 Test Resampling Methods</a></p>\n",
    "\n",
    "<p style=\"text-indent: 1vw; font-family: Arials; font-size: 14px; font-style: normal; font-weight: bold; letter-spacing: 2px; color: #808080; line-height:1; padding-left: 20px\">\n",
    "<a href=\"#4.2\" style=\"color:#808080\">4.2 Build a baselinemodel</a></p>\n",
    "\n",
    "<p style=\"text-indent: 1vw; font-family: Arials; font-size: 14px; font-style: normal; font-weight: bold; letter-spacing: 2px; color: #808080; line-height:1; padding-left: 20px\">\n",
    "<a href=\"#4.3\" style=\"color:#808080\">4.3 Train models</a></p>\n",
    "\n",
    "<p style=\"text-indent: 1vw; font-family: Arials; font-size: 14px; font-style: normal; font-weight: bold; letter-spacing: 2px; color: #808080; line-height:1; padding-left: 50px\">\n",
    "<a href=\"#4.3.1\" style=\"color:#808080\">4.3.1 Random Forest</a></p>\n",
    "\n",
    "<p style=\"text-indent: 1vw; font-family: Arials; font-size: 14px; font-style: normal; font-weight: bold; letter-spacing: 2px; color: #808080; line-height:1; padding-left: 50px\">\n",
    "<a href=\"#4.3.2\" style=\"color:#808080\">4.3.2 Random Forest with polynomial features</a></p>\n",
    "\n",
    "<p style=\"text-indent: 1vw; font-family: Arials; font-size: 14px; font-style: normal; font-weight: bold; letter-spacing: 2px; color: #808080; line-height:1; padding-left: 50px\">\n",
    "<a href=\"#4.3.3\" style=\"color:#808080\">4.3.3 Logistic Regression</a></p>\n",
    "\n",
    "<p style=\"text-indent: 1vw; font-family: Arials; font-size: 14px; font-style: normal; font-weight: bold; letter-spacing: 2px; color: #808080; line-height:1; padding-left: 50px\">\n",
    "<a href=\"#4.4.4\" style=\"color:#808080\">4.3.4 Support vector machine with Gaussian kernel</a></p>\n",
    "\n",
    "<p style=\"text-indent: 1vw; font-family: Arials; font-size: 14px; font-style: normal; font-weight: bold; letter-spacing: 2px; color: #808080; line-height:1; padding-left: 20px\">\n",
    "<a href=\"#4.4\" style=\"color:#808080\">4.4 Model selection</a></p>\n"
   ]
  },
  {
   "attachments": {},
   "cell_type": "markdown",
   "metadata": {},
   "source": [
    "<p id=\"0.\"></p>\n",
    "\n",
    "# <span style=\"font-family: Arials; font-size: 20px; font-style: normal; font-weight: bold; letter-spacing: 3px; color: #6495ED\">0. Preface</span>\n",
    "<hr style=\"height: 0.5px; border: 0; background-color: #e24a33\">\n"
   ]
  },
  {
   "attachments": {},
   "cell_type": "markdown",
   "metadata": {},
   "source": [
    "<p id=\"0.0\"></p>\n",
    "\n",
    "<p style=\"font-family: Arials; font-size: 16px; font-style: normal; font-weight: bold; letter-spacing: 3px; color: #6495ED; line-height:1.0\">0.0 Prologue</p>"
   ]
  },
  {
   "attachments": {},
   "cell_type": "markdown",
   "metadata": {},
   "source": [
    "..."
   ]
  },
  {
   "attachments": {},
   "cell_type": "markdown",
   "metadata": {},
   "source": [
    "<p id=\"0.1\"></p>\n",
    "\n",
    "<p style=\"font-family: Arials; font-size: 16px; font-style: normal; font-weight: bold; letter-spacing: 3px; color: #6495ED; line-height:1.0\">0.1 Importing Libaries</p>"
   ]
  },
  {
   "cell_type": "code",
   "execution_count": 1,
   "metadata": {},
   "outputs": [
    {
     "name": "stderr",
     "output_type": "stream",
     "text": [
      "C:\\Users\\flori\\AppData\\Local\\Temp\\ipykernel_20344\\1183943992.py:19: MatplotlibDeprecationWarning: The seaborn styles shipped by Matplotlib are deprecated since 3.6, as they no longer correspond to the styles shipped by seaborn. However, they will remain available as 'seaborn-v0_8-<style>'. Alternatively, directly use the seaborn API instead.\n",
      "  plt.style.use('seaborn')\n"
     ]
    }
   ],
   "source": [
    "# import modules\n",
    "import pandas as pd\n",
    "import numpy as np\n",
    "import seaborn as sns\n",
    "import matplotlib.pyplot as plt\n",
    "from sklearn.preprocessing import StandardScaler, MinMaxScaler\n",
    "from sklearn.preprocessing import RobustScaler\n",
    "from sklearn.model_selection import GridSearchCV\n",
    "from sklearn.ensemble import RandomForestClassifier\n",
    "from sklearn.linear_model import LogisticRegression\n",
    "from sklearn.metrics import f1_score, recall_score, precision_score, accuracy_score, confusion_matrix, classification_report\n",
    "from sklearn.preprocessing import OneHotEncoder\n",
    "from sklearn.compose import ColumnTransformer\n",
    "from sklearn.preprocessing import LabelEncoder\n",
    "from sklearn.preprocessing import OrdinalEncoder\n",
    "from sklearn.model_selection import train_test_split\n",
    "from sklearn.pipeline import Pipeline\n",
    "import pickle\n",
    "plt.style.use('seaborn')\n",
    "\n",
    "from imblearn.over_sampling import SMOTE, RandomOverSampler\n",
    "from imblearn.under_sampling import RandomUnderSampler\n",
    "from imblearn.pipeline import Pipeline\n",
    "from sklearn.tree import DecisionTreeClassifier # pipeline builder can handle\n",
    "\n",
    "from sklearn.tree import plot_tree"
   ]
  },
  {
   "attachments": {},
   "cell_type": "markdown",
   "metadata": {},
   "source": [
    "<p id=\"1.\"></p>\n",
    "\n",
    "# <span style=\"font-family: Arials; font-size: 20px; font-style: normal; font-weight: bold; letter-spacing: 3px; color: #6495ED\">1. Data Gather</span>\n",
    "<hr style=\"height: 0.5px; border: 0; background-color: #e24a33\">"
   ]
  },
  {
   "cell_type": "code",
   "execution_count": 2,
   "metadata": {},
   "outputs": [],
   "source": [
    "# reading in data as df\n",
    "df = pd.read_csv('Breast_Cancer.csv', delimiter=',')"
   ]
  },
  {
   "attachments": {},
   "cell_type": "markdown",
   "metadata": {},
   "source": [
    "<p id=\"2.\"></p>\n",
    "\n",
    "# <span style=\"font-family: Arials; font-size: 20px; font-style: normal; font-weight: bold; letter-spacing: 3px; color: #6495ED\">2. Preprocessing</span>\n",
    "<hr style=\"height: 0.5px; border: 0; background-color: #e24a33\">"
   ]
  },
  {
   "cell_type": "code",
   "execution_count": 10,
   "metadata": {},
   "outputs": [],
   "source": [
    "def clean_data(df):\n",
    "    \"\"\"Returns cleaned DataFrame.\n",
    "    \n",
    "    Correcting typos\n",
    "    Transform datatypes from object to category\n",
    "    Drop column 'Grade'\n",
    "\n",
    "    Args: \n",
    "        df (pd.DataFrame) : uncleaned DataFrame\n",
    "        \n",
    "    Returns:\n",
    "        df  (pd.DataFrame) : cleaned DataFrame\n",
    "    \"\"\"\n",
    "    # correcting typos\n",
    "    df = df.rename(columns={'T Stage ':'T Stage'})\n",
    "    df = df.rename(columns={'Reginol Node Positive': 'Regional Node Positive'})\n",
    "\n",
    "    # remapping target column\n",
    "    df.loc[:,'Status_encoded'] = df.loc[:,'Status'].map({'Alive':0, 'Dead':1})\n",
    "\n",
    "    # changing dtypes of columns as needed\n",
    "    dtypes_columns = {'Age' : 'int64',\n",
    "        'Race' : 'category',\n",
    "        'Marital Status' : 'category',\n",
    "        'T Stage' : 'category', \n",
    "        'N Stage' : 'category',\n",
    "        '6th Stage' : 'category',\n",
    "        'differentiate' : 'category',\n",
    "        'Grade' : 'category',\n",
    "        'A Stage' : 'category', \n",
    "        'Tumor Size' : 'int64',\n",
    "        'Estrogen Status' : 'category',\n",
    "        'Progesterone Status' : 'category',\n",
    "        'Regional Node Examined' : 'int64',\n",
    "        'Regional Node Positive' : 'int64',\n",
    "        'Survival Months' : 'int64',\n",
    "        'Status' : 'category',\n",
    "        'Status_encoded' : 'int64',\n",
    "        'Node_Exam_Pos_Rate': 'float64',\n",
    "        'Estrogen_Progesteron_Status': 'category'}\n",
    "    df = df.astype(dtypes_columns)\n",
    "\n",
    "    # drop 'Grade' columns because the information is the same as in the 'differentiate' column\n",
    "    df.drop('Status', axis=1, inplace=True)\n",
    "    df.drop('Grade', axis=1, inplace=True)\n",
    "\n",
    "    return df"
   ]
  },
  {
   "cell_type": "code",
   "execution_count": 4,
   "metadata": {},
   "outputs": [],
   "source": [
    "# save clean_data function as pickle\n",
    "pickle.dump(clean_data, open('clean_data.p', 'wb'))"
   ]
  },
  {
   "cell_type": "code",
   "execution_count": 5,
   "metadata": {},
   "outputs": [],
   "source": [
    "# load clean_data\n",
    "file_name = 'clean_data.p'\n",
    "clean_data = pickle.load(open(file_name, 'rb'))"
   ]
  },
  {
   "cell_type": "code",
   "execution_count": 6,
   "metadata": {},
   "outputs": [],
   "source": [
    "def feature_engineering(df):\n",
    "    \"\"\"Add new Features to Dataframe.\n",
    "    \n",
    "    Add features Node_Exam_Pos_Rate and Estrogen Status\n",
    "       \n",
    "    Args:\n",
    "        df (pd.DataFrame): Dataframe\n",
    "        ohe_transformer: The fitted ohe_transformer\n",
    "    \n",
    "    Returns:\n",
    "        (pd.DataFrame) : Dataframe with new Features\n",
    "    \"\"\" \n",
    "\n",
    "    # ['Node_Examined_Pos_Rate']: Positive Nodes per Examined Nodes\n",
    "    df.loc[:,'Node_Exam_Pos_Rate'] = df.loc[:,'Reginol Node Positive']/df.loc[:,'Regional Node Examined']\n",
    "\n",
    "    #['Progesteron_Estrogen_Status']: Positive status if status of both receptors is positive\n",
    "    mask = (df['Estrogen Status'] == 'Positive') | (df['Progesterone Status'] == 'Positive')\n",
    "    conditions = [mask, ~mask]\n",
    "    values = ['Positive', 'Negative']\n",
    "    df['Estrogen_Progesteron_Status'] = np.select(conditions, values)\n",
    "\n",
    "    return df\n",
    "    "
   ]
  },
  {
   "cell_type": "code",
   "execution_count": 7,
   "metadata": {},
   "outputs": [],
   "source": [
    "# save feature_engineering function as pickle\n",
    "pickle.dump(feature_engineering, open('feature_engineering.p', 'wb'))"
   ]
  },
  {
   "cell_type": "code",
   "execution_count": 8,
   "metadata": {},
   "outputs": [],
   "source": [
    "# load feature_engineering\n",
    "file_name = 'feature_engineering.p'\n",
    "feature_engineering = pickle.load(open(file_name, 'rb'))"
   ]
  },
  {
   "cell_type": "code",
   "execution_count": 12,
   "metadata": {},
   "outputs": [
    {
     "data": {
      "text/html": [
       "<div>\n",
       "<style scoped>\n",
       "    .dataframe tbody tr th:only-of-type {\n",
       "        vertical-align: middle;\n",
       "    }\n",
       "\n",
       "    .dataframe tbody tr th {\n",
       "        vertical-align: top;\n",
       "    }\n",
       "\n",
       "    .dataframe thead th {\n",
       "        text-align: right;\n",
       "    }\n",
       "</style>\n",
       "<table border=\"1\" class=\"dataframe\">\n",
       "  <thead>\n",
       "    <tr style=\"text-align: right;\">\n",
       "      <th></th>\n",
       "      <th>Age</th>\n",
       "      <th>Race</th>\n",
       "      <th>Marital Status</th>\n",
       "      <th>T Stage</th>\n",
       "      <th>N Stage</th>\n",
       "      <th>6th Stage</th>\n",
       "      <th>differentiate</th>\n",
       "      <th>A Stage</th>\n",
       "      <th>Tumor Size</th>\n",
       "      <th>Estrogen Status</th>\n",
       "      <th>Progesterone Status</th>\n",
       "      <th>Regional Node Examined</th>\n",
       "      <th>Regional Node Positive</th>\n",
       "      <th>Survival Months</th>\n",
       "      <th>Node_Exam_Pos_Rate</th>\n",
       "      <th>Estrogen_Progesteron_Status</th>\n",
       "      <th>Status_encoded</th>\n",
       "    </tr>\n",
       "  </thead>\n",
       "  <tbody>\n",
       "    <tr>\n",
       "      <th>0</th>\n",
       "      <td>68</td>\n",
       "      <td>White</td>\n",
       "      <td>Married</td>\n",
       "      <td>T1</td>\n",
       "      <td>N1</td>\n",
       "      <td>IIA</td>\n",
       "      <td>Poorly differentiated</td>\n",
       "      <td>Regional</td>\n",
       "      <td>4</td>\n",
       "      <td>Positive</td>\n",
       "      <td>Positive</td>\n",
       "      <td>24</td>\n",
       "      <td>1</td>\n",
       "      <td>60</td>\n",
       "      <td>0.041667</td>\n",
       "      <td>Positive</td>\n",
       "      <td>0</td>\n",
       "    </tr>\n",
       "    <tr>\n",
       "      <th>1</th>\n",
       "      <td>50</td>\n",
       "      <td>White</td>\n",
       "      <td>Married</td>\n",
       "      <td>T2</td>\n",
       "      <td>N2</td>\n",
       "      <td>IIIA</td>\n",
       "      <td>Moderately differentiated</td>\n",
       "      <td>Regional</td>\n",
       "      <td>35</td>\n",
       "      <td>Positive</td>\n",
       "      <td>Positive</td>\n",
       "      <td>14</td>\n",
       "      <td>5</td>\n",
       "      <td>62</td>\n",
       "      <td>0.357143</td>\n",
       "      <td>Positive</td>\n",
       "      <td>0</td>\n",
       "    </tr>\n",
       "    <tr>\n",
       "      <th>2</th>\n",
       "      <td>58</td>\n",
       "      <td>White</td>\n",
       "      <td>Divorced</td>\n",
       "      <td>T3</td>\n",
       "      <td>N3</td>\n",
       "      <td>IIIC</td>\n",
       "      <td>Moderately differentiated</td>\n",
       "      <td>Regional</td>\n",
       "      <td>63</td>\n",
       "      <td>Positive</td>\n",
       "      <td>Positive</td>\n",
       "      <td>14</td>\n",
       "      <td>7</td>\n",
       "      <td>75</td>\n",
       "      <td>0.500000</td>\n",
       "      <td>Positive</td>\n",
       "      <td>0</td>\n",
       "    </tr>\n",
       "    <tr>\n",
       "      <th>3</th>\n",
       "      <td>58</td>\n",
       "      <td>White</td>\n",
       "      <td>Married</td>\n",
       "      <td>T1</td>\n",
       "      <td>N1</td>\n",
       "      <td>IIA</td>\n",
       "      <td>Poorly differentiated</td>\n",
       "      <td>Regional</td>\n",
       "      <td>18</td>\n",
       "      <td>Positive</td>\n",
       "      <td>Positive</td>\n",
       "      <td>2</td>\n",
       "      <td>1</td>\n",
       "      <td>84</td>\n",
       "      <td>0.500000</td>\n",
       "      <td>Positive</td>\n",
       "      <td>0</td>\n",
       "    </tr>\n",
       "    <tr>\n",
       "      <th>4</th>\n",
       "      <td>47</td>\n",
       "      <td>White</td>\n",
       "      <td>Married</td>\n",
       "      <td>T2</td>\n",
       "      <td>N1</td>\n",
       "      <td>IIB</td>\n",
       "      <td>Poorly differentiated</td>\n",
       "      <td>Regional</td>\n",
       "      <td>41</td>\n",
       "      <td>Positive</td>\n",
       "      <td>Positive</td>\n",
       "      <td>3</td>\n",
       "      <td>1</td>\n",
       "      <td>50</td>\n",
       "      <td>0.333333</td>\n",
       "      <td>Positive</td>\n",
       "      <td>0</td>\n",
       "    </tr>\n",
       "  </tbody>\n",
       "</table>\n",
       "</div>"
      ],
      "text/plain": [
       "   Age   Race Marital Status T Stage N Stage 6th Stage  \\\n",
       "0   68  White        Married      T1      N1       IIA   \n",
       "1   50  White        Married      T2      N2      IIIA   \n",
       "2   58  White       Divorced      T3      N3      IIIC   \n",
       "3   58  White        Married      T1      N1       IIA   \n",
       "4   47  White        Married      T2      N1       IIB   \n",
       "\n",
       "               differentiate   A Stage  Tumor Size Estrogen Status  \\\n",
       "0      Poorly differentiated  Regional           4        Positive   \n",
       "1  Moderately differentiated  Regional          35        Positive   \n",
       "2  Moderately differentiated  Regional          63        Positive   \n",
       "3      Poorly differentiated  Regional          18        Positive   \n",
       "4      Poorly differentiated  Regional          41        Positive   \n",
       "\n",
       "  Progesterone Status  Regional Node Examined  Regional Node Positive  \\\n",
       "0            Positive                      24                       1   \n",
       "1            Positive                      14                       5   \n",
       "2            Positive                      14                       7   \n",
       "3            Positive                       2                       1   \n",
       "4            Positive                       3                       1   \n",
       "\n",
       "   Survival Months  Node_Exam_Pos_Rate Estrogen_Progesteron_Status  \\\n",
       "0               60            0.041667                    Positive   \n",
       "1               62            0.357143                    Positive   \n",
       "2               75            0.500000                    Positive   \n",
       "3               84            0.500000                    Positive   \n",
       "4               50            0.333333                    Positive   \n",
       "\n",
       "   Status_encoded  \n",
       "0               0  \n",
       "1               0  \n",
       "2               0  \n",
       "3               0  \n",
       "4               0  "
      ]
     },
     "execution_count": 12,
     "metadata": {},
     "output_type": "execute_result"
    }
   ],
   "source": [
    "# adding two new features\n",
    "df = feature_engineering(df)\n",
    "\n",
    "# clean dataframe\n",
    "df_clean = clean_data(df)\n",
    "df_clean.head()"
   ]
  },
  {
   "attachments": {},
   "cell_type": "markdown",
   "metadata": {},
   "source": [
    "<p id=\"3.\"></p>\n",
    "\n",
    "# <span style=\"font-family: Arials; font-size: 20px; font-style: normal; font-weight: bold; letter-spacing: 3px; color: #6495ED\">3. Train-Test split</span>\n",
    "<hr style=\"height: 0.5px; border: 0; background-color: #e24a33\">"
   ]
  },
  {
   "cell_type": "code",
   "execution_count": 13,
   "metadata": {},
   "outputs": [],
   "source": [
    "# creating target and features \n",
    "target = df_clean.loc[:,'Status_encoded']\n",
    "#features = df.drop('Status', axis=1)\n",
    "features = df_clean.drop('Status_encoded', axis=1)\n",
    "\n",
    "# train and test split\n",
    "features_train, features_test, target_train, target_test = train_test_split(features, \n",
    "                                                                            target, \n",
    "                                                                            random_state=42,\n",
    "                                                                            test_size=0.1)"
   ]
  },
  {
   "cell_type": "code",
   "execution_count": 53,
   "metadata": {},
   "outputs": [],
   "source": [
    "# save features_test and target_test as 'features_test.csv' and 'target_test.csv' respectively\n",
    "features_test.to_csv('features_test.csv', index=False)\n",
    "target_test.to_csv('target_test.csv', index=False)"
   ]
  },
  {
   "attachments": {},
   "cell_type": "markdown",
   "metadata": {},
   "source": [
    "<p id=\"4.\"></p>\n",
    "\n",
    "# <span style=\"font-family: Arials; font-size: 20px; font-style: normal; font-weight: bold; letter-spacing: 3px; color: #6495ED\">4. Modelling</span>\n",
    "<hr style=\"height: 0.5px; border: 0; background-color: #e24a33\">"
   ]
  },
  {
   "attachments": {},
   "cell_type": "markdown",
   "metadata": {},
   "source": [
    "<p id=\"4.1\"></p>\n",
    "\n",
    "# <span style=\"font-family: Arials; font-size: 20px; font-style: normal; font-weight: bold; letter-spacing: 3px; color: #e24a33\">4.1 Build a baseline model</span>\n",
    "<hr style=\"height: 0.5px; border: 0; background-color: #e24a33\">"
   ]
  },
  {
   "cell_type": "code",
   "execution_count": 14,
   "metadata": {},
   "outputs": [],
   "source": [
    "# creating lists of categorical, ordinal and numerical columns\n",
    "cat_cols = ['Race', 'Marital Status', 'Estrogen Status', 'Progesterone Status', 'Estrogen_Progesteron_Status']\n",
    "ord_cols = ['T Stage', 'N Stage', '6th Stage', 'differentiate', 'A Stage']\n",
    "num_cols = [col for col in features_train.select_dtypes(include=[\"int64\",\"float64\"])]"
   ]
  },
  {
   "attachments": {},
   "cell_type": "markdown",
   "metadata": {},
   "source": [
    "<p id=\"4.1\"></p>\n",
    "\n",
    "# <span style=\"font-family: Arials; font-size: 20px; font-style: normal; font-weight: bold; letter-spacing: 3px; color: #6495ED\">4.1 Test resampling methods</span>\n",
    "<hr style=\"height: 0.5px; border: 0; background-color: #e24a33\">"
   ]
  },
  {
   "attachments": {},
   "cell_type": "markdown",
   "metadata": {},
   "source": [
    "Our baseline model will be a DecisionTreeClassifier for easy interpretability.\n",
    "\n",
    "First we have to deal with the inbalance of our target variable."
   ]
  },
  {
   "cell_type": "code",
   "execution_count": 15,
   "metadata": {},
   "outputs": [
    {
     "data": {
      "text/html": [
       "<div>\n",
       "<style scoped>\n",
       "    .dataframe tbody tr th:only-of-type {\n",
       "        vertical-align: middle;\n",
       "    }\n",
       "\n",
       "    .dataframe tbody tr th {\n",
       "        vertical-align: top;\n",
       "    }\n",
       "\n",
       "    .dataframe thead th {\n",
       "        text-align: right;\n",
       "    }\n",
       "</style>\n",
       "<table border=\"1\" class=\"dataframe\">\n",
       "  <thead>\n",
       "    <tr style=\"text-align: right;\">\n",
       "      <th></th>\n",
       "      <th>0</th>\n",
       "      <th>1</th>\n",
       "      <th>2</th>\n",
       "      <th>3</th>\n",
       "    </tr>\n",
       "  </thead>\n",
       "  <tbody>\n",
       "    <tr>\n",
       "      <th>name</th>\n",
       "      <td>DecisionTreeClassifier with OVERSAMPLING</td>\n",
       "      <td>DecisionTreeClassifier with UNDERSAMPLING</td>\n",
       "      <td>DecisionTreeClassifier with CLASS_WEIGHTS</td>\n",
       "      <td>DecisionTreeClassifier with SMOTE</td>\n",
       "    </tr>\n",
       "    <tr>\n",
       "      <th>accuracy</th>\n",
       "      <td>89.081886</td>\n",
       "      <td>77.419355</td>\n",
       "      <td>92.059553</td>\n",
       "      <td>88.585608</td>\n",
       "    </tr>\n",
       "    <tr>\n",
       "      <th>precision</th>\n",
       "      <td>69.69697</td>\n",
       "      <td>42.657343</td>\n",
       "      <td>85.185185</td>\n",
       "      <td>70.0</td>\n",
       "    </tr>\n",
       "    <tr>\n",
       "      <th>recall</th>\n",
       "      <td>65.714286</td>\n",
       "      <td>87.142857</td>\n",
       "      <td>65.714286</td>\n",
       "      <td>60.0</td>\n",
       "    </tr>\n",
       "    <tr>\n",
       "      <th>f1</th>\n",
       "      <td>67.647059</td>\n",
       "      <td>57.276995</td>\n",
       "      <td>74.193548</td>\n",
       "      <td>64.615385</td>\n",
       "    </tr>\n",
       "    <tr>\n",
       "      <th>best model</th>\n",
       "      <td>DecisionTreeClassifier(max_depth=4, random_sta...</td>\n",
       "      <td>DecisionTreeClassifier(max_depth=2, random_sta...</td>\n",
       "      <td>DecisionTreeClassifier(max_depth=2, random_sta...</td>\n",
       "      <td>DecisionTreeClassifier(max_depth=6, random_sta...</td>\n",
       "    </tr>\n",
       "  </tbody>\n",
       "</table>\n",
       "</div>"
      ],
      "text/plain": [
       "                                                            0  \\\n",
       "name                 DecisionTreeClassifier with OVERSAMPLING   \n",
       "accuracy                                            89.081886   \n",
       "precision                                            69.69697   \n",
       "recall                                              65.714286   \n",
       "f1                                                  67.647059   \n",
       "best model  DecisionTreeClassifier(max_depth=4, random_sta...   \n",
       "\n",
       "                                                            1  \\\n",
       "name                DecisionTreeClassifier with UNDERSAMPLING   \n",
       "accuracy                                            77.419355   \n",
       "precision                                           42.657343   \n",
       "recall                                              87.142857   \n",
       "f1                                                  57.276995   \n",
       "best model  DecisionTreeClassifier(max_depth=2, random_sta...   \n",
       "\n",
       "                                                            2  \\\n",
       "name                DecisionTreeClassifier with CLASS_WEIGHTS   \n",
       "accuracy                                            92.059553   \n",
       "precision                                           85.185185   \n",
       "recall                                              65.714286   \n",
       "f1                                                  74.193548   \n",
       "best model  DecisionTreeClassifier(max_depth=2, random_sta...   \n",
       "\n",
       "                                                            3  \n",
       "name                        DecisionTreeClassifier with SMOTE  \n",
       "accuracy                                            88.585608  \n",
       "precision                                                70.0  \n",
       "recall                                                   60.0  \n",
       "f1                                                  64.615385  \n",
       "best model  DecisionTreeClassifier(max_depth=6, random_sta...  "
      ]
     },
     "execution_count": 15,
     "metadata": {},
     "output_type": "execute_result"
    }
   ],
   "source": [
    "# testing different resampling methods\n",
    "# running time: 9.3s\n",
    "\n",
    "search_space = {'estimator__max_depth': range(2, 16, 2),\n",
    "                'estimator__class_weight': [None, 'balanced']}\n",
    "samplers = [('oversampling', RandomOverSampler(random_state=42)),\n",
    "            ('undersampling', RandomUnderSampler(random_state=42)),\n",
    "            ('class_weights', 'passthrough'),\n",
    "            ('smote', SMOTE(random_state=42))\n",
    "           ]\n",
    "sampling_results = []\n",
    "\n",
    "# go through every sampler\n",
    "for name, sampler in samplers:\n",
    "    # sampling\n",
    "    imb_pipe = Pipeline([('preprocessing', ColumnTransformer(transformers=[\n",
    "                            ('encoder', OneHotEncoder(handle_unknown='ignore'), cat_cols),\n",
    "                            ('ord_transformer', OrdinalEncoder(), ord_cols)\n",
    "                        ], remainder='passthrough')),\n",
    "                        ('sampler', sampler),\n",
    "                        ('estimator', DecisionTreeClassifier(random_state=42))\n",
    "                        ])\n",
    "    \n",
    "    # gridsearch and CV\n",
    "    grid_tree = GridSearchCV(estimator=imb_pipe, \n",
    "                        param_grid=search_space,\n",
    "                        n_jobs=-1,\n",
    "                        cv=5,\n",
    "                        scoring='f1')\n",
    "    \n",
    "    grid_tree.fit(features_train, target_train)\n",
    "\n",
    "    target_pred_tree = grid_tree.predict(features_test)\n",
    "\n",
    "    score = {'name': \"DecisionTreeClassifier with \" + name.upper(),\n",
    "        'accuracy': accuracy_score(target_test, target_pred_tree) * 100,\n",
    "        'precision': precision_score(target_test, target_pred_tree) * 100,\n",
    "        'recall': recall_score(target_test, target_pred_tree) * 100,\n",
    "        'f1': f1_score(target_test, target_pred_tree) * 100,\n",
    "        'best model': grid_tree.best_estimator_.named_steps['estimator']\n",
    "        }\n",
    "    sampling_results.append(score)\n",
    "# show results \n",
    "pd.DataFrame(sampling_results).T"
   ]
  },
  {
   "attachments": {},
   "cell_type": "markdown",
   "metadata": {},
   "source": [
    "We note that class_weights performs best for sampling. We will use the parameter class_weight for resampling our models."
   ]
  },
  {
   "attachments": {},
   "cell_type": "markdown",
   "metadata": {},
   "source": [
    "<p id=\"4.2\"></p>\n",
    "\n",
    "# <span style=\"font-family: Arials; font-size: 20px; font-style: normal; font-weight: bold; letter-spacing: 3px; color: #6495ED\">4.2 Build a baseline model</span>\n",
    "<hr style=\"height: 0.5px; border: 0; background-color: #e24a33\">"
   ]
  },
  {
   "cell_type": "code",
   "execution_count": 16,
   "metadata": {},
   "outputs": [],
   "source": [
    "# list of metrics of all models\n",
    "model_results = []"
   ]
  },
  {
   "cell_type": "code",
   "execution_count": 17,
   "metadata": {},
   "outputs": [
    {
     "name": "stdout",
     "output_type": "stream",
     "text": [
      "best score\n",
      "0.6088559433566457\n",
      "best model parameter\n",
      "{'estimator__class_weight': None, 'estimator__max_depth': 2}\n",
      "Baseline model DecisionTreeClassifier(max_depth=2, random_state=42)\n"
     ]
    },
    {
     "data": {
      "text/html": [
       "<div>\n",
       "<style scoped>\n",
       "    .dataframe tbody tr th:only-of-type {\n",
       "        vertical-align: middle;\n",
       "    }\n",
       "\n",
       "    .dataframe tbody tr th {\n",
       "        vertical-align: top;\n",
       "    }\n",
       "\n",
       "    .dataframe thead th {\n",
       "        text-align: right;\n",
       "    }\n",
       "</style>\n",
       "<table border=\"1\" class=\"dataframe\">\n",
       "  <thead>\n",
       "    <tr style=\"text-align: right;\">\n",
       "      <th></th>\n",
       "      <th>0</th>\n",
       "    </tr>\n",
       "  </thead>\n",
       "  <tbody>\n",
       "    <tr>\n",
       "      <th>name</th>\n",
       "      <td>Baseline model</td>\n",
       "    </tr>\n",
       "    <tr>\n",
       "      <th>accuracy</th>\n",
       "      <td>92.059553</td>\n",
       "    </tr>\n",
       "    <tr>\n",
       "      <th>precision</th>\n",
       "      <td>85.185185</td>\n",
       "    </tr>\n",
       "    <tr>\n",
       "      <th>recall</th>\n",
       "      <td>65.714286</td>\n",
       "    </tr>\n",
       "    <tr>\n",
       "      <th>f1</th>\n",
       "      <td>74.193548</td>\n",
       "    </tr>\n",
       "  </tbody>\n",
       "</table>\n",
       "</div>"
      ],
      "text/plain": [
       "                        0\n",
       "name       Baseline model\n",
       "accuracy        92.059553\n",
       "precision       85.185185\n",
       "recall          65.714286\n",
       "f1              74.193548"
      ]
     },
     "execution_count": 17,
     "metadata": {},
     "output_type": "execute_result"
    }
   ],
   "source": [
    "# our baseline model\n",
    "\n",
    "pipeline_baseline = Pipeline([('preprocessing', ColumnTransformer(transformers=[\n",
    "                            ('encoder', OneHotEncoder(handle_unknown='ignore'), cat_cols),\n",
    "                            ('ord_transformer', OrdinalEncoder(), ord_cols)\n",
    "                        ], remainder='passthrough')),\n",
    "                        ('estimator', DecisionTreeClassifier(class_weight='balanced', random_state=42))])\n",
    "\n",
    "grid_tree = GridSearchCV(estimator=pipeline_baseline, \n",
    "                        param_grid=search_space,\n",
    "                        n_jobs=-1,\n",
    "                        cv=5,\n",
    "                        scoring='f1')\n",
    "grid_tree.fit(features_train, target_train)\n",
    "\n",
    "# Print the training score of the best model\n",
    "print(\"best score\")\n",
    "print(grid_tree.best_score_)\n",
    "\n",
    "# Print the model parameters of the best model\n",
    "print(\"best model parameter\")\n",
    "print(grid_tree.best_params_)\n",
    "\n",
    "baseline_model = grid_tree.best_estimator_['estimator']\n",
    "print(\"Baseline model\", baseline_model)\n",
    "\n",
    "# Print the val score of the best model\n",
    "#predict\n",
    "target_pred_tree = grid_tree.best_estimator_.predict(features_test)\n",
    "\n",
    "#save\n",
    "scores = {'name': \"Baseline model\",\n",
    "          'accuracy': accuracy_score(target_test, target_pred_tree) * 100,\n",
    "          'precision': precision_score(target_test, target_pred_tree) * 100,\n",
    "          'recall': recall_score(target_test, target_pred_tree) * 100,\n",
    "          'f1': f1_score(target_test, target_pred_tree) * 100,\n",
    "        }\n",
    "model_results.append(scores)\n",
    "    \n",
    "#show results\n",
    "pd.DataFrame(model_results).T"
   ]
  },
  {
   "cell_type": "code",
   "execution_count": 18,
   "metadata": {},
   "outputs": [
    {
     "data": {
      "image/png": "[encoded data removed]",
      "text/plain": [
       "<Figure size 640x480 with 2 Axes>"
      ]
     },
     "metadata": {},
     "output_type": "display_data"
    }
   ],
   "source": [
    "from sklearn.metrics import ConfusionMatrixDisplay\n",
    "\n",
    "# confusion matrix for predictions on test data\n",
    "plt.style.use('classic')\n",
    "test_pred = grid_tree.best_estimator_.predict(features_test)\n",
    "confusion_matrix(target_test, test_pred)\n",
    "\n",
    "ConfusionMatrixDisplay.from_estimator(grid_tree, features_test, target_test);"
   ]
  },
  {
   "cell_type": "code",
   "execution_count": 19,
   "metadata": {},
   "outputs": [
    {
     "name": "stdout",
     "output_type": "stream",
     "text": [
      "Classification Report:\n",
      "               precision    recall  f1-score   support\n",
      "\n",
      "           0       0.93      0.98      0.95       333\n",
      "           1       0.85      0.66      0.74        70\n",
      "\n",
      "    accuracy                           0.92       403\n",
      "   macro avg       0.89      0.82      0.85       403\n",
      "weighted avg       0.92      0.92      0.92       403\n",
      "\n"
     ]
    }
   ],
   "source": [
    "# report\n",
    "report = classification_report(target_test, target_pred_tree)\n",
    "print(\"Classification Report:\\n\", report)"
   ]
  },
  {
   "attachments": {},
   "cell_type": "markdown",
   "metadata": {},
   "source": [
    "We plot our decision tree."
   ]
  },
  {
   "cell_type": "code",
   "execution_count": null,
   "metadata": {},
   "outputs": [],
   "source": [
    "plot_tree(decision_tree=baseline_model,\n",
    "          feature_names=pipeline_baseline.named_steps['preprocessing'].get_feature_names_out(),\n",
    "          class_names=['Alive','Dead'],\n",
    "          filled=True);"
   ]
  },
  {
   "cell_type": "code",
   "execution_count": 25,
   "metadata": {},
   "outputs": [
    {
     "data": {
      "image/png": "[encoded data removed]",
      "text/plain": [
       "<IPython.core.display.Image object>"
      ]
     },
     "execution_count": 25,
     "metadata": {
      "image/png": {
       "height": 400,
       "width": 800
      }
     },
     "output_type": "execute_result"
    }
   ],
   "source": [
    "from IPython.display import Image\n",
    "Image(filename='tree_dec.png',width=800, height=400)"
   ]
  },
  {
   "attachments": {},
   "cell_type": "markdown",
   "metadata": {},
   "source": [
    "We consider the roc curve of our model."
   ]
  },
  {
   "cell_type": "code",
   "execution_count": 26,
   "metadata": {},
   "outputs": [
    {
     "data": {
      "image/png": "[encoded data removed]",
      "text/plain": [
       "<Figure size 640x480 with 1 Axes>"
      ]
     },
     "metadata": {},
     "output_type": "display_data"
    }
   ],
   "source": [
    "# print roc-curve\n",
    "\n",
    "# create DataFrame with one column named prediction\n",
    "df_pred_test = pd.DataFrame(target_pred_tree, columns=['prediction'])\n",
    "\n",
    "# predict probabilities and add them as new column\n",
    "df_pred_test.loc[:, 'probability'] = grid_tree.best_estimator_.predict_proba(features_test)[:, 1]  \n",
    "\n",
    "# calculate roc-curve\n",
    "from sklearn.metrics import roc_curve\n",
    "\n",
    "false_positive_rate, recall, threshold = roc_curve(target_test, df_pred_test.loc[:, 'probability']) \n",
    "\n",
    "# plotting\n",
    "plt.style.use('ggplot')\n",
    "\n",
    "# figure and axes intialisation\n",
    "fig, ax = plt.subplots()\n",
    "\n",
    "# reference lines\n",
    "ax.plot([0, 1], ls = \"--\")  # blue diagonal\n",
    "ax.plot([0, 0], [1, 0], c=\".7\", ls='--')  # grey vertical\n",
    "ax.plot([1, 1], c=\".7\", ls='--')  # grey horizontal\n",
    "\n",
    "# roc curve\n",
    "ax.plot(false_positive_rate, recall)\n",
    "\n",
    "# labels\n",
    "ax.set_title(\"Receiver Operating Characteristic\")\n",
    "ax.set_xlabel(\"False Positive Rate\")\n",
    "ax.set_ylabel(\"Recall\");"
   ]
  },
  {
   "cell_type": "code",
   "execution_count": 27,
   "metadata": {},
   "outputs": [],
   "source": [
    "# save best grid_tree as pickle\n",
    "pickle.dump(grid_tree, open('grid_tree.p', 'wb'))"
   ]
  },
  {
   "cell_type": "code",
   "execution_count": 28,
   "metadata": {},
   "outputs": [],
   "source": [
    "# load grid_tree\n",
    "file_name = 'grid_tree.p'\n",
    "grid_tree = pickle.load(open(file_name, 'rb'))"
   ]
  },
  {
   "attachments": {},
   "cell_type": "markdown",
   "metadata": {},
   "source": [
    "<p id=\"4.3\"></p>\n",
    "\n",
    "# <span style=\"font-family: Arials; font-size: 20px; font-style: normal; font-weight: bold; letter-spacing: 3px; color: #6495ED\">4.3 Training models</span>\n",
    "<hr style=\"height: 0.5px; border: 0; background-color: #e24a33\">"
   ]
  },
  {
   "attachments": {},
   "cell_type": "markdown",
   "metadata": {},
   "source": [
    "<p id=\"4.3.1\"></p>\n",
    "\n",
    "<p style=\"font-family: Arials; font-size: 16px; font-style: normal; font-weight: bold; letter-spacing: 3px; color: #6495ED; line-height:1.0\">4.3.1 Random Forest</p>"
   ]
  },
  {
   "cell_type": "code",
   "execution_count": 29,
   "metadata": {},
   "outputs": [
    {
     "name": "stdout",
     "output_type": "stream",
     "text": [
      "best score  0.6207223889633686\n",
      "best model parameter  {'model__max_depth': 21, 'model__min_samples_leaf': 2, 'model__n_estimators': 172}\n"
     ]
    },
    {
     "data": {
      "text/html": [
       "<div>\n",
       "<style scoped>\n",
       "    .dataframe tbody tr th:only-of-type {\n",
       "        vertical-align: middle;\n",
       "    }\n",
       "\n",
       "    .dataframe tbody tr th {\n",
       "        vertical-align: top;\n",
       "    }\n",
       "\n",
       "    .dataframe thead th {\n",
       "        text-align: right;\n",
       "    }\n",
       "</style>\n",
       "<table border=\"1\" class=\"dataframe\">\n",
       "  <thead>\n",
       "    <tr style=\"text-align: right;\">\n",
       "      <th></th>\n",
       "      <th>0</th>\n",
       "      <th>1</th>\n",
       "    </tr>\n",
       "  </thead>\n",
       "  <tbody>\n",
       "    <tr>\n",
       "      <th>name</th>\n",
       "      <td>Baseline model</td>\n",
       "      <td>RandomForestClassifier with all features selected</td>\n",
       "    </tr>\n",
       "    <tr>\n",
       "      <th>accuracy</th>\n",
       "      <td>92.059553</td>\n",
       "      <td>91.563275</td>\n",
       "    </tr>\n",
       "    <tr>\n",
       "      <th>precision</th>\n",
       "      <td>85.185185</td>\n",
       "      <td>83.333333</td>\n",
       "    </tr>\n",
       "    <tr>\n",
       "      <th>recall</th>\n",
       "      <td>65.714286</td>\n",
       "      <td>64.285714</td>\n",
       "    </tr>\n",
       "    <tr>\n",
       "      <th>f1</th>\n",
       "      <td>74.193548</td>\n",
       "      <td>72.580645</td>\n",
       "    </tr>\n",
       "  </tbody>\n",
       "</table>\n",
       "</div>"
      ],
      "text/plain": [
       "                        0                                                  1\n",
       "name       Baseline model  RandomForestClassifier with all features selected\n",
       "accuracy        92.059553                                          91.563275\n",
       "precision       85.185185                                          83.333333\n",
       "recall          65.714286                                          64.285714\n",
       "f1              74.193548                                          72.580645"
      ]
     },
     "execution_count": 29,
     "metadata": {},
     "output_type": "execute_result"
    }
   ],
   "source": [
    "# RandomForestClassifier with GridSearch\n",
    "# running time: 4:12min to run\n",
    "\n",
    "selected_features = cat_cols + ord_cols + num_cols\n",
    "\n",
    "\n",
    "# creating baseline model pipeline\n",
    "baseline_model = Pipeline([('preprocessing', ColumnTransformer(transformers=[\n",
    "                              ('cat_transformer', OneHotEncoder(drop='if_binary'), cat_cols), \n",
    "                              ('ord_transformer', OrdinalEncoder(), ord_cols)\n",
    "                         ], remainder='passthrough')),\n",
    "                         ('model', RandomForestClassifier(class_weight='balanced', random_state=42, n_jobs=-1))])\n",
    "\n",
    "search_space_rfc = {'model__max_depth': np.geomspace(start=1, stop=250, num=10, dtype='int'),\n",
    "                   'model__min_samples_leaf': np.geomspace(start=1, stop=40, num=10, dtype='int'),\n",
    "                    'model__n_estimators': np.geomspace(start=25, stop=300, num=10, dtype='int')}\n",
    "\n",
    "model_rfc = GridSearchCV(estimator=baseline_model,\n",
    "                        param_grid=search_space_rfc,\n",
    "                        scoring='f1',\n",
    "                        cv=5,\n",
    "                        n_jobs=-1)\n",
    "\n",
    "# fitting model\n",
    "model_rfc.fit(features_train[selected_features], target_train)\n",
    "\n",
    "# Print the training score of the best model\n",
    "print(\"best score \", model_rfc.best_score_)\n",
    "\n",
    "# Print the model parameters of the best model\n",
    "print(\"best model parameter \", model_rfc.best_params_)\n",
    "\n",
    "target_test_pred_rfc = model_rfc.best_estimator_.predict(features_test)\n",
    "\n",
    "scores = {'name': \"RandomForestClassifier with all features selected\",\n",
    "          'accuracy': accuracy_score(target_test,target_test_pred_rfc) * 100,\n",
    "          'precision': precision_score(target_test,target_test_pred_rfc) * 100,\n",
    "          'recall': recall_score(target_test,target_test_pred_rfc) * 100,\n",
    "          'f1': f1_score(target_test,target_test_pred_rfc) * 100,\n",
    "         }\n",
    "model_results.append(scores)\n",
    "pd.DataFrame(model_results).T\n"
   ]
  },
  {
   "cell_type": "code",
   "execution_count": 61,
   "metadata": {},
   "outputs": [],
   "source": [
    "pickle.dump(baseline_model, open('pipeline_rfc.p', 'wb'))"
   ]
  },
  {
   "cell_type": "code",
   "execution_count": 30,
   "metadata": {},
   "outputs": [],
   "source": [
    "# save best model_rfc as pickle\n",
    "pickle.dump(model_rfc, open('model_rfc.p', 'wb'))"
   ]
  },
  {
   "cell_type": "code",
   "execution_count": 31,
   "metadata": {},
   "outputs": [],
   "source": [
    "# load model_rfc\n",
    "file_name = 'model_rfc.p'\n",
    "model_rfc = pickle.load(open(file_name, 'rb'))"
   ]
  },
  {
   "cell_type": "code",
   "execution_count": 32,
   "metadata": {},
   "outputs": [
    {
     "data": {
      "image/png": "[encoded data removed]",
      "text/plain": [
       "<Figure size 640x480 with 2 Axes>"
      ]
     },
     "metadata": {},
     "output_type": "display_data"
    }
   ],
   "source": [
    "from sklearn.metrics import ConfusionMatrixDisplay\n",
    "\n",
    "# confusion matrix for predictions on test data\n",
    "plt.style.use('classic')\n",
    "test_pred = model_rfc.best_estimator_.predict(features_test[selected_features])\n",
    "confusion_matrix(target_test, test_pred)\n",
    "\n",
    "ConfusionMatrixDisplay.from_estimator(model_rfc, features_test[selected_features], target_test);"
   ]
  },
  {
   "cell_type": "code",
   "execution_count": 33,
   "metadata": {},
   "outputs": [
    {
     "name": "stdout",
     "output_type": "stream",
     "text": [
      "Classification Report:\n",
      "               precision    recall  f1-score   support\n",
      "\n",
      "           0       0.93      0.97      0.95       333\n",
      "           1       0.83      0.64      0.73        70\n",
      "\n",
      "    accuracy                           0.92       403\n",
      "   macro avg       0.88      0.81      0.84       403\n",
      "weighted avg       0.91      0.92      0.91       403\n",
      "\n"
     ]
    }
   ],
   "source": [
    "# report\n",
    "report = classification_report(target_test, target_test_pred_rfc)\n",
    "print(\"Classification Report:\\n\", report)"
   ]
  },
  {
   "cell_type": "code",
   "execution_count": 34,
   "metadata": {},
   "outputs": [
    {
     "data": {
      "image/png": "[encoded data removed]",
      "text/plain": [
       "<Figure size 640x480 with 1 Axes>"
      ]
     },
     "metadata": {},
     "output_type": "display_data"
    }
   ],
   "source": [
    "# print roc-curve\n",
    "\n",
    "# create DataFrame with one column named prediction\n",
    "df_pred_test = pd.DataFrame(target_test_pred_rfc, columns=['prediction'])\n",
    "\n",
    "# predict probabilities and add them as new column\n",
    "df_pred_test.loc[:, 'probability'] = model_rfc.best_estimator_.predict_proba(features_test)[:, 1]  \n",
    "\n",
    "# calculate roc-curve\n",
    "from sklearn.metrics import roc_curve\n",
    "\n",
    "false_positive_rate, recall, threshold = roc_curve(target_test, df_pred_test.loc[:, 'probability']) \n",
    "\n",
    "# plotting\n",
    "plt.style.use('ggplot')\n",
    "\n",
    "# figure and axes intialisation\n",
    "fig, ax = plt.subplots()\n",
    "\n",
    "# reference lines\n",
    "ax.plot([0, 1], ls = \"--\")  # blue diagonal\n",
    "ax.plot([0, 0], [1, 0], c=\".7\", ls='--')  # grey vertical\n",
    "ax.plot([1, 1], c=\".7\", ls='--')  # grey horizontal\n",
    "\n",
    "# roc curve\n",
    "ax.plot(false_positive_rate, recall)\n",
    "\n",
    "# labels\n",
    "ax.set_title(\"Receiver Operating Characteristic\")\n",
    "ax.set_xlabel(\"False Positive Rate\")\n",
    "ax.set_ylabel(\"Recall\");"
   ]
  },
  {
   "cell_type": "code",
   "execution_count": 35,
   "metadata": {},
   "outputs": [
    {
     "data": {
      "text/plain": [
       "<matplotlib.legend.Legend at 0x2a1ad0a8520>"
      ]
     },
     "execution_count": 35,
     "metadata": {},
     "output_type": "execute_result"
    },
    {
     "data": {
      "image/png": "[encoded data removed]",
      "text/plain": [
       "<Figure size 1280x320 with 3 Axes>"
      ]
     },
     "metadata": {},
     "output_type": "display_data"
    }
   ],
   "source": [
    "from sklearn.model_selection import validation_curve\n",
    "\n",
    "# set-up for validation curve: which max_depth-settings to try\n",
    "search_space = range(2, 40,4)\n",
    "\n",
    "# initialize figures with two axes\n",
    "fig, ax = plt.subplots(ncols=3, figsize=[16, 4])\n",
    "fig.suptitle('Validation curves of RandomForestClassifier')\n",
    "\n",
    "# precision\n",
    "\n",
    "# calculate precision values of different hyperparameter settings and cross validation folds\n",
    "precision_train, precision_val = validation_curve(estimator=baseline_model.named_steps['model'], \n",
    "                                                  X=baseline_model.named_steps['preprocessing'].fit_transform(features_train, target_train), \n",
    "                                                  y=target_train, \n",
    "                                                  param_name='max_depth',\n",
    "                                                  param_range=search_space,\n",
    "                                                  cv=5,\n",
    "                                                  scoring='precision')\n",
    "\n",
    "# calculate average precision values for each hyperparameter setting\n",
    "precision_train_mean = np.mean(precision_train, axis=1)\n",
    "precision_val_mean = np.mean(precision_val, axis=1)\n",
    "\n",
    "# plot validation curve\n",
    "ax[0].plot(search_space,\n",
    "           precision_train_mean, label='precision train')\n",
    "ax[0].plot(search_space,\n",
    "           precision_val_mean, label='precision validation')\n",
    "ax[0].set(ylim=[0, 1.05],\n",
    "          xlabel='Decision levels (max_depth)',\n",
    "          ylabel='Precision score',\n",
    "          title='Precision score and Decision levels')\n",
    "ax[0].legend()\n",
    "\n",
    "# recall\n",
    "\n",
    "# calculate recall values of different hyperparameter settings and cross validation folds\n",
    "recall_train, recall_val = validation_curve(estimator=baseline_model.named_steps['model'], \n",
    "                                            X=baseline_model.named_steps['preprocessing'].fit_transform(features_train, target_train), \n",
    "                                            y=target_train, \n",
    "                                            param_name='max_depth',\n",
    "                                            param_range=search_space,\n",
    "                                            cv=5,\n",
    "                                            scoring='recall')\n",
    "\n",
    "# calculate average recall values for each hyperparameter setting\n",
    "recall_train_mean = np.mean(recall_train, axis=1)\n",
    "recall_val_mean = np.mean(recall_val, axis=1)\n",
    "\n",
    "# plot validation curve\n",
    "ax[1].plot(search_space,\n",
    "           recall_train_mean, label='recall train')\n",
    "ax[1].plot(search_space,\n",
    "           recall_val_mean, label='recall validation')\n",
    "ax[1].set(ylim=[0, 1.05],\n",
    "          xlabel='Decision levels (max_depth)',\n",
    "          ylabel='Recall score',\n",
    "          title='Recall score and Decision levels')\n",
    "ax[1].legend()\n",
    "\n",
    "# f1 score\n",
    "\n",
    "# calculate precision values of different hyperparameter settings and cross validation folds\n",
    "precision_train, precision_val = validation_curve(estimator=baseline_model.named_steps['model'], \n",
    "                                                  X=baseline_model.named_steps['preprocessing'].fit_transform(features_train, target_train), \n",
    "                                                  y=target_train, \n",
    "                                                  param_name='max_depth',\n",
    "                                                  param_range=search_space,\n",
    "                                                  cv=5,\n",
    "                                                  scoring='f1')\n",
    "\n",
    "# calculate average precision values for each hyperparameter setting\n",
    "precision_train_mean = np.mean(precision_train, axis=1)\n",
    "precision_val_mean = np.mean(precision_val, axis=1)\n",
    "\n",
    "# plot validation curve\n",
    "ax[2].plot(search_space,\n",
    "           precision_train_mean, label='f1 train')\n",
    "ax[2].plot(search_space,\n",
    "           precision_val_mean, label='f1 validation')\n",
    "ax[2].set(ylim=[0, 1.05],\n",
    "          xlabel='Decision levels (max_depth)',\n",
    "          ylabel='F1 score',\n",
    "          title='F1 score and Decision levels')\n",
    "ax[2].legend()"
   ]
  },
  {
   "attachments": {},
   "cell_type": "markdown",
   "metadata": {},
   "source": [
    "<p id=\"4.3.2\"></p>\n",
    "\n",
    "<p style=\"font-family: Arials; font-size: 16px; font-style: normal; font-weight: bold; letter-spacing: 3px; color: #6495ED; line-height:1.0\">4.3.2 Random Forest with polynomial features</p>"
   ]
  },
  {
   "cell_type": "code",
   "execution_count": 40,
   "metadata": {},
   "outputs": [
    {
     "name": "stdout",
     "output_type": "stream",
     "text": [
      "best score\n",
      "0.6245710423941896\n",
      "best model parameter\n",
      "{'classifier__max_depth': 18, 'classifier__max_features': 6, 'classifier__min_samples_leaf': 4, 'classifier__min_samples_split': 2, 'classifier__n_estimators': 130}\n"
     ]
    },
    {
     "data": {
      "text/html": [
       "<div>\n",
       "<style scoped>\n",
       "    .dataframe tbody tr th:only-of-type {\n",
       "        vertical-align: middle;\n",
       "    }\n",
       "\n",
       "    .dataframe tbody tr th {\n",
       "        vertical-align: top;\n",
       "    }\n",
       "\n",
       "    .dataframe thead th {\n",
       "        text-align: right;\n",
       "    }\n",
       "</style>\n",
       "<table border=\"1\" class=\"dataframe\">\n",
       "  <thead>\n",
       "    <tr style=\"text-align: right;\">\n",
       "      <th></th>\n",
       "      <th>0</th>\n",
       "      <th>1</th>\n",
       "      <th>2</th>\n",
       "    </tr>\n",
       "  </thead>\n",
       "  <tbody>\n",
       "    <tr>\n",
       "      <th>name</th>\n",
       "      <td>Baseline model</td>\n",
       "      <td>RandomForestClassifier with all features selected</td>\n",
       "      <td>RandomForest with polynomial features</td>\n",
       "    </tr>\n",
       "    <tr>\n",
       "      <th>accuracy</th>\n",
       "      <td>92.059553</td>\n",
       "      <td>91.563275</td>\n",
       "      <td>91.563275</td>\n",
       "    </tr>\n",
       "    <tr>\n",
       "      <th>precision</th>\n",
       "      <td>85.185185</td>\n",
       "      <td>83.333333</td>\n",
       "      <td>80.0</td>\n",
       "    </tr>\n",
       "    <tr>\n",
       "      <th>recall</th>\n",
       "      <td>65.714286</td>\n",
       "      <td>64.285714</td>\n",
       "      <td>68.571429</td>\n",
       "    </tr>\n",
       "    <tr>\n",
       "      <th>f1</th>\n",
       "      <td>74.193548</td>\n",
       "      <td>72.580645</td>\n",
       "      <td>73.846154</td>\n",
       "    </tr>\n",
       "  </tbody>\n",
       "</table>\n",
       "</div>"
      ],
      "text/plain": [
       "                        0                                                  1  \\\n",
       "name       Baseline model  RandomForestClassifier with all features selected   \n",
       "accuracy        92.059553                                          91.563275   \n",
       "precision       85.185185                                          83.333333   \n",
       "recall          65.714286                                          64.285714   \n",
       "f1              74.193548                                          72.580645   \n",
       "\n",
       "                                               2  \n",
       "name       RandomForest with polynomial features  \n",
       "accuracy                               91.563275  \n",
       "precision                                   80.0  \n",
       "recall                                 68.571429  \n",
       "f1                                     73.846154  "
      ]
     },
     "execution_count": 40,
     "metadata": {},
     "output_type": "execute_result"
    }
   ],
   "source": [
    "# RandomForestClassifier with PolynomialFeatures\n",
    "# running time: 25m 26.6s\n",
    "\n",
    "from sklearn.preprocessing import PolynomialFeatures\n",
    "\n",
    "#initate PolynomialFeatures\n",
    "poly_transformer = PolynomialFeatures(degree=2,           \n",
    "                                      interaction_only=False, # Controls whether self interactons are included \n",
    "                                      include_bias=False)    # Controls whether the 1 is also icluded as a feature\n",
    "\n",
    "#create Pipeline\n",
    "pipeline_rf_poly = Pipeline([('preprocessing', ColumnTransformer(transformers=[\n",
    "                    ('encoder', OneHotEncoder(handle_unknown='ignore'), cat_cols),\n",
    "                     ('ord_transformer', OrdinalEncoder(), ord_cols)\n",
    "                    ], remainder='passthrough')),\n",
    "                    ('scaler', StandardScaler()),\n",
    "                    (\"poly\", poly_transformer),\n",
    "                    ('classifier', RandomForestClassifier(class_weight=\"balanced\", random_state=42))])\n",
    "\n",
    "# Create the parameter grid\n",
    "grid_search_rf_poly = [{'classifier__max_depth':range(2, 40,4),#[10,11,12,13,14,15, 20],       \n",
    "                  'classifier__max_features':[2, 3, 4, 5, 6, 8, 20,\"auto\"],\n",
    "                  'classifier__min_samples_split':[2, 3, 4],\n",
    "                  'classifier__min_samples_leaf':[2, 3, 4],\n",
    "                  'classifier__n_estimators': np.arange(10,150,20)\n",
    "                }]\n",
    "\n",
    "# Create an instance of GridSearch \n",
    "grid_rf_poly = GridSearchCV(estimator=pipeline_rf_poly,\n",
    "                    param_grid = grid_search_rf_poly,\n",
    "                    scoring='f1',\n",
    "                    cv=5,\n",
    "                    n_jobs=-1)\n",
    "\n",
    "# Train the RandomForestClassifier\n",
    "grid_rf_poly.fit(features_train, target_train)\n",
    "\n",
    "# Print the training score of the best model\n",
    "print(\"best score\")\n",
    "print(grid_rf_poly.best_score_)\n",
    "\n",
    "# Print the model parameters of the best model\n",
    "print(\"best model parameter\")\n",
    "print(grid_rf_poly.best_params_)\n",
    "\n",
    "#predict\n",
    "target_test_pred_rf_poly_grid = grid_rf_poly.best_estimator_.predict(features_test)\n",
    "\n",
    "#save\n",
    "scores = {'name': \"RandomForest with polynomial features\",\n",
    "          'accuracy': accuracy_score(target_test, target_test_pred_rf_poly_grid) * 100,\n",
    "          'precision': precision_score(target_test, target_test_pred_rf_poly_grid) * 100,\n",
    "          'recall': recall_score(target_test, target_test_pred_rf_poly_grid) * 100,\n",
    "          'f1': f1_score(target_test, target_test_pred_rf_poly_grid) * 100,\n",
    "        }\n",
    "model_results.append(scores)\n",
    "    \n",
    "#show results\n",
    "pd.DataFrame(model_results).T"
   ]
  },
  {
   "cell_type": "code",
   "execution_count": 41,
   "metadata": {},
   "outputs": [
    {
     "data": {
      "image/png": "[encoded data removed]",
      "text/plain": [
       "<Figure size 640x640 with 2 Axes>"
      ]
     },
     "metadata": {},
     "output_type": "display_data"
    }
   ],
   "source": [
    "labels = ['Alive', 'Dead']\n",
    "cm = confusion_matrix(target_test, target_test_pred_rf_poly_grid)\n",
    "plt.figure(figsize = (8,8))\n",
    "sns.heatmap(cm, annot = True, fmt='', xticklabels = labels, yticklabels = labels)\n",
    "plt.title('Confusion Matrix')\n",
    "plt.show()"
   ]
  },
  {
   "cell_type": "code",
   "execution_count": 42,
   "metadata": {},
   "outputs": [
    {
     "name": "stdout",
     "output_type": "stream",
     "text": [
      "Classification Report:\n",
      "               precision    recall  f1-score   support\n",
      "\n",
      "           0       0.94      0.96      0.95       333\n",
      "           1       0.80      0.69      0.74        70\n",
      "\n",
      "    accuracy                           0.92       403\n",
      "   macro avg       0.87      0.82      0.84       403\n",
      "weighted avg       0.91      0.92      0.91       403\n",
      "\n"
     ]
    }
   ],
   "source": [
    "# report\n",
    "report = classification_report(target_test, target_test_pred_rf_poly_grid)\n",
    "print(\"Classification Report:\\n\", report)"
   ]
  },
  {
   "cell_type": "code",
   "execution_count": 43,
   "metadata": {},
   "outputs": [
    {
     "data": {
      "image/png": "[encoded data removed]",
      "text/plain": [
       "<Figure size 640x480 with 1 Axes>"
      ]
     },
     "metadata": {},
     "output_type": "display_data"
    }
   ],
   "source": [
    "# print roc-curve\n",
    "\n",
    "# create DataFrame with one column named prediction\n",
    "df_pred_test = pd.DataFrame(target_test_pred_rf_poly_grid, columns=['prediction'])\n",
    "\n",
    "# predict probabilities and add them as new column\n",
    "df_pred_test.loc[:, 'probability'] = grid_rf_poly.best_estimator_.predict_proba(features_test)[:, 1]  \n",
    "\n",
    "# calculate roc-curve\n",
    "from sklearn.metrics import roc_curve\n",
    "\n",
    "false_positive_rate, recall, threshold = roc_curve(target_test, df_pred_test.loc[:, 'probability']) \n",
    "\n",
    "# plotting\n",
    "plt.style.use('ggplot')\n",
    "\n",
    "# figure and axes intialisation\n",
    "fig, ax = plt.subplots()\n",
    "\n",
    "# reference lines\n",
    "ax.plot([0, 1], ls = \"--\")  # blue diagonal\n",
    "ax.plot([0, 0], [1, 0], c=\".7\", ls='--')  # grey vertical\n",
    "ax.plot([1, 1], c=\".7\", ls='--')  # grey horizontal\n",
    "\n",
    "# roc curve\n",
    "ax.plot(false_positive_rate, recall)\n",
    "\n",
    "# labels\n",
    "ax.set_title(\"Receiver Operating Characteristic\")\n",
    "ax.set_xlabel(\"False Positive Rate\")\n",
    "ax.set_ylabel(\"Recall\");"
   ]
  },
  {
   "cell_type": "code",
   "execution_count": 44,
   "metadata": {},
   "outputs": [],
   "source": [
    "# save grid_rf_poly as pickle\n",
    "\n",
    "pickle.dump(grid_rf_poly, open('grid_rf_poly.p', 'wb'))"
   ]
  },
  {
   "cell_type": "code",
   "execution_count": 45,
   "metadata": {},
   "outputs": [],
   "source": [
    "# load grid_rf_poly\n",
    "file_name = 'grid_rf_poly.p'\n",
    "grid_rf_poly = pickle.load(open(file_name, 'rb'))"
   ]
  },
  {
   "attachments": {},
   "cell_type": "markdown",
   "metadata": {},
   "source": [
    "<p id=\"4.3.3\"></p>\n",
    "\n",
    "<p style=\"font-family: Arials; font-size: 16px; font-style: normal; font-weight: bold; letter-spacing: 3px; color: #6495ED; line-height:1.0\">4.3.3 LogisticRegression</p>"
   ]
  },
  {
   "cell_type": "code",
   "execution_count": 46,
   "metadata": {},
   "outputs": [
    {
     "name": "stdout",
     "output_type": "stream",
     "text": [
      "best score\n",
      "0.5254061443075385\n",
      "best model parameter\n",
      "{'classifier__C': 0.655128556859551, 'classifier__penalty': 'l1'}\n"
     ]
    },
    {
     "data": {
      "text/html": [
       "<div>\n",
       "<style scoped>\n",
       "    .dataframe tbody tr th:only-of-type {\n",
       "        vertical-align: middle;\n",
       "    }\n",
       "\n",
       "    .dataframe tbody tr th {\n",
       "        vertical-align: top;\n",
       "    }\n",
       "\n",
       "    .dataframe thead th {\n",
       "        text-align: right;\n",
       "    }\n",
       "</style>\n",
       "<table border=\"1\" class=\"dataframe\">\n",
       "  <thead>\n",
       "    <tr style=\"text-align: right;\">\n",
       "      <th></th>\n",
       "      <th>0</th>\n",
       "      <th>1</th>\n",
       "      <th>2</th>\n",
       "      <th>3</th>\n",
       "    </tr>\n",
       "  </thead>\n",
       "  <tbody>\n",
       "    <tr>\n",
       "      <th>name</th>\n",
       "      <td>Baseline model</td>\n",
       "      <td>RandomForestClassifier with all features selected</td>\n",
       "      <td>RandomForest with polynomial features</td>\n",
       "      <td>LogisticRegression_GridSearch</td>\n",
       "    </tr>\n",
       "    <tr>\n",
       "      <th>accuracy</th>\n",
       "      <td>92.059553</td>\n",
       "      <td>91.563275</td>\n",
       "      <td>91.563275</td>\n",
       "      <td>82.382134</td>\n",
       "    </tr>\n",
       "    <tr>\n",
       "      <th>precision</th>\n",
       "      <td>85.185185</td>\n",
       "      <td>83.333333</td>\n",
       "      <td>80.0</td>\n",
       "      <td>49.54955</td>\n",
       "    </tr>\n",
       "    <tr>\n",
       "      <th>recall</th>\n",
       "      <td>65.714286</td>\n",
       "      <td>64.285714</td>\n",
       "      <td>68.571429</td>\n",
       "      <td>78.571429</td>\n",
       "    </tr>\n",
       "    <tr>\n",
       "      <th>f1</th>\n",
       "      <td>74.193548</td>\n",
       "      <td>72.580645</td>\n",
       "      <td>73.846154</td>\n",
       "      <td>60.773481</td>\n",
       "    </tr>\n",
       "  </tbody>\n",
       "</table>\n",
       "</div>"
      ],
      "text/plain": [
       "                        0                                                  1  \\\n",
       "name       Baseline model  RandomForestClassifier with all features selected   \n",
       "accuracy        92.059553                                          91.563275   \n",
       "precision       85.185185                                          83.333333   \n",
       "recall          65.714286                                          64.285714   \n",
       "f1              74.193548                                          72.580645   \n",
       "\n",
       "                                               2  \\\n",
       "name       RandomForest with polynomial features   \n",
       "accuracy                               91.563275   \n",
       "precision                                   80.0   \n",
       "recall                                 68.571429   \n",
       "f1                                     73.846154   \n",
       "\n",
       "                                       3  \n",
       "name       LogisticRegression_GridSearch  \n",
       "accuracy                       82.382134  \n",
       "precision                       49.54955  \n",
       "recall                         78.571429  \n",
       "f1                             60.773481  "
      ]
     },
     "execution_count": 46,
     "metadata": {},
     "output_type": "execute_result"
    }
   ],
   "source": [
    "# Logistic Regression\n",
    "\n",
    "# scoring \"recall\": accuracy: 65.2, precision: 32, recall: 92.8, F1: 48.1\n",
    "# using RobustScaler yields minimal improvement\n",
    "\n",
    "from sklearn.preprocessing import PolynomialFeatures\n",
    "\n",
    "# create Pipeline\n",
    "pipeline_log = Pipeline([('preprocessing', ColumnTransformer(transformers=[\n",
    "                    ('encoder', OneHotEncoder(handle_unknown='ignore'), cat_cols),\n",
    "                     ('ord_transformer', OrdinalEncoder(), ord_cols),\n",
    "                     #('poly', PolynomialFeatures(degree=2, include_bias=False), num_cols),\n",
    "                     ], remainder='passthrough')),\n",
    "                    ('scaler', RobustScaler()),\n",
    "                    ('classifier', LogisticRegression(solver=\"liblinear\", class_weight='balanced', max_iter=1000, random_state=42))])\n",
    "\n",
    "# create C_values\n",
    "C_values = np.geomspace(0.001,1000,50) #[0.01, 0.1, 1, 10, 100]\n",
    "\n",
    "# creat parameter Grid\n",
    "grid_search_log = [{'classifier__penalty':[\"l2\",\"l1\"],\n",
    "                    'classifier__C': C_values\n",
    "                }]\n",
    "\n",
    "# Create an instance of GridSearch Cross-validation estimator\n",
    "grid_log = GridSearchCV(estimator=pipeline_log,\n",
    "                     param_grid = grid_search_log,\n",
    "                     scoring='f1',\n",
    "                     cv=5,   \n",
    "                     n_jobs=-1)\n",
    "\n",
    "# Train the RandomForestClassifier\n",
    "grid_log.fit(features_train, target_train)\n",
    "\n",
    "# Print the training score of the best model\n",
    "print(\"best score\")\n",
    "print(grid_log.best_score_)\n",
    "\n",
    "# Print the model parameters of the best model\n",
    "print(\"best model parameter\")\n",
    "print(grid_log.best_params_)\n",
    "\n",
    "# Print the test score of the best model\n",
    "#predict\n",
    "target_test_pred_log_grid = grid_log.best_estimator_.predict(features_test)\n",
    "\n",
    "#save\n",
    "scores = {'name': \"LogisticRegression_GridSearch\",\n",
    "          'accuracy': accuracy_score(target_test, target_test_pred_log_grid) * 100,\n",
    "          'precision': precision_score(target_test, target_test_pred_log_grid) * 100,\n",
    "          'recall': recall_score(target_test, target_test_pred_log_grid) * 100,\n",
    "          'f1': f1_score(target_test, target_test_pred_log_grid) * 100,\n",
    "         }\n",
    "model_results.append(scores)\n",
    "    \n",
    "#show results\n",
    "pd.DataFrame(model_results).T "
   ]
  },
  {
   "cell_type": "code",
   "execution_count": 47,
   "metadata": {},
   "outputs": [
    {
     "data": {
      "image/png": "[encoded data removed]",
      "text/plain": [
       "<Figure size 640x640 with 2 Axes>"
      ]
     },
     "metadata": {},
     "output_type": "display_data"
    }
   ],
   "source": [
    "labels = ['Alive', 'Dead']\n",
    "cm = confusion_matrix(target_test, target_test_pred_log_grid)\n",
    "plt.figure(figsize = (8,8))\n",
    "sns.heatmap(cm, annot = True, fmt='', xticklabels = labels, yticklabels = labels)\n",
    "plt.title('Confusion Matrix')\n",
    "plt.show()"
   ]
  },
  {
   "cell_type": "code",
   "execution_count": 48,
   "metadata": {},
   "outputs": [
    {
     "name": "stdout",
     "output_type": "stream",
     "text": [
      "Classification Report:\n",
      "               precision    recall  f1-score   support\n",
      "\n",
      "           0       0.95      0.83      0.89       333\n",
      "           1       0.50      0.79      0.61        70\n",
      "\n",
      "    accuracy                           0.82       403\n",
      "   macro avg       0.72      0.81      0.75       403\n",
      "weighted avg       0.87      0.82      0.84       403\n",
      "\n"
     ]
    }
   ],
   "source": [
    "# report\n",
    "report = classification_report(target_test, target_test_pred_log_grid)\n",
    "print(\"Classification Report:\\n\", report)"
   ]
  },
  {
   "cell_type": "code",
   "execution_count": 49,
   "metadata": {},
   "outputs": [
    {
     "data": {
      "image/png": "[encoded data removed]",
      "text/plain": [
       "<Figure size 640x480 with 1 Axes>"
      ]
     },
     "metadata": {},
     "output_type": "display_data"
    }
   ],
   "source": [
    "# print roc-curve\n",
    "\n",
    "# create DataFrame with one column named prediction\n",
    "df_pred_test = pd.DataFrame(target_test_pred_log_grid, columns=['prediction'])\n",
    "\n",
    "# predict probabilities and add them as new column\n",
    "df_pred_test.loc[:, 'probability'] = grid_log.best_estimator_.predict_proba(features_test)[:, 1]  \n",
    "\n",
    "# calculate roc-curve\n",
    "from sklearn.metrics import roc_curve\n",
    "\n",
    "false_positive_rate, recall, threshold = roc_curve(target_test, df_pred_test.loc[:, 'probability']) \n",
    "\n",
    "# plotting\n",
    "plt.style.use('ggplot')\n",
    "\n",
    "# figure and axes intialisation\n",
    "fig, ax = plt.subplots()\n",
    "\n",
    "# reference lines\n",
    "ax.plot([0, 1], ls = \"--\")  # blue diagonal\n",
    "ax.plot([0, 0], [1, 0], c=\".7\", ls='--')  # grey vertical\n",
    "ax.plot([1, 1], c=\".7\", ls='--')  # grey horizontal\n",
    "\n",
    "# roc curve\n",
    "ax.plot(false_positive_rate, recall)\n",
    "\n",
    "# labels\n",
    "ax.set_title(\"Receiver Operating Characteristic\")\n",
    "ax.set_xlabel(\"False Positive Rate\")\n",
    "ax.set_ylabel(\"Recall\");"
   ]
  },
  {
   "cell_type": "code",
   "execution_count": 50,
   "metadata": {},
   "outputs": [],
   "source": [
    "# save grid_log as pickle\n",
    "\n",
    "pickle.dump(grid_log, open('grid_log.p', 'wb'))"
   ]
  },
  {
   "cell_type": "code",
   "execution_count": 51,
   "metadata": {},
   "outputs": [],
   "source": [
    "# load grid_log\n",
    "file_name = 'grid_log.p'\n",
    "grid_log = pickle.load(open(file_name, 'rb'))"
   ]
  },
  {
   "attachments": {},
   "cell_type": "markdown",
   "metadata": {},
   "source": [
    "<p id=\"4.3.4\"></p>\n",
    "\n",
    "<p style=\"font-family: Arials; font-size: 16px; font-style: normal; font-weight: bold; letter-spacing: 3px; color: #6495ED; line-height:1.0\">4.3.4 Support vector machine with Gaussian kernel</p>"
   ]
  },
  {
   "cell_type": "code",
   "execution_count": 52,
   "metadata": {},
   "outputs": [
    {
     "name": "stdout",
     "output_type": "stream",
     "text": [
      "Fitting 3 folds for each of 20 candidates, totalling 60 fits\n",
      "best score\n",
      "0.5367396728050355\n",
      "best model parameter\n",
      "{'classifier__C': 10, 'classifier__gamma': 0.01}\n"
     ]
    },
    {
     "data": {
      "text/html": [
       "<div>\n",
       "<style scoped>\n",
       "    .dataframe tbody tr th:only-of-type {\n",
       "        vertical-align: middle;\n",
       "    }\n",
       "\n",
       "    .dataframe tbody tr th {\n",
       "        vertical-align: top;\n",
       "    }\n",
       "\n",
       "    .dataframe thead th {\n",
       "        text-align: right;\n",
       "    }\n",
       "</style>\n",
       "<table border=\"1\" class=\"dataframe\">\n",
       "  <thead>\n",
       "    <tr style=\"text-align: right;\">\n",
       "      <th></th>\n",
       "      <th>0</th>\n",
       "      <th>1</th>\n",
       "      <th>2</th>\n",
       "      <th>3</th>\n",
       "      <th>4</th>\n",
       "    </tr>\n",
       "  </thead>\n",
       "  <tbody>\n",
       "    <tr>\n",
       "      <th>name</th>\n",
       "      <td>Baseline model</td>\n",
       "      <td>RandomForestClassifier with all features selected</td>\n",
       "      <td>RandomForest with polynomial features</td>\n",
       "      <td>LogisticRegression_GridSearch</td>\n",
       "      <td>SVC with Gaussian kernel and GridSearch</td>\n",
       "    </tr>\n",
       "    <tr>\n",
       "      <th>accuracy</th>\n",
       "      <td>92.059553</td>\n",
       "      <td>91.563275</td>\n",
       "      <td>91.563275</td>\n",
       "      <td>82.382134</td>\n",
       "      <td>82.382134</td>\n",
       "    </tr>\n",
       "    <tr>\n",
       "      <th>precision</th>\n",
       "      <td>85.185185</td>\n",
       "      <td>83.333333</td>\n",
       "      <td>80.0</td>\n",
       "      <td>49.54955</td>\n",
       "      <td>49.50495</td>\n",
       "    </tr>\n",
       "    <tr>\n",
       "      <th>recall</th>\n",
       "      <td>65.714286</td>\n",
       "      <td>64.285714</td>\n",
       "      <td>68.571429</td>\n",
       "      <td>78.571429</td>\n",
       "      <td>71.428571</td>\n",
       "    </tr>\n",
       "    <tr>\n",
       "      <th>f1</th>\n",
       "      <td>74.193548</td>\n",
       "      <td>72.580645</td>\n",
       "      <td>73.846154</td>\n",
       "      <td>60.773481</td>\n",
       "      <td>58.479532</td>\n",
       "    </tr>\n",
       "  </tbody>\n",
       "</table>\n",
       "</div>"
      ],
      "text/plain": [
       "                        0                                                  1  \\\n",
       "name       Baseline model  RandomForestClassifier with all features selected   \n",
       "accuracy        92.059553                                          91.563275   \n",
       "precision       85.185185                                          83.333333   \n",
       "recall          65.714286                                          64.285714   \n",
       "f1              74.193548                                          72.580645   \n",
       "\n",
       "                                               2  \\\n",
       "name       RandomForest with polynomial features   \n",
       "accuracy                               91.563275   \n",
       "precision                                   80.0   \n",
       "recall                                 68.571429   \n",
       "f1                                     73.846154   \n",
       "\n",
       "                                       3  \\\n",
       "name       LogisticRegression_GridSearch   \n",
       "accuracy                       82.382134   \n",
       "precision                       49.54955   \n",
       "recall                         78.571429   \n",
       "f1                             60.773481   \n",
       "\n",
       "                                                 4  \n",
       "name       SVC with Gaussian kernel and GridSearch  \n",
       "accuracy                                 82.382134  \n",
       "precision                                 49.50495  \n",
       "recall                                   71.428571  \n",
       "f1                                       58.479532  "
      ]
     },
     "execution_count": 52,
     "metadata": {},
     "output_type": "execute_result"
    }
   ],
   "source": [
    "#Support Vector Machine with Gaussian kernel\n",
    "# running time: 12.9s\n",
    "\n",
    "from sklearn.svm import SVC \n",
    "\n",
    "# create Pipeline\n",
    "pipeline_svc = Pipeline([('preprocessing', ColumnTransformer(transformers=[\n",
    "                    ('encoder', OneHotEncoder(handle_unknown='ignore'), cat_cols),\n",
    "                     ('ord_transformer', OrdinalEncoder(), ord_cols)\n",
    "                    ], remainder='passthrough')),\n",
    "                    ('scaler', StandardScaler()),\n",
    "                    ('classifier', SVC(C=1000, kernel=\"rbf\", gamma='scale', class_weight='balanced', random_state=42))])\n",
    "\n",
    "# create k values\n",
    "k = np.geomspace(1,1000,10, dtype=\"int\")\n",
    "k = np.unique(k)\n",
    "\n",
    "# Create the parameter grid\n",
    "grid_search_svc = [{'classifier__C':[0.1,1, 10, 100],\n",
    "                   'classifier__gamma':[0.001,0.01,0.1, 1, 10]\n",
    "                    }]\n",
    "\n",
    "# Create an instance of GridSearch Cross-validation estimator\n",
    "grid_svc = GridSearchCV(estimator=pipeline_svc,\n",
    "                     param_grid = grid_search_svc,\n",
    "                     scoring='f1',\n",
    "                     cv=3,\n",
    "                     verbose =1,\n",
    "                     n_jobs=-1)\n",
    "\n",
    "# fit the Model\n",
    "grid_svc.fit(features_train, target_train)\n",
    "\n",
    "# Print the training score of the best model\n",
    "print(\"best score\")\n",
    "print(grid_svc.best_score_)\n",
    "\n",
    "# Print the model parameters of the best model\n",
    "print(\"best model parameter\")\n",
    "print(grid_svc.best_params_)\n",
    "\n",
    "# Print the test score of the best model\n",
    "#predict\n",
    "target_test_pred_svc_grid = grid_svc.predict(features_test)\n",
    "\n",
    "#save\n",
    "scores = {'name': \"SVC with Gaussian kernel and GridSearch\",\n",
    "          'accuracy': accuracy_score(target_test, target_test_pred_svc_grid) * 100,\n",
    "          'precision': precision_score(target_test, target_test_pred_svc_grid) * 100,\n",
    "          'recall': recall_score(target_test, target_test_pred_svc_grid) * 100,\n",
    "          'f1': f1_score(target_test, target_test_pred_svc_grid) * 100,\n",
    "         }\n",
    "model_results.append(scores)\n",
    "    \n",
    "#show results\n",
    "pd.DataFrame(model_results).T"
   ]
  },
  {
   "cell_type": "code",
   "execution_count": 53,
   "metadata": {},
   "outputs": [
    {
     "data": {
      "image/png": "[encoded data removed]",
      "text/plain": [
       "<Figure size 640x480 with 2 Axes>"
      ]
     },
     "metadata": {},
     "output_type": "display_data"
    }
   ],
   "source": [
    "from sklearn.metrics import ConfusionMatrixDisplay\n",
    "\n",
    "# confusion matrix for predictions on test data\n",
    "plt.style.use('classic')\n",
    "test_pred = grid_svc.best_estimator_.predict(features_test)\n",
    "confusion_matrix(target_test, test_pred)\n",
    "\n",
    "ConfusionMatrixDisplay.from_estimator(grid_svc, features_test, target_test);"
   ]
  },
  {
   "cell_type": "code",
   "execution_count": 54,
   "metadata": {},
   "outputs": [
    {
     "name": "stdout",
     "output_type": "stream",
     "text": [
      "Classification Report:\n",
      "               precision    recall  f1-score   support\n",
      "\n",
      "           0       0.93      0.85      0.89       333\n",
      "           1       0.50      0.71      0.58        70\n",
      "\n",
      "    accuracy                           0.82       403\n",
      "   macro avg       0.71      0.78      0.74       403\n",
      "weighted avg       0.86      0.82      0.84       403\n",
      "\n"
     ]
    }
   ],
   "source": [
    "# report\n",
    "report = classification_report(target_test, target_test_pred_svc_grid)\n",
    "print(\"Classification Report:\\n\", report)"
   ]
  },
  {
   "cell_type": "code",
   "execution_count": 55,
   "metadata": {},
   "outputs": [],
   "source": [
    "# save grid_log as pickle\n",
    "\n",
    "pickle.dump(grid_svc, open('grid_svc.p', 'wb'))"
   ]
  },
  {
   "cell_type": "code",
   "execution_count": 56,
   "metadata": {},
   "outputs": [],
   "source": [
    "# load grid_svc\n",
    "file_name = 'grid_svc.p'\n",
    "grid_svc = pickle.load(open(file_name, 'rb'))"
   ]
  },
  {
   "attachments": {},
   "cell_type": "markdown",
   "metadata": {},
   "source": [
    "<p id=\"4.4\"></p>\n",
    "\n",
    "<p style=\"font-family: Arials; font-size: 16px; font-style: normal; font-weight: bold; letter-spacing: 3px; color: #6495ED; line-height:1.0\">4.4 Model selection</p>"
   ]
  },
  {
   "attachments": {},
   "cell_type": "markdown",
   "metadata": {},
   "source": [
    "The Random Forest with polynomial features achieves the best recall score without losing too much precision."
   ]
  }
 ],
 "metadata": {
  "kernelspec": {
   "display_name": "portfolio_minimal_ds",
   "language": "python",
   "name": "python3"
  },
  "language_info": {
   "codemirror_mode": {
    "name": "ipython",
    "version": 3
   },
   "file_extension": ".py",
   "mimetype": "text/x-python",
   "name": "python",
   "nbconvert_exporter": "python",
   "pygments_lexer": "ipython3",
   "version": "3.10.9"
  },
  "orig_nbformat": 4
 },
 "nbformat": 4,
 "nbformat_minor": 2
}
