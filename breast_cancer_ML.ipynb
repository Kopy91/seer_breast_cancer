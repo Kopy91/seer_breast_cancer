{
 "cells": [
  {
   "cell_type": "code",
   "execution_count": 1,
   "metadata": {},
   "outputs": [
    {
     "name": "stderr",
     "output_type": "stream",
     "text": [
      "C:\\Users\\flori\\AppData\\Local\\Temp\\ipykernel_21604\\272493758.py:18: MatplotlibDeprecationWarning: The seaborn styles shipped by Matplotlib are deprecated since 3.6, as they no longer correspond to the styles shipped by seaborn. However, they will remain available as 'seaborn-v0_8-<style>'. Alternatively, directly use the seaborn API instead.\n",
      "  plt.style.use('seaborn')\n"
     ]
    }
   ],
   "source": [
    "# Preface\n",
    "...\n",
    "# # reading in data as df\n",
    "# df = pd.read_csv('Breast_Cancer.csv', delimiter=',')\n",
    "\n",
    "# # correcting typos\n",
    "# df = df.rename(columns={'T Stage ':'T Stage'})\n",
    "# df = df.rename(columns={'Reginol Node Positive': 'Regional Node Positive'})\n",
    "\n",
    "# # remapping target column\n",
    "# df.loc[:,'Status_encoded'] = df.loc[:,'Status'].map({'Alive':0, 'Dead':1})\n",
    "\n",
    "# # new features \n",
    "# # ['Node_Examined_Pos_Rate']: Positive Nodes per Examined Nodes\n",
    "# df.loc[:,'Node_Exam_Pos_Rate'] = df.loc[:,'Regional Node Positive']/df.loc[:,'Regional Node Examined']\n",
    "# #['Progesteron_Estrogen_Status']: Positive status if status of both receptors is positive\n",
    "# mask = (df['Estrogen Status'] == 'Positive') | (df['Progesterone Status'] == 'Positive')\n",
    "# conditions = [mask, ~mask]\n",
    "# values = ['Positive', 'Negative']\n",
    "# df['Estrogen_Progesteron_Status'] = np.select(conditions, values)\n",
    "\n",
    "\n",
    "# # changing dtypes of columns as needed\n",
    "# dtypes_columns = {'Age' : 'int64',\n",
    "# 'Race' : 'category',\n",
    "# 'Marital Status' : 'category',\n",
    "# 'T Stage' : 'category', \n",
    "# 'N Stage' : 'category',\n",
    "# '6th Stage' : 'category',\n",
    "# 'differentiate' : 'category',\n",
    "# 'Grade' : 'category',\n",
    "# 'A Stage' : 'category', \n",
    "# 'Tumor Size' : 'int64',\n",
    "# 'Estrogen Status' : 'category',\n",
    "# 'Progesterone Status' : 'category',\n",
    "# 'Regional Node Examined' : 'int64',\n",
    "# 'Regional Node Positive' : 'int64',\n",
    "# 'Survival Months' : 'int64',\n",
    "# 'Status' : 'category',\n",
    "# 'Status_encoded' : 'int64',\n",
    "# 'Node_Exam_Pos_Rate': 'float64',\n",
    "# 'Estrogen_Progesteron_Status': 'category'}\n",
    "# df = df.astype(dtypes_columns)\n",
    "\n",
    "# # drop 'Grade' columns because the information is the same as in the 'differentiate' column \n",
    "# df.drop('Grade', axis=1, inplace=True)\n",
    "\n",
    "\n",
    "\n",
    "# # # creating target and features \n",
    "# # target = df.loc[:,'Status_encoded']\n",
    "# # features = df.drop('Status', axis=1)\n",
    "# # features = features.drop('Status_encoded', axis=1)\n",
    "\n",
    "# # # train and test split\n",
    "# # features_train, features_test, target_train, target_test = train_test_split(features, \n",
    "# #                                                                             target, \n",
    "# #                                                                             random_state=42,\n",
    "# #                                                                             test_size=0.1)"
   ]
  },
  {
   "cell_type": "code",
   "execution_count": 25,
   "metadata": {},
   "outputs": [
    {
     "name": "stderr",
     "output_type": "stream",
     "text": [
      "C:\\Users\\flori\\AppData\\Local\\Temp\\ipykernel_3912\\153532364.py:18: MatplotlibDeprecationWarning: The seaborn styles shipped by Matplotlib are deprecated since 3.6, as they no longer correspond to the styles shipped by seaborn. However, they will remain available as 'seaborn-v0_8-<style>'. Alternatively, directly use the seaborn API instead.\n",
      "  plt.style.use('seaborn')\n"
     ]
    }
   ],
   "source": [
    "# import modules\n",
    "import pandas as pd\n",
    "import numpy as np\n",
    "import seaborn as sns\n",
    "import matplotlib.pyplot as plt\n",
    "from sklearn.preprocessing import StandardScaler, MinMaxScaler\n",
    "from sklearn.model_selection import GridSearchCV\n",
    "from sklearn.ensemble import RandomForestClassifier\n",
    "from sklearn.linear_model import LogisticRegression\n",
    "from sklearn.metrics import f1_score, recall_score, precision_score, accuracy_score, confusion_matrix, classification_report\n",
    "from sklearn.preprocessing import OneHotEncoder\n",
    "from sklearn.compose import ColumnTransformer\n",
    "from sklearn.preprocessing import LabelEncoder\n",
    "from sklearn.preprocessing import OrdinalEncoder\n",
    "from sklearn.model_selection import train_test_split\n",
    "from sklearn.pipeline import Pipeline\n",
    "import pickle\n",
    "plt.style.use('seaborn')\n",
    "\n",
    "from imblearn.over_sampling import SMOTE, RandomOverSampler\n",
    "from imblearn.under_sampling import RandomUnderSampler\n",
    "from imblearn.pipeline import Pipeline\n",
    "from sklearn.tree import DecisionTreeClassifier # pipeline builder can handle\n",
    "\n",
    "from sklearn.tree import plot_tree"
   ]
  },
  {
   "attachments": {},
   "cell_type": "markdown",
   "metadata": {},
   "source": [
    "# Data Gathering"
   ]
  },
  {
   "cell_type": "code",
   "execution_count": 2,
   "metadata": {},
   "outputs": [],
   "source": [
    "# reading in data as df\n",
    "df = pd.read_csv('Breast_Cancer.csv', delimiter=',')"
   ]
  },
  {
   "attachments": {},
   "cell_type": "markdown",
   "metadata": {},
   "source": [
    "# Preprocessing"
   ]
  },
  {
   "cell_type": "code",
   "execution_count": 3,
   "metadata": {},
   "outputs": [],
   "source": [
    "def clean_data(df):\n",
    "    \"\"\"Returns cleaned DataFrame.\n",
    "    \n",
    "    Correcting typos\n",
    "    Transform datatypes from object to category\n",
    "    Drop column 'Grade'\n",
    "\n",
    "    Args: \n",
    "        df (pd.DataFrame) : uncleaned DataFrame\n",
    "        \n",
    "    Returns:\n",
    "        df  (pd.DataFrame) : cleaned DataFrame\n",
    "    \"\"\"\n",
    "    # correcting typos\n",
    "    df = df.rename(columns={'T Stage ':'T Stage'})\n",
    "    df = df.rename(columns={'Reginol Node Positive': 'Regional Node Positive'})\n",
    "\n",
    "    # remapping target column\n",
    "    df.loc[:,'Status_encoded'] = df.loc[:,'Status'].map({'Alive':0, 'Dead':1})\n",
    "\n",
    "    # changing dtypes of columns as needed\n",
    "    dtypes_columns = {'Age' : 'int64',\n",
    "        'Race' : 'category',\n",
    "        'Marital Status' : 'category',\n",
    "        'T Stage' : 'category', \n",
    "        'N Stage' : 'category',\n",
    "        '6th Stage' : 'category',\n",
    "        'differentiate' : 'category',\n",
    "        'Grade' : 'category',\n",
    "        'A Stage' : 'category', \n",
    "        'Tumor Size' : 'int64',\n",
    "        'Estrogen Status' : 'category',\n",
    "        'Progesterone Status' : 'category',\n",
    "        'Regional Node Examined' : 'int64',\n",
    "        'Regional Node Positive' : 'int64',\n",
    "        'Survival Months' : 'int64',\n",
    "        'Status' : 'category',\n",
    "        'Status_encoded' : 'int64',\n",
    "        'Node_Exam_Pos_Rate': 'float64',\n",
    "        'Estrogen_Progesteron_Status': 'category'}\n",
    "    df = df.astype(dtypes_columns)\n",
    "\n",
    "    # drop 'Grade' columns because the information is the same as in the 'differentiate' column\n",
    "    df.drop('Status', axis=1, inplace=True)\n",
    "    df.drop('Grade', axis=1, inplace=True)\n",
    "\n",
    "    return df"
   ]
  },
  {
   "cell_type": "code",
   "execution_count": 4,
   "metadata": {},
   "outputs": [],
   "source": [
    "# save clean_data function as pickle\n",
    "pickle.dump(clean_data, open('clean_data.p', 'wb'))"
   ]
  },
  {
   "cell_type": "code",
   "execution_count": 5,
   "metadata": {},
   "outputs": [],
   "source": [
    "# load clean_data\n",
    "file_name = 'clean_data.p'\n",
    "clean_data = pickle.load(open(file_name, 'rb'))"
   ]
  },
  {
   "cell_type": "code",
   "execution_count": 7,
   "metadata": {},
   "outputs": [],
   "source": [
    "def feature_engineering(df):\n",
    "    \"\"\"Add new Features to Dataframe.\n",
    "    \n",
    "    Add features Node_Exam_Pos_Rate and Estrogen Status\n",
    "       \n",
    "    Args:\n",
    "        df (pd.DataFrame): Dataframe\n",
    "        ohe_transformer: The fitted ohe_transformer\n",
    "    \n",
    "    Returns:\n",
    "        (pd.DataFrame) : Dataframe with new Features\n",
    "    \"\"\" \n",
    "\n",
    "    # ['Node_Examined_Pos_Rate']: Positive Nodes per Examined Nodes\n",
    "    df.loc[:,'Node_Exam_Pos_Rate'] = df.loc[:,'Reginol Node Positive']/df.loc[:,'Regional Node Examined']\n",
    "\n",
    "    #['Progesteron_Estrogen_Status']: Positive status if status of both receptors is positive\n",
    "    mask = (df['Estrogen Status'] == 'Positive') | (df['Progesterone Status'] == 'Positive')\n",
    "    conditions = [mask, ~mask]\n",
    "    values = ['Positive', 'Negative']\n",
    "    df['Estrogen_Progesteron_Status'] = np.select(conditions, values)\n",
    "\n",
    "    return df\n",
    "    "
   ]
  },
  {
   "cell_type": "code",
   "execution_count": 8,
   "metadata": {},
   "outputs": [],
   "source": [
    "# save feature_engineering function as pickle\n",
    "pickle.dump(feature_engineering, open('feature_engineering.p', 'wb'))"
   ]
  },
  {
   "cell_type": "code",
   "execution_count": 9,
   "metadata": {},
   "outputs": [],
   "source": [
    "# load feature_engineering\n",
    "file_name = 'feature_engineering.p'\n",
    "feature_engineering = pickle.load(open(file_name, 'rb'))"
   ]
  },
  {
   "cell_type": "code",
   "execution_count": 10,
   "metadata": {},
   "outputs": [
    {
     "data": {
      "text/html": [
       "<div>\n",
       "<style scoped>\n",
       "    .dataframe tbody tr th:only-of-type {\n",
       "        vertical-align: middle;\n",
       "    }\n",
       "\n",
       "    .dataframe tbody tr th {\n",
       "        vertical-align: top;\n",
       "    }\n",
       "\n",
       "    .dataframe thead th {\n",
       "        text-align: right;\n",
       "    }\n",
       "</style>\n",
       "<table border=\"1\" class=\"dataframe\">\n",
       "  <thead>\n",
       "    <tr style=\"text-align: right;\">\n",
       "      <th></th>\n",
       "      <th>Age</th>\n",
       "      <th>Race</th>\n",
       "      <th>Marital Status</th>\n",
       "      <th>T Stage</th>\n",
       "      <th>N Stage</th>\n",
       "      <th>6th Stage</th>\n",
       "      <th>differentiate</th>\n",
       "      <th>A Stage</th>\n",
       "      <th>Tumor Size</th>\n",
       "      <th>Estrogen Status</th>\n",
       "      <th>Progesterone Status</th>\n",
       "      <th>Regional Node Examined</th>\n",
       "      <th>Regional Node Positive</th>\n",
       "      <th>Survival Months</th>\n",
       "      <th>Node_Exam_Pos_Rate</th>\n",
       "      <th>Estrogen_Progesteron_Status</th>\n",
       "      <th>Status_encoded</th>\n",
       "    </tr>\n",
       "  </thead>\n",
       "  <tbody>\n",
       "    <tr>\n",
       "      <th>0</th>\n",
       "      <td>68</td>\n",
       "      <td>White</td>\n",
       "      <td>Married</td>\n",
       "      <td>T1</td>\n",
       "      <td>N1</td>\n",
       "      <td>IIA</td>\n",
       "      <td>Poorly differentiated</td>\n",
       "      <td>Regional</td>\n",
       "      <td>4</td>\n",
       "      <td>Positive</td>\n",
       "      <td>Positive</td>\n",
       "      <td>24</td>\n",
       "      <td>1</td>\n",
       "      <td>60</td>\n",
       "      <td>0.041667</td>\n",
       "      <td>Positive</td>\n",
       "      <td>0</td>\n",
       "    </tr>\n",
       "    <tr>\n",
       "      <th>1</th>\n",
       "      <td>50</td>\n",
       "      <td>White</td>\n",
       "      <td>Married</td>\n",
       "      <td>T2</td>\n",
       "      <td>N2</td>\n",
       "      <td>IIIA</td>\n",
       "      <td>Moderately differentiated</td>\n",
       "      <td>Regional</td>\n",
       "      <td>35</td>\n",
       "      <td>Positive</td>\n",
       "      <td>Positive</td>\n",
       "      <td>14</td>\n",
       "      <td>5</td>\n",
       "      <td>62</td>\n",
       "      <td>0.357143</td>\n",
       "      <td>Positive</td>\n",
       "      <td>0</td>\n",
       "    </tr>\n",
       "    <tr>\n",
       "      <th>2</th>\n",
       "      <td>58</td>\n",
       "      <td>White</td>\n",
       "      <td>Divorced</td>\n",
       "      <td>T3</td>\n",
       "      <td>N3</td>\n",
       "      <td>IIIC</td>\n",
       "      <td>Moderately differentiated</td>\n",
       "      <td>Regional</td>\n",
       "      <td>63</td>\n",
       "      <td>Positive</td>\n",
       "      <td>Positive</td>\n",
       "      <td>14</td>\n",
       "      <td>7</td>\n",
       "      <td>75</td>\n",
       "      <td>0.500000</td>\n",
       "      <td>Positive</td>\n",
       "      <td>0</td>\n",
       "    </tr>\n",
       "    <tr>\n",
       "      <th>3</th>\n",
       "      <td>58</td>\n",
       "      <td>White</td>\n",
       "      <td>Married</td>\n",
       "      <td>T1</td>\n",
       "      <td>N1</td>\n",
       "      <td>IIA</td>\n",
       "      <td>Poorly differentiated</td>\n",
       "      <td>Regional</td>\n",
       "      <td>18</td>\n",
       "      <td>Positive</td>\n",
       "      <td>Positive</td>\n",
       "      <td>2</td>\n",
       "      <td>1</td>\n",
       "      <td>84</td>\n",
       "      <td>0.500000</td>\n",
       "      <td>Positive</td>\n",
       "      <td>0</td>\n",
       "    </tr>\n",
       "    <tr>\n",
       "      <th>4</th>\n",
       "      <td>47</td>\n",
       "      <td>White</td>\n",
       "      <td>Married</td>\n",
       "      <td>T2</td>\n",
       "      <td>N1</td>\n",
       "      <td>IIB</td>\n",
       "      <td>Poorly differentiated</td>\n",
       "      <td>Regional</td>\n",
       "      <td>41</td>\n",
       "      <td>Positive</td>\n",
       "      <td>Positive</td>\n",
       "      <td>3</td>\n",
       "      <td>1</td>\n",
       "      <td>50</td>\n",
       "      <td>0.333333</td>\n",
       "      <td>Positive</td>\n",
       "      <td>0</td>\n",
       "    </tr>\n",
       "  </tbody>\n",
       "</table>\n",
       "</div>"
      ],
      "text/plain": [
       "   Age   Race Marital Status T Stage N Stage 6th Stage  \\\n",
       "0   68  White        Married      T1      N1       IIA   \n",
       "1   50  White        Married      T2      N2      IIIA   \n",
       "2   58  White       Divorced      T3      N3      IIIC   \n",
       "3   58  White        Married      T1      N1       IIA   \n",
       "4   47  White        Married      T2      N1       IIB   \n",
       "\n",
       "               differentiate   A Stage  Tumor Size Estrogen Status  \\\n",
       "0      Poorly differentiated  Regional           4        Positive   \n",
       "1  Moderately differentiated  Regional          35        Positive   \n",
       "2  Moderately differentiated  Regional          63        Positive   \n",
       "3      Poorly differentiated  Regional          18        Positive   \n",
       "4      Poorly differentiated  Regional          41        Positive   \n",
       "\n",
       "  Progesterone Status  Regional Node Examined  Regional Node Positive  \\\n",
       "0            Positive                      24                       1   \n",
       "1            Positive                      14                       5   \n",
       "2            Positive                      14                       7   \n",
       "3            Positive                       2                       1   \n",
       "4            Positive                       3                       1   \n",
       "\n",
       "   Survival Months  Node_Exam_Pos_Rate Estrogen_Progesteron_Status  \\\n",
       "0               60            0.041667                    Positive   \n",
       "1               62            0.357143                    Positive   \n",
       "2               75            0.500000                    Positive   \n",
       "3               84            0.500000                    Positive   \n",
       "4               50            0.333333                    Positive   \n",
       "\n",
       "   Status_encoded  \n",
       "0               0  \n",
       "1               0  \n",
       "2               0  \n",
       "3               0  \n",
       "4               0  "
      ]
     },
     "execution_count": 10,
     "metadata": {},
     "output_type": "execute_result"
    }
   ],
   "source": [
    "# adding two new features\n",
    "df = feature_engineering(df)\n",
    "\n",
    "# clean dataframe\n",
    "df_clean = clean_data(df)\n",
    "df_clean.head()"
   ]
  },
  {
   "attachments": {},
   "cell_type": "markdown",
   "metadata": {},
   "source": [
    "# Train-Test Split"
   ]
  },
  {
   "cell_type": "code",
   "execution_count": 12,
   "metadata": {},
   "outputs": [],
   "source": [
    "# creating target and features \n",
    "target = df_clean.loc[:,'Status_encoded']\n",
    "#features = df.drop('Status', axis=1)\n",
    "features = df_clean.drop('Status_encoded', axis=1)\n",
    "\n",
    "# train and test split\n",
    "features_train, features_test, target_train, target_test = train_test_split(features, \n",
    "                                                                            target, \n",
    "                                                                            random_state=42,\n",
    "                                                                            test_size=0.1)"
   ]
  },
  {
   "cell_type": "code",
   "execution_count": 13,
   "metadata": {},
   "outputs": [],
   "source": [
    "# save features_test and target_test as 'features_test.csv' and 'target_test.csv' respectively\n",
    "features_test.to_csv('features_test.csv', index=False)\n",
    "target_test.to_csv('target_test.csv', index=False)"
   ]
  },
  {
   "attachments": {},
   "cell_type": "markdown",
   "metadata": {},
   "source": [
    "# Baseline Model"
   ]
  },
  {
   "cell_type": "code",
   "execution_count": 14,
   "metadata": {},
   "outputs": [],
   "source": [
    "# creating lists of categorical, ordinal and numerical columns\n",
    "cat_cols = ['Race', 'Marital Status', 'Estrogen Status', 'Progesterone Status', 'Estrogen_Progesteron_Status']\n",
    "ord_cols = ['T Stage', 'N Stage', '6th Stage', 'differentiate', 'A Stage']\n",
    "num_cols = [col for col in features_train.select_dtypes(include=[\"int64\",\"float64\"])]"
   ]
  },
  {
   "attachments": {},
   "cell_type": "markdown",
   "metadata": {},
   "source": [
    "Our baseline model will be a DecisionTreeClassifier for easy interpretability.\n",
    "\n",
    "First we have to deal with the inbalance of our target variable."
   ]
  },
  {
   "cell_type": "code",
   "execution_count": 20,
   "metadata": {},
   "outputs": [
    {
     "data": {
      "text/html": [
       "<div>\n",
       "<style scoped>\n",
       "    .dataframe tbody tr th:only-of-type {\n",
       "        vertical-align: middle;\n",
       "    }\n",
       "\n",
       "    .dataframe tbody tr th {\n",
       "        vertical-align: top;\n",
       "    }\n",
       "\n",
       "    .dataframe thead th {\n",
       "        text-align: right;\n",
       "    }\n",
       "</style>\n",
       "<table border=\"1\" class=\"dataframe\">\n",
       "  <thead>\n",
       "    <tr style=\"text-align: right;\">\n",
       "      <th></th>\n",
       "      <th>0</th>\n",
       "      <th>1</th>\n",
       "      <th>2</th>\n",
       "      <th>3</th>\n",
       "    </tr>\n",
       "  </thead>\n",
       "  <tbody>\n",
       "    <tr>\n",
       "      <th>name</th>\n",
       "      <td>DecisionTreeClassifier with OVERSAMPLING</td>\n",
       "      <td>DecisionTreeClassifier with UNDERSAMPLING</td>\n",
       "      <td>DecisionTreeClassifier with CLASS_WEIGHTS</td>\n",
       "      <td>DecisionTreeClassifier with SMOTE</td>\n",
       "    </tr>\n",
       "    <tr>\n",
       "      <th>accuracy</th>\n",
       "      <td>89.081886</td>\n",
       "      <td>77.419355</td>\n",
       "      <td>92.059553</td>\n",
       "      <td>88.585608</td>\n",
       "    </tr>\n",
       "    <tr>\n",
       "      <th>precision</th>\n",
       "      <td>69.69697</td>\n",
       "      <td>42.657343</td>\n",
       "      <td>85.185185</td>\n",
       "      <td>70.0</td>\n",
       "    </tr>\n",
       "    <tr>\n",
       "      <th>recall</th>\n",
       "      <td>65.714286</td>\n",
       "      <td>87.142857</td>\n",
       "      <td>65.714286</td>\n",
       "      <td>60.0</td>\n",
       "    </tr>\n",
       "    <tr>\n",
       "      <th>f1</th>\n",
       "      <td>67.647059</td>\n",
       "      <td>57.276995</td>\n",
       "      <td>74.193548</td>\n",
       "      <td>64.615385</td>\n",
       "    </tr>\n",
       "    <tr>\n",
       "      <th>best model</th>\n",
       "      <td>DecisionTreeClassifier(max_depth=4, random_sta...</td>\n",
       "      <td>DecisionTreeClassifier(max_depth=2, random_sta...</td>\n",
       "      <td>DecisionTreeClassifier(max_depth=2, random_sta...</td>\n",
       "      <td>DecisionTreeClassifier(max_depth=6, random_sta...</td>\n",
       "    </tr>\n",
       "  </tbody>\n",
       "</table>\n",
       "</div>"
      ],
      "text/plain": [
       "                                                            0  \\\n",
       "name                 DecisionTreeClassifier with OVERSAMPLING   \n",
       "accuracy                                            89.081886   \n",
       "precision                                            69.69697   \n",
       "recall                                              65.714286   \n",
       "f1                                                  67.647059   \n",
       "best model  DecisionTreeClassifier(max_depth=4, random_sta...   \n",
       "\n",
       "                                                            1  \\\n",
       "name                DecisionTreeClassifier with UNDERSAMPLING   \n",
       "accuracy                                            77.419355   \n",
       "precision                                           42.657343   \n",
       "recall                                              87.142857   \n",
       "f1                                                  57.276995   \n",
       "best model  DecisionTreeClassifier(max_depth=2, random_sta...   \n",
       "\n",
       "                                                            2  \\\n",
       "name                DecisionTreeClassifier with CLASS_WEIGHTS   \n",
       "accuracy                                            92.059553   \n",
       "precision                                           85.185185   \n",
       "recall                                              65.714286   \n",
       "f1                                                  74.193548   \n",
       "best model  DecisionTreeClassifier(max_depth=2, random_sta...   \n",
       "\n",
       "                                                            3  \n",
       "name                        DecisionTreeClassifier with SMOTE  \n",
       "accuracy                                            88.585608  \n",
       "precision                                                70.0  \n",
       "recall                                                   60.0  \n",
       "f1                                                  64.615385  \n",
       "best model  DecisionTreeClassifier(max_depth=6, random_sta...  "
      ]
     },
     "execution_count": 20,
     "metadata": {},
     "output_type": "execute_result"
    }
   ],
   "source": [
    "# testing different resampling methods\n",
    "# running time: 9.3s\n",
    "\n",
    "search_space = {'estimator__max_depth': range(2, 16, 2),\n",
    "                'estimator__class_weight': [None, 'balanced']}\n",
    "samplers = [('oversampling', RandomOverSampler(random_state=42)),\n",
    "            ('undersampling', RandomUnderSampler(random_state=42)),\n",
    "            ('class_weights', 'passthrough'),\n",
    "            ('smote', SMOTE(random_state=42))\n",
    "           ]\n",
    "sampling_results = []\n",
    "\n",
    "# go through every sampler\n",
    "for name, sampler in samplers:\n",
    "    # sampling\n",
    "    imb_pipe = Pipeline([('preprocessing', ColumnTransformer(transformers=[\n",
    "                            ('encoder', OneHotEncoder(handle_unknown='ignore'), cat_cols),\n",
    "                            ('ord_transformer', OrdinalEncoder(), ord_cols)\n",
    "                        ], remainder='passthrough')),\n",
    "                        ('sampler', sampler),\n",
    "                        ('estimator', DecisionTreeClassifier(random_state=42))\n",
    "                        ])\n",
    "    \n",
    "    # gridsearch and CV\n",
    "    grid_tree = GridSearchCV(estimator=imb_pipe, \n",
    "                        param_grid=search_space,\n",
    "                        n_jobs=-1,\n",
    "                        cv=5,\n",
    "                        scoring='f1')\n",
    "    \n",
    "    grid_tree.fit(features_train, target_train)\n",
    "\n",
    "    target_pred_tree = grid_tree.predict(features_test)\n",
    "\n",
    "    score = {'name': \"DecisionTreeClassifier with \" + name.upper(),\n",
    "        'accuracy': accuracy_score(target_test, target_pred_tree) * 100,\n",
    "        'precision': precision_score(target_test, target_pred_tree) * 100,\n",
    "        'recall': recall_score(target_test, target_pred_tree) * 100,\n",
    "        'f1': f1_score(target_test, target_pred_tree) * 100,\n",
    "        'best model': grid_tree.best_estimator_.named_steps['estimator']\n",
    "        }\n",
    "    sampling_results.append(score)\n",
    "# show results \n",
    "pd.DataFrame(sampling_results).T"
   ]
  },
  {
   "attachments": {},
   "cell_type": "markdown",
   "metadata": {},
   "source": [
    "We note that class_weights performs best for sampling. We will use the parameter class_weight for resampling our models."
   ]
  },
  {
   "attachments": {},
   "cell_type": "markdown",
   "metadata": {},
   "source": [
    "TODO: Confusion Matrix für Baseline Modell und Baselien Modell in model_results Liste aufneheen"
   ]
  },
  {
   "cell_type": "code",
   "execution_count": 27,
   "metadata": {},
   "outputs": [],
   "source": [
    "# list of metrics of all models\n",
    "model_results = []"
   ]
  },
  {
   "cell_type": "code",
   "execution_count": 30,
   "metadata": {},
   "outputs": [
    {
     "name": "stdout",
     "output_type": "stream",
     "text": [
      "best score\n",
      "0.6088559433566457\n",
      "best model parameter\n",
      "{'estimator__class_weight': None, 'estimator__max_depth': 2}\n",
      "Baseline model DecisionTreeClassifier(max_depth=2, random_state=42)\n"
     ]
    },
    {
     "data": {
      "text/html": [
       "<div>\n",
       "<style scoped>\n",
       "    .dataframe tbody tr th:only-of-type {\n",
       "        vertical-align: middle;\n",
       "    }\n",
       "\n",
       "    .dataframe tbody tr th {\n",
       "        vertical-align: top;\n",
       "    }\n",
       "\n",
       "    .dataframe thead th {\n",
       "        text-align: right;\n",
       "    }\n",
       "</style>\n",
       "<table border=\"1\" class=\"dataframe\">\n",
       "  <thead>\n",
       "    <tr style=\"text-align: right;\">\n",
       "      <th></th>\n",
       "      <th>0</th>\n",
       "    </tr>\n",
       "  </thead>\n",
       "  <tbody>\n",
       "    <tr>\n",
       "      <th>name</th>\n",
       "      <td>Baseline model</td>\n",
       "    </tr>\n",
       "    <tr>\n",
       "      <th>accuracy</th>\n",
       "      <td>92.059553</td>\n",
       "    </tr>\n",
       "    <tr>\n",
       "      <th>precision</th>\n",
       "      <td>85.185185</td>\n",
       "    </tr>\n",
       "    <tr>\n",
       "      <th>recall</th>\n",
       "      <td>65.714286</td>\n",
       "    </tr>\n",
       "    <tr>\n",
       "      <th>f1</th>\n",
       "      <td>74.193548</td>\n",
       "    </tr>\n",
       "  </tbody>\n",
       "</table>\n",
       "</div>"
      ],
      "text/plain": [
       "                        0\n",
       "name       Baseline model\n",
       "accuracy        92.059553\n",
       "precision       85.185185\n",
       "recall          65.714286\n",
       "f1              74.193548"
      ]
     },
     "execution_count": 30,
     "metadata": {},
     "output_type": "execute_result"
    }
   ],
   "source": [
    "# our baseline model\n",
    "\n",
    "pipeline_baseline = Pipeline([('preprocessing', ColumnTransformer(transformers=[\n",
    "                            ('encoder', OneHotEncoder(handle_unknown='ignore'), cat_cols),\n",
    "                            ('ord_transformer', OrdinalEncoder(), ord_cols)\n",
    "                        ], remainder='passthrough')),\n",
    "                        ('estimator', DecisionTreeClassifier(class_weight='balanced', random_state=42))])\n",
    "\n",
    "grid_tree = GridSearchCV(estimator=pipeline_baseline, \n",
    "                        param_grid=search_space,\n",
    "                        n_jobs=-1,\n",
    "                        cv=5,\n",
    "                        scoring='f1')\n",
    "grid_tree.fit(features_train, target_train)\n",
    "\n",
    "# Print the training score of the best model\n",
    "print(\"best score\")\n",
    "print(grid_tree.best_score_)\n",
    "\n",
    "# Print the model parameters of the best model\n",
    "print(\"best model parameter\")\n",
    "print(grid_tree.best_params_)\n",
    "\n",
    "baseline_model = grid_tree.best_estimator_['estimator']\n",
    "print(\"Baseline model\", baseline_model)\n",
    "\n",
    "# Print the val score of the best model\n",
    "#predict\n",
    "target_pred_tree = grid_tree.best_estimator_.predict(features_test)\n",
    "\n",
    "#save\n",
    "scores = {'name': \"Baseline model\",\n",
    "          'accuracy': accuracy_score(target_test, target_pred_tree) * 100,\n",
    "          'precision': precision_score(target_test, target_pred_tree) * 100,\n",
    "          'recall': recall_score(target_test, target_pred_tree) * 100,\n",
    "          'f1': f1_score(target_test, target_pred_tree) * 100,\n",
    "        }\n",
    "model_results.append(scores)\n",
    "    \n",
    "#show results\n",
    "pd.DataFrame(model_results).T"
   ]
  },
  {
   "cell_type": "code",
   "execution_count": 41,
   "metadata": {},
   "outputs": [
    {
     "data": {
      "image/png": "[encoded data removed]",
      "text/plain": [
       "<Figure size 640x480 with 2 Axes>"
      ]
     },
     "metadata": {},
     "output_type": "display_data"
    }
   ],
   "source": [
    "from sklearn.metrics import ConfusionMatrixDisplay\n",
    "\n",
    "# confusion matrix for predictions on test data\n",
    "plt.style.use('classic')\n",
    "test_pred = grid_tree.best_estimator_.predict(features_test)\n",
    "confusion_matrix(target_test, test_pred)\n",
    "\n",
    "ConfusionMatrixDisplay.from_estimator(grid_tree, features_test, target_test);"
   ]
  },
  {
   "cell_type": "code",
   "execution_count": 47,
   "metadata": {},
   "outputs": [
    {
     "name": "stdout",
     "output_type": "stream",
     "text": [
      "Classification Report:\n",
      "               precision    recall  f1-score   support\n",
      "\n",
      "           0       0.93      0.98      0.95       333\n",
      "           1       0.85      0.66      0.74        70\n",
      "\n",
      "    accuracy                           0.92       403\n",
      "   macro avg       0.89      0.82      0.85       403\n",
      "weighted avg       0.92      0.92      0.92       403\n",
      "\n"
     ]
    }
   ],
   "source": [
    "# report\n",
    "report = classification_report(target_test, target_pred_tree)\n",
    "print(\"Classification Report:\\n\", report)"
   ]
  },
  {
   "attachments": {},
   "cell_type": "markdown",
   "metadata": {},
   "source": [
    "We plot our decision tree. TODO: Was zur Gini-Impurity sagen!"
   ]
  },
  {
   "cell_type": "code",
   "execution_count": 35,
   "metadata": {},
   "outputs": [
    {
     "data": {
      "image/png": "[encoded data removed]",
      "text/plain": [
       "<Figure size 800x550 with 1 Axes>"
      ]
     },
     "metadata": {},
     "output_type": "display_data"
    }
   ],
   "source": [
    "plot_tree(decision_tree=baseline_model,\n",
    "          feature_names=grid_tree.estimator.named_steps['preprocessing'].get_feature_names_out(),\n",
    "          class_names=['Alive','Dead'],\n",
    "          filled=True);"
   ]
  },
  {
   "attachments": {},
   "cell_type": "markdown",
   "metadata": {},
   "source": [
    "We consider the roc-auc curve of our model."
   ]
  },
  {
   "cell_type": "code",
   "execution_count": 36,
   "metadata": {},
   "outputs": [
    {
     "data": {
      "image/png": "[encoded data removed]",
      "text/plain": [
       "<Figure size 800x550 with 1 Axes>"
      ]
     },
     "metadata": {},
     "output_type": "display_data"
    }
   ],
   "source": [
    "# print roc-curve\n",
    "\n",
    "# create DataFrame with one column named prediction\n",
    "df_pred_test = pd.DataFrame(target_pred_tree, columns=['prediction'])\n",
    "\n",
    "# predict probabilities and add them as new column\n",
    "df_pred_test.loc[:, 'probability'] = grid_tree.best_estimator_.predict_proba(features_test)[:, 1]  \n",
    "\n",
    "# calculate roc-curve\n",
    "from sklearn.metrics import roc_curve\n",
    "\n",
    "false_positive_rate, recall, threshold = roc_curve(target_test, df_pred_test.loc[:, 'probability']) \n",
    "\n",
    "# plotting\n",
    "plt.style.use('ggplot')\n",
    "\n",
    "# figure and axes intialisation\n",
    "fig, ax = plt.subplots()\n",
    "\n",
    "# reference lines\n",
    "ax.plot([0, 1], ls = \"--\")  # blue diagonal\n",
    "ax.plot([0, 0], [1, 0], c=\".7\", ls='--')  # grey vertical\n",
    "ax.plot([1, 1], c=\".7\", ls='--')  # grey horizontal\n",
    "\n",
    "# roc curve\n",
    "ax.plot(false_positive_rate, recall)\n",
    "\n",
    "# labels\n",
    "ax.set_title(\"Receiver Operating Characteristic\")\n",
    "ax.set_xlabel(\"False Positive Rate\")\n",
    "ax.set_ylabel(\"Recall\");"
   ]
  },
  {
   "attachments": {},
   "cell_type": "markdown",
   "metadata": {},
   "source": [
    "# Training Models"
   ]
  },
  {
   "attachments": {},
   "cell_type": "markdown",
   "metadata": {},
   "source": [
    "# 1. RandomForestClassifier"
   ]
  },
  {
   "cell_type": "code",
   "execution_count": 38,
   "metadata": {},
   "outputs": [
    {
     "name": "stdout",
     "output_type": "stream",
     "text": [
      "best score  0.6207223889633686\n",
      "best model parameter  {'model__max_depth': 21, 'model__min_samples_leaf': 2, 'model__n_estimators': 172}\n"
     ]
    },
    {
     "data": {
      "text/html": [
       "<div>\n",
       "<style scoped>\n",
       "    .dataframe tbody tr th:only-of-type {\n",
       "        vertical-align: middle;\n",
       "    }\n",
       "\n",
       "    .dataframe tbody tr th {\n",
       "        vertical-align: top;\n",
       "    }\n",
       "\n",
       "    .dataframe thead th {\n",
       "        text-align: right;\n",
       "    }\n",
       "</style>\n",
       "<table border=\"1\" class=\"dataframe\">\n",
       "  <thead>\n",
       "    <tr style=\"text-align: right;\">\n",
       "      <th></th>\n",
       "      <th>0</th>\n",
       "      <th>1</th>\n",
       "    </tr>\n",
       "  </thead>\n",
       "  <tbody>\n",
       "    <tr>\n",
       "      <th>name</th>\n",
       "      <td>Baseline model</td>\n",
       "      <td>RandomForestClassifier with all features selected</td>\n",
       "    </tr>\n",
       "    <tr>\n",
       "      <th>accuracy</th>\n",
       "      <td>92.059553</td>\n",
       "      <td>91.563275</td>\n",
       "    </tr>\n",
       "    <tr>\n",
       "      <th>precision</th>\n",
       "      <td>85.185185</td>\n",
       "      <td>83.333333</td>\n",
       "    </tr>\n",
       "    <tr>\n",
       "      <th>recall</th>\n",
       "      <td>65.714286</td>\n",
       "      <td>64.285714</td>\n",
       "    </tr>\n",
       "    <tr>\n",
       "      <th>f1</th>\n",
       "      <td>74.193548</td>\n",
       "      <td>72.580645</td>\n",
       "    </tr>\n",
       "  </tbody>\n",
       "</table>\n",
       "</div>"
      ],
      "text/plain": [
       "                        0                                                  1\n",
       "name       Baseline model  RandomForestClassifier with all features selected\n",
       "accuracy        92.059553                                          91.563275\n",
       "precision       85.185185                                          83.333333\n",
       "recall          65.714286                                          64.285714\n",
       "f1              74.193548                                          72.580645"
      ]
     },
     "execution_count": 38,
     "metadata": {},
     "output_type": "execute_result"
    }
   ],
   "source": [
    "# RandomForestClassifier with GridSearch\n",
    "# running time: 4:12min to run\n",
    "\n",
    "selected_features = cat_cols + ord_cols + num_cols\n",
    "\n",
    "\n",
    "# creating baseline model pipeline\n",
    "baseline_model = Pipeline([('preprocessing', ColumnTransformer(transformers=[\n",
    "                              ('cat_transformer', OneHotEncoder(drop='if_binary'), cat_cols), \n",
    "                              ('ord_transformer', OrdinalEncoder(), ord_cols)\n",
    "                         ], remainder='passthrough')),\n",
    "                         ('model', RandomForestClassifier(class_weight='balanced', random_state=42, n_jobs=-1))])\n",
    "\n",
    "search_space_rfc = {'model__max_depth': np.geomspace(start=1, stop=250, num=10, dtype='int'),\n",
    "                   'model__min_samples_leaf': np.geomspace(start=1, stop=40, num=10, dtype='int'),\n",
    "                    'model__n_estimators': np.geomspace(start=25, stop=300, num=10, dtype='int')}\n",
    "\n",
    "model_rfc = GridSearchCV(estimator=baseline_model,\n",
    "                        param_grid=search_space_rfc,\n",
    "                        scoring='f1',\n",
    "                        cv=5,\n",
    "                        n_jobs=-1)\n",
    "\n",
    "# fitting model\n",
    "model_rfc.fit(features_train[selected_features], target_train)\n",
    "\n",
    "# Print the training score of the best model\n",
    "print(\"best score \", model_rfc.best_score_)\n",
    "\n",
    "# Print the model parameters of the best model\n",
    "print(\"best model parameter \", model_rfc.best_params_)\n",
    "\n",
    "target_test_pred_rfc = model_rfc.best_estimator_.predict(features_test)\n",
    "\n",
    "scores = {'name': \"RandomForestClassifier with all features selected\",\n",
    "          'accuracy': accuracy_score(target_test,target_test_pred_rfc) * 100,\n",
    "          'precision': precision_score(target_test,target_test_pred_rfc) * 100,\n",
    "          'recall': recall_score(target_test,target_test_pred_rfc) * 100,\n",
    "          'f1': f1_score(target_test,target_test_pred_rfc) * 100,\n",
    "         }\n",
    "model_results.append(scores)\n",
    "pd.DataFrame(model_results).T\n"
   ]
  },
  {
   "cell_type": "code",
   "execution_count": 39,
   "metadata": {},
   "outputs": [],
   "source": [
    "# save best model_rfc as pickle\n",
    "pickle.dump(model_rfc, open('model_rfc.p', 'wb'))"
   ]
  },
  {
   "cell_type": "code",
   "execution_count": 40,
   "metadata": {},
   "outputs": [],
   "source": [
    "# load model_rfc\n",
    "file_name = 'model_rfc.p'\n",
    "#with (open(file_name, \"rb\")) as f:\n",
    "model_rfc = pickle.load(open(file_name, 'rb'))"
   ]
  },
  {
   "cell_type": "code",
   "execution_count": 42,
   "metadata": {},
   "outputs": [
    {
     "data": {
      "image/png": "[encoded data removed]",
      "text/plain": [
       "<Figure size 640x480 with 2 Axes>"
      ]
     },
     "metadata": {},
     "output_type": "display_data"
    }
   ],
   "source": [
    "from sklearn.metrics import ConfusionMatrixDisplay\n",
    "\n",
    "# confusion matrix for predictions on test data\n",
    "plt.style.use('classic')\n",
    "test_pred = model_rfc.best_estimator_.predict(features_test[selected_features])\n",
    "confusion_matrix(target_test, test_pred)\n",
    "\n",
    "ConfusionMatrixDisplay.from_estimator(model_rfc, features_test[selected_features], target_test);"
   ]
  },
  {
   "cell_type": "code",
   "execution_count": 48,
   "metadata": {},
   "outputs": [
    {
     "name": "stdout",
     "output_type": "stream",
     "text": [
      "Classification Report:\n",
      "               precision    recall  f1-score   support\n",
      "\n",
      "           0       0.93      0.97      0.95       333\n",
      "           1       0.83      0.64      0.73        70\n",
      "\n",
      "    accuracy                           0.92       403\n",
      "   macro avg       0.88      0.81      0.84       403\n",
      "weighted avg       0.91      0.92      0.91       403\n",
      "\n"
     ]
    }
   ],
   "source": [
    "# report\n",
    "report = classification_report(target_test, target_test_pred_rfc)\n",
    "print(\"Classification Report:\\n\", report)"
   ]
  },
  {
   "cell_type": "code",
   "execution_count": 52,
   "metadata": {},
   "outputs": [
    {
     "data": {
      "image/png": "[encoded data removed]",
      "text/plain": [
       "<Figure size 640x480 with 1 Axes>"
      ]
     },
     "metadata": {},
     "output_type": "display_data"
    }
   ],
   "source": [
    "# print roc-curve\n",
    "\n",
    "# create DataFrame with one column named prediction\n",
    "df_pred_test = pd.DataFrame(target_test_pred_rfc, columns=['prediction'])\n",
    "\n",
    "# predict probabilities and add them as new column\n",
    "df_pred_test.loc[:, 'probability'] = model_rfc.best_estimator_.predict_proba(features_test)[:, 1]  \n",
    "\n",
    "# calculate roc-curve\n",
    "from sklearn.metrics import roc_curve\n",
    "\n",
    "false_positive_rate, recall, threshold = roc_curve(target_test, df_pred_test.loc[:, 'probability']) \n",
    "\n",
    "# plotting\n",
    "plt.style.use('ggplot')\n",
    "\n",
    "# figure and axes intialisation\n",
    "fig, ax = plt.subplots()\n",
    "\n",
    "# reference lines\n",
    "ax.plot([0, 1], ls = \"--\")  # blue diagonal\n",
    "ax.plot([0, 0], [1, 0], c=\".7\", ls='--')  # grey vertical\n",
    "ax.plot([1, 1], c=\".7\", ls='--')  # grey horizontal\n",
    "\n",
    "# roc curve\n",
    "ax.plot(false_positive_rate, recall)\n",
    "\n",
    "# labels\n",
    "ax.set_title(\"Receiver Operating Characteristic\")\n",
    "ax.set_xlabel(\"False Positive Rate\")\n",
    "ax.set_ylabel(\"Recall\");"
   ]
  },
  {
   "cell_type": "code",
   "execution_count": 51,
   "metadata": {},
   "outputs": [
    {
     "data": {
      "text/plain": [
       "<matplotlib.legend.Legend at 0x241c49429e0>"
      ]
     },
     "execution_count": 51,
     "metadata": {},
     "output_type": "execute_result"
    },
    {
     "data": {
      "image/png": "[encoded data removed]",
      "text/plain": [
       "<Figure size 1280x320 with 3 Axes>"
      ]
     },
     "metadata": {},
     "output_type": "display_data"
    }
   ],
   "source": [
    "from sklearn.model_selection import validation_curve\n",
    "\n",
    "# set-up for validation curve: which max_depth-settings to try\n",
    "search_space = range(2, 40,4)\n",
    "\n",
    "# initialize figures with two axes\n",
    "fig, ax = plt.subplots(ncols=3, figsize=[16, 4])\n",
    "fig.suptitle('Validation curves of RandomForestClassifier')\n",
    "\n",
    "# precision\n",
    "\n",
    "# calculate precision values of different hyperparameter settings and cross validation folds\n",
    "precision_train, precision_val = validation_curve(estimator=baseline_model.named_steps['model'], \n",
    "                                                  X=baseline_model.named_steps['preprocessing'].fit_transform(features_train, target_train), \n",
    "                                                  y=target_train, \n",
    "                                                  param_name='max_depth',\n",
    "                                                  param_range=search_space,\n",
    "                                                  cv=5,\n",
    "                                                  scoring='precision')\n",
    "\n",
    "# calculate average precision values for each hyperparameter setting\n",
    "precision_train_mean = np.mean(precision_train, axis=1)\n",
    "precision_val_mean = np.mean(precision_val, axis=1)\n",
    "\n",
    "# plot validation curve\n",
    "ax[0].plot(search_space,\n",
    "           precision_train_mean, label='precision train')\n",
    "ax[0].plot(search_space,\n",
    "           precision_val_mean, label='precision validation')\n",
    "ax[0].set(ylim=[0, 1.05],\n",
    "          xlabel='Decision levels (max_depth)',\n",
    "          ylabel='Precision score',\n",
    "          title='Precision score and Decision levels')\n",
    "ax[0].legend()\n",
    "\n",
    "# recall\n",
    "\n",
    "# calculate recall values of different hyperparameter settings and cross validation folds\n",
    "recall_train, recall_val = validation_curve(estimator=baseline_model.named_steps['model'], \n",
    "                                            X=baseline_model.named_steps['preprocessing'].fit_transform(features_train, target_train), \n",
    "                                            y=target_train, \n",
    "                                            param_name='max_depth',\n",
    "                                            param_range=search_space,\n",
    "                                            cv=5,\n",
    "                                            scoring='recall')\n",
    "\n",
    "# calculate average recall values for each hyperparameter setting\n",
    "recall_train_mean = np.mean(recall_train, axis=1)\n",
    "recall_val_mean = np.mean(recall_val, axis=1)\n",
    "\n",
    "# plot validation curve\n",
    "ax[1].plot(search_space,\n",
    "           recall_train_mean, label='recall train')\n",
    "ax[1].plot(search_space,\n",
    "           recall_val_mean, label='recall validation')\n",
    "ax[1].set(ylim=[0, 1.05],\n",
    "          xlabel='Decision levels (max_depth)',\n",
    "          ylabel='Recall score',\n",
    "          title='Recall score and Decision levels')\n",
    "ax[1].legend()\n",
    "\n",
    "# f1 score\n",
    "\n",
    "# calculate precision values of different hyperparameter settings and cross validation folds\n",
    "precision_train, precision_val = validation_curve(estimator=baseline_model.named_steps['model'], \n",
    "                                                  X=baseline_model.named_steps['preprocessing'].fit_transform(features_train, target_train), \n",
    "                                                  y=target_train, \n",
    "                                                  param_name='max_depth',\n",
    "                                                  param_range=search_space,\n",
    "                                                  cv=5,\n",
    "                                                  scoring='f1')\n",
    "\n",
    "# calculate average precision values for each hyperparameter setting\n",
    "precision_train_mean = np.mean(precision_train, axis=1)\n",
    "precision_val_mean = np.mean(precision_val, axis=1)\n",
    "\n",
    "# plot validation curve\n",
    "ax[2].plot(search_space,\n",
    "           precision_train_mean, label='f1 train')\n",
    "ax[2].plot(search_space,\n",
    "           precision_val_mean, label='f1 validation')\n",
    "ax[2].set(ylim=[0, 1.05],\n",
    "          xlabel='Decision levels (max_depth)',\n",
    "          ylabel='F1 score',\n",
    "          title='F1 score and Decision levels')\n",
    "ax[2].legend()"
   ]
  },
  {
   "attachments": {},
   "cell_type": "markdown",
   "metadata": {},
   "source": [
    "# 2. RandomForestClassifier with only the 12 most important features"
   ]
  },
  {
   "cell_type": "code",
   "execution_count": 44,
   "metadata": {},
   "outputs": [],
   "source": [
    "def feature_selection(grid):\n",
    "    \"\"\"Add new Features to Dataframe.\n",
    "    \n",
    "    Extract the 12 most important features of a given model.\n",
    "       \n",
    "    Args:\n",
    "        df (pd.DataFrame): Dataframe\n",
    "    \n",
    "    Returns:\n",
    "        (list) : list of column names\n",
    "    \"\"\" \n",
    "    feature_importances = pd.DataFrame(grid.estimator.named_steps['classifier'].feature_importances_, index=grid.estimator.named_steps['preprocessing'].get_feature_names_out())\n",
    "    feature_importances = feature_importances.sort_values(by=0, ascending=True)\n",
    "\n",
    "    return feature_importances.tail(12).index"
   ]
  },
  {
   "cell_type": "code",
   "execution_count": 45,
   "metadata": {},
   "outputs": [],
   "source": [
    "# save feature_selection as pickle\n",
    "pickle.dump(feature_selection, open('feature_selection.p', 'wb'))"
   ]
  },
  {
   "cell_type": "code",
   "execution_count": 46,
   "metadata": {},
   "outputs": [],
   "source": [
    "# load feature_selection\n",
    "file_name = 'feature_selection.p'\n",
    "#with (open(file_name, \"rb\")) as f:\n",
    "feature_selection = pickle.load(open(file_name, 'rb'))"
   ]
  },
  {
   "attachments": {},
   "cell_type": "markdown",
   "metadata": {},
   "source": [
    "Folgende Code-Zeile löschen wir evntuell noch, da es noch nicht funktioniert"
   ]
  },
  {
   "cell_type": "code",
   "execution_count": 26,
   "metadata": {},
   "outputs": [
    {
     "data": {
      "text/plain": [
       "Index(['encoder__Marital Status_Married',\n",
       "       'encoder__Progesterone Status_Negative', 'ord_transformer__T Stage',\n",
       "       'ord_transformer__N Stage', 'ord_transformer__differentiate',\n",
       "       'ord_transformer__6th Stage', 'remainder__Regional Node Positive',\n",
       "       'remainder__Regional Node Examined', 'remainder__Tumor Size',\n",
       "       'remainder__Age', 'remainder__Node_Exam_Pos_Rate',\n",
       "       'remainder__Survival Months'],\n",
       "      dtype='object')"
      ]
     },
     "metadata": {},
     "output_type": "display_data"
    },
    {
     "ename": "ValueError",
     "evalue": "A given column is not a column of the dataframe",
     "output_type": "error",
     "traceback": [
      "\u001b[1;31m---------------------------------------------------------------------------\u001b[0m",
      "\u001b[1;31mKeyError\u001b[0m                                  Traceback (most recent call last)",
      "File \u001b[1;32mc:\\Users\\flori\\anaconda3\\lib\\site-packages\\pandas\\core\\indexes\\base.py:3802\u001b[0m, in \u001b[0;36mIndex.get_loc\u001b[1;34m(self, key, method, tolerance)\u001b[0m\n\u001b[0;32m   3801\u001b[0m \u001b[39mtry\u001b[39;00m:\n\u001b[1;32m-> 3802\u001b[0m     \u001b[39mreturn\u001b[39;00m \u001b[39mself\u001b[39;49m\u001b[39m.\u001b[39;49m_engine\u001b[39m.\u001b[39;49mget_loc(casted_key)\n\u001b[0;32m   3803\u001b[0m \u001b[39mexcept\u001b[39;00m \u001b[39mKeyError\u001b[39;00m \u001b[39mas\u001b[39;00m err:\n",
      "File \u001b[1;32mc:\\Users\\flori\\anaconda3\\lib\\site-packages\\pandas\\_libs\\index.pyx:138\u001b[0m, in \u001b[0;36mpandas._libs.index.IndexEngine.get_loc\u001b[1;34m()\u001b[0m\n",
      "File \u001b[1;32mc:\\Users\\flori\\anaconda3\\lib\\site-packages\\pandas\\_libs\\index.pyx:165\u001b[0m, in \u001b[0;36mpandas._libs.index.IndexEngine.get_loc\u001b[1;34m()\u001b[0m\n",
      "File \u001b[1;32mpandas\\_libs\\hashtable_class_helper.pxi:5745\u001b[0m, in \u001b[0;36mpandas._libs.hashtable.PyObjectHashTable.get_item\u001b[1;34m()\u001b[0m\n",
      "File \u001b[1;32mpandas\\_libs\\hashtable_class_helper.pxi:5753\u001b[0m, in \u001b[0;36mpandas._libs.hashtable.PyObjectHashTable.get_item\u001b[1;34m()\u001b[0m\n",
      "\u001b[1;31mKeyError\u001b[0m: 'encoder__Marital Status_Married'",
      "\nThe above exception was the direct cause of the following exception:\n",
      "\u001b[1;31mKeyError\u001b[0m                                  Traceback (most recent call last)",
      "File \u001b[1;32mc:\\Users\\flori\\anaconda3\\lib\\site-packages\\sklearn\\utils\\__init__.py:448\u001b[0m, in \u001b[0;36m_get_column_indices\u001b[1;34m(X, key)\u001b[0m\n\u001b[0;32m    447\u001b[0m \u001b[39mfor\u001b[39;00m col \u001b[39min\u001b[39;00m columns:\n\u001b[1;32m--> 448\u001b[0m     col_idx \u001b[39m=\u001b[39m all_columns\u001b[39m.\u001b[39;49mget_loc(col)\n\u001b[0;32m    449\u001b[0m     \u001b[39mif\u001b[39;00m \u001b[39mnot\u001b[39;00m \u001b[39misinstance\u001b[39m(col_idx, numbers\u001b[39m.\u001b[39mIntegral):\n",
      "File \u001b[1;32mc:\\Users\\flori\\anaconda3\\lib\\site-packages\\pandas\\core\\indexes\\base.py:3804\u001b[0m, in \u001b[0;36mIndex.get_loc\u001b[1;34m(self, key, method, tolerance)\u001b[0m\n\u001b[0;32m   3803\u001b[0m \u001b[39mexcept\u001b[39;00m \u001b[39mKeyError\u001b[39;00m \u001b[39mas\u001b[39;00m err:\n\u001b[1;32m-> 3804\u001b[0m     \u001b[39mraise\u001b[39;00m \u001b[39mKeyError\u001b[39;00m(key) \u001b[39mfrom\u001b[39;00m \u001b[39merr\u001b[39;00m\n\u001b[0;32m   3805\u001b[0m \u001b[39mexcept\u001b[39;00m \u001b[39mTypeError\u001b[39;00m:\n\u001b[0;32m   3806\u001b[0m     \u001b[39m# If we have a listlike key, _check_indexing_error will raise\u001b[39;00m\n\u001b[0;32m   3807\u001b[0m     \u001b[39m#  InvalidIndexError. Otherwise we fall through and re-raise\u001b[39;00m\n\u001b[0;32m   3808\u001b[0m     \u001b[39m#  the TypeError.\u001b[39;00m\n",
      "\u001b[1;31mKeyError\u001b[0m: 'encoder__Marital Status_Married'",
      "\nThe above exception was the direct cause of the following exception:\n",
      "\u001b[1;31mValueError\u001b[0m                                Traceback (most recent call last)",
      "Cell \u001b[1;32mIn[26], line 23\u001b[0m\n\u001b[0;32m     15\u001b[0m pipe_rf \u001b[39m=\u001b[39m Pipeline([(\u001b[39m'\u001b[39m\u001b[39mpreprocessing\u001b[39m\u001b[39m'\u001b[39m, ColumnTransformer(transformers\u001b[39m=\u001b[39m[\n\u001b[0;32m     16\u001b[0m                          (\u001b[39m'\u001b[39m\u001b[39mencoder\u001b[39m\u001b[39m'\u001b[39m, OneHotEncoder(handle_unknown\u001b[39m=\u001b[39m\u001b[39m'\u001b[39m\u001b[39mignore\u001b[39m\u001b[39m'\u001b[39m), cat_cols),\n\u001b[0;32m     17\u001b[0m                          (\u001b[39m'\u001b[39m\u001b[39mord_transformer\u001b[39m\u001b[39m'\u001b[39m, OrdinalEncoder(), ord_cols),\n\u001b[0;32m     18\u001b[0m   \t\t\t                  (\u001b[39m'\u001b[39m\u001b[39mkeep_cols\u001b[39m\u001b[39m'\u001b[39m, \u001b[39m'\u001b[39m\u001b[39mpassthrough\u001b[39m\u001b[39m'\u001b[39m, most_important_features)\n\u001b[0;32m     19\u001b[0m                       ], remainder\u001b[39m=\u001b[39m\u001b[39m'\u001b[39m\u001b[39mdrop\u001b[39m\u001b[39m'\u001b[39m)),\n\u001b[0;32m     20\u001b[0m                       (\u001b[39m'\u001b[39m\u001b[39mclassifier\u001b[39m\u001b[39m'\u001b[39m, grid_rf\u001b[39m.\u001b[39mestimator\u001b[39m.\u001b[39mnamed_steps[\u001b[39m'\u001b[39m\u001b[39mclassifier\u001b[39m\u001b[39m'\u001b[39m])])\n\u001b[0;32m     22\u001b[0m \u001b[39m# Train the RandomForestClassifier\u001b[39;00m\n\u001b[1;32m---> 23\u001b[0m pipe_rf\u001b[39m.\u001b[39;49mfit(features_train, target_train)\n\u001b[0;32m     25\u001b[0m \u001b[39m# Print the training score of the best model\u001b[39;00m\n\u001b[0;32m     26\u001b[0m \u001b[39mprint\u001b[39m(\u001b[39m\"\u001b[39m\u001b[39mbest score\u001b[39m\u001b[39m\"\u001b[39m, pipe_rf\u001b[39m.\u001b[39mbest_score_)\n",
      "File \u001b[1;32mc:\\Users\\flori\\anaconda3\\lib\\site-packages\\imblearn\\pipeline.py:293\u001b[0m, in \u001b[0;36mPipeline.fit\u001b[1;34m(self, X, y, **fit_params)\u001b[0m\n\u001b[0;32m    291\u001b[0m \u001b[39mself\u001b[39m\u001b[39m.\u001b[39m_validate_params()\n\u001b[0;32m    292\u001b[0m fit_params_steps \u001b[39m=\u001b[39m \u001b[39mself\u001b[39m\u001b[39m.\u001b[39m_check_fit_params(\u001b[39m*\u001b[39m\u001b[39m*\u001b[39mfit_params)\n\u001b[1;32m--> 293\u001b[0m Xt, yt \u001b[39m=\u001b[39m \u001b[39mself\u001b[39m\u001b[39m.\u001b[39m_fit(X, y, \u001b[39m*\u001b[39m\u001b[39m*\u001b[39mfit_params_steps)\n\u001b[0;32m    294\u001b[0m \u001b[39mwith\u001b[39;00m _print_elapsed_time(\u001b[39m\"\u001b[39m\u001b[39mPipeline\u001b[39m\u001b[39m\"\u001b[39m, \u001b[39mself\u001b[39m\u001b[39m.\u001b[39m_log_message(\u001b[39mlen\u001b[39m(\u001b[39mself\u001b[39m\u001b[39m.\u001b[39msteps) \u001b[39m-\u001b[39m \u001b[39m1\u001b[39m)):\n\u001b[0;32m    295\u001b[0m     \u001b[39mif\u001b[39;00m \u001b[39mself\u001b[39m\u001b[39m.\u001b[39m_final_estimator \u001b[39m!=\u001b[39m \u001b[39m\"\u001b[39m\u001b[39mpassthrough\u001b[39m\u001b[39m\"\u001b[39m:\n",
      "File \u001b[1;32mc:\\Users\\flori\\anaconda3\\lib\\site-packages\\imblearn\\pipeline.py:240\u001b[0m, in \u001b[0;36mPipeline._fit\u001b[1;34m(self, X, y, **fit_params_steps)\u001b[0m\n\u001b[0;32m    236\u001b[0m \u001b[39m# Fit or load from cache the current transformer\u001b[39;00m\n\u001b[0;32m    237\u001b[0m \u001b[39mif\u001b[39;00m \u001b[39mhasattr\u001b[39m(cloned_transformer, \u001b[39m\"\u001b[39m\u001b[39mtransform\u001b[39m\u001b[39m\"\u001b[39m) \u001b[39mor\u001b[39;00m \u001b[39mhasattr\u001b[39m(\n\u001b[0;32m    238\u001b[0m     cloned_transformer, \u001b[39m\"\u001b[39m\u001b[39mfit_transform\u001b[39m\u001b[39m\"\u001b[39m\n\u001b[0;32m    239\u001b[0m ):\n\u001b[1;32m--> 240\u001b[0m     X, fitted_transformer \u001b[39m=\u001b[39m fit_transform_one_cached(\n\u001b[0;32m    241\u001b[0m         cloned_transformer,\n\u001b[0;32m    242\u001b[0m         X,\n\u001b[0;32m    243\u001b[0m         y,\n\u001b[0;32m    244\u001b[0m         \u001b[39mNone\u001b[39;00m,\n\u001b[0;32m    245\u001b[0m         message_clsname\u001b[39m=\u001b[39m\u001b[39m\"\u001b[39m\u001b[39mPipeline\u001b[39m\u001b[39m\"\u001b[39m,\n\u001b[0;32m    246\u001b[0m         message\u001b[39m=\u001b[39m\u001b[39mself\u001b[39m\u001b[39m.\u001b[39m_log_message(step_idx),\n\u001b[0;32m    247\u001b[0m         \u001b[39m*\u001b[39m\u001b[39m*\u001b[39mfit_params_steps[name],\n\u001b[0;32m    248\u001b[0m     )\n\u001b[0;32m    249\u001b[0m \u001b[39melif\u001b[39;00m \u001b[39mhasattr\u001b[39m(cloned_transformer, \u001b[39m\"\u001b[39m\u001b[39mfit_resample\u001b[39m\u001b[39m\"\u001b[39m):\n\u001b[0;32m    250\u001b[0m     X, y, fitted_transformer \u001b[39m=\u001b[39m fit_resample_one_cached(\n\u001b[0;32m    251\u001b[0m         cloned_transformer,\n\u001b[0;32m    252\u001b[0m         X,\n\u001b[1;32m   (...)\u001b[0m\n\u001b[0;32m    256\u001b[0m         \u001b[39m*\u001b[39m\u001b[39m*\u001b[39mfit_params_steps[name],\n\u001b[0;32m    257\u001b[0m     )\n",
      "File \u001b[1;32mc:\\Users\\flori\\anaconda3\\lib\\site-packages\\joblib\\memory.py:349\u001b[0m, in \u001b[0;36mNotMemorizedFunc.__call__\u001b[1;34m(self, *args, **kwargs)\u001b[0m\n\u001b[0;32m    348\u001b[0m \u001b[39mdef\u001b[39;00m \u001b[39m__call__\u001b[39m(\u001b[39mself\u001b[39m, \u001b[39m*\u001b[39margs, \u001b[39m*\u001b[39m\u001b[39m*\u001b[39mkwargs):\n\u001b[1;32m--> 349\u001b[0m     \u001b[39mreturn\u001b[39;00m \u001b[39mself\u001b[39m\u001b[39m.\u001b[39mfunc(\u001b[39m*\u001b[39margs, \u001b[39m*\u001b[39m\u001b[39m*\u001b[39mkwargs)\n",
      "File \u001b[1;32mc:\\Users\\flori\\anaconda3\\lib\\site-packages\\sklearn\\pipeline.py:893\u001b[0m, in \u001b[0;36m_fit_transform_one\u001b[1;34m(transformer, X, y, weight, message_clsname, message, **fit_params)\u001b[0m\n\u001b[0;32m    891\u001b[0m \u001b[39mwith\u001b[39;00m _print_elapsed_time(message_clsname, message):\n\u001b[0;32m    892\u001b[0m     \u001b[39mif\u001b[39;00m \u001b[39mhasattr\u001b[39m(transformer, \u001b[39m\"\u001b[39m\u001b[39mfit_transform\u001b[39m\u001b[39m\"\u001b[39m):\n\u001b[1;32m--> 893\u001b[0m         res \u001b[39m=\u001b[39m transformer\u001b[39m.\u001b[39mfit_transform(X, y, \u001b[39m*\u001b[39m\u001b[39m*\u001b[39mfit_params)\n\u001b[0;32m    894\u001b[0m     \u001b[39melse\u001b[39;00m:\n\u001b[0;32m    895\u001b[0m         res \u001b[39m=\u001b[39m transformer\u001b[39m.\u001b[39mfit(X, y, \u001b[39m*\u001b[39m\u001b[39m*\u001b[39mfit_params)\u001b[39m.\u001b[39mtransform(X)\n",
      "File \u001b[1;32mc:\\Users\\flori\\anaconda3\\lib\\site-packages\\sklearn\\utils\\_set_output.py:142\u001b[0m, in \u001b[0;36m_wrap_method_output.<locals>.wrapped\u001b[1;34m(self, X, *args, **kwargs)\u001b[0m\n\u001b[0;32m    140\u001b[0m \u001b[39m@wraps\u001b[39m(f)\n\u001b[0;32m    141\u001b[0m \u001b[39mdef\u001b[39;00m \u001b[39mwrapped\u001b[39m(\u001b[39mself\u001b[39m, X, \u001b[39m*\u001b[39margs, \u001b[39m*\u001b[39m\u001b[39m*\u001b[39mkwargs):\n\u001b[1;32m--> 142\u001b[0m     data_to_wrap \u001b[39m=\u001b[39m f(\u001b[39mself\u001b[39m, X, \u001b[39m*\u001b[39margs, \u001b[39m*\u001b[39m\u001b[39m*\u001b[39mkwargs)\n\u001b[0;32m    143\u001b[0m     \u001b[39mif\u001b[39;00m \u001b[39misinstance\u001b[39m(data_to_wrap, \u001b[39mtuple\u001b[39m):\n\u001b[0;32m    144\u001b[0m         \u001b[39m# only wrap the first output for cross decomposition\u001b[39;00m\n\u001b[0;32m    145\u001b[0m         \u001b[39mreturn\u001b[39;00m (\n\u001b[0;32m    146\u001b[0m             _wrap_data_with_container(method, data_to_wrap[\u001b[39m0\u001b[39m], X, \u001b[39mself\u001b[39m),\n\u001b[0;32m    147\u001b[0m             \u001b[39m*\u001b[39mdata_to_wrap[\u001b[39m1\u001b[39m:],\n\u001b[0;32m    148\u001b[0m         )\n",
      "File \u001b[1;32mc:\\Users\\flori\\anaconda3\\lib\\site-packages\\sklearn\\compose\\_column_transformer.py:724\u001b[0m, in \u001b[0;36mColumnTransformer.fit_transform\u001b[1;34m(self, X, y)\u001b[0m\n\u001b[0;32m    722\u001b[0m \u001b[39mself\u001b[39m\u001b[39m.\u001b[39m_check_n_features(X, reset\u001b[39m=\u001b[39m\u001b[39mTrue\u001b[39;00m)\n\u001b[0;32m    723\u001b[0m \u001b[39mself\u001b[39m\u001b[39m.\u001b[39m_validate_transformers()\n\u001b[1;32m--> 724\u001b[0m \u001b[39mself\u001b[39;49m\u001b[39m.\u001b[39;49m_validate_column_callables(X)\n\u001b[0;32m    725\u001b[0m \u001b[39mself\u001b[39m\u001b[39m.\u001b[39m_validate_remainder(X)\n\u001b[0;32m    727\u001b[0m result \u001b[39m=\u001b[39m \u001b[39mself\u001b[39m\u001b[39m.\u001b[39m_fit_transform(X, y, _fit_transform_one)\n",
      "File \u001b[1;32mc:\\Users\\flori\\anaconda3\\lib\\site-packages\\sklearn\\compose\\_column_transformer.py:426\u001b[0m, in \u001b[0;36mColumnTransformer._validate_column_callables\u001b[1;34m(self, X)\u001b[0m\n\u001b[0;32m    424\u001b[0m         columns \u001b[39m=\u001b[39m columns(X)\n\u001b[0;32m    425\u001b[0m     all_columns\u001b[39m.\u001b[39mappend(columns)\n\u001b[1;32m--> 426\u001b[0m     transformer_to_input_indices[name] \u001b[39m=\u001b[39m _get_column_indices(X, columns)\n\u001b[0;32m    428\u001b[0m \u001b[39mself\u001b[39m\u001b[39m.\u001b[39m_columns \u001b[39m=\u001b[39m all_columns\n\u001b[0;32m    429\u001b[0m \u001b[39mself\u001b[39m\u001b[39m.\u001b[39m_transformer_to_input_indices \u001b[39m=\u001b[39m transformer_to_input_indices\n",
      "File \u001b[1;32mc:\\Users\\flori\\anaconda3\\lib\\site-packages\\sklearn\\utils\\__init__.py:456\u001b[0m, in \u001b[0;36m_get_column_indices\u001b[1;34m(X, key)\u001b[0m\n\u001b[0;32m    453\u001b[0m             column_indices\u001b[39m.\u001b[39mappend(col_idx)\n\u001b[0;32m    455\u001b[0m     \u001b[39mexcept\u001b[39;00m \u001b[39mKeyError\u001b[39;00m \u001b[39mas\u001b[39;00m e:\n\u001b[1;32m--> 456\u001b[0m         \u001b[39mraise\u001b[39;00m \u001b[39mValueError\u001b[39;00m(\u001b[39m\"\u001b[39m\u001b[39mA given column is not a column of the dataframe\u001b[39m\u001b[39m\"\u001b[39m) \u001b[39mfrom\u001b[39;00m \u001b[39me\u001b[39;00m\n\u001b[0;32m    458\u001b[0m     \u001b[39mreturn\u001b[39;00m column_indices\n\u001b[0;32m    459\u001b[0m \u001b[39melse\u001b[39;00m:\n",
      "\u001b[1;31mValueError\u001b[0m: A given column is not a column of the dataframe"
     ]
    }
   ],
   "source": [
    "# RandomForestClassification with feature selection\n",
    "# don't work right now\n",
    "\n",
    "# grid_log.estimator.steps[1][1].feature_importances_\n",
    "# grid_rf.__dict__\n",
    "# grid_log.estimator.steps[2][1]\n",
    "# grid_log.estimator.__dict__\n",
    "# grid_log.__dict__\n",
    "# grid_rf.estimator.named_steps['classifier'].feature_importances_\n",
    "\n",
    "most_important_features = feature_selection(grid_rf)\n",
    "display(most_important_features)\n",
    "\n",
    "# pipe with feature selection\n",
    "pipe_rf = Pipeline([('preprocessing', ColumnTransformer(transformers=[\n",
    "                         ('encoder', OneHotEncoder(handle_unknown='ignore'), cat_cols),\n",
    "                         ('ord_transformer', OrdinalEncoder(), ord_cols),\n",
    "  \t\t\t                  ('keep_cols', 'passthrough', most_important_features)\n",
    "                      ], remainder='drop')),\n",
    "                      ('classifier', grid_rf.estimator.named_steps['classifier'])])\n",
    "\n",
    "# Train the RandomForestClassifier\n",
    "pipe_rf.fit(features_train, target_train)\n",
    "\n",
    "# Print the training score of the best model\n",
    "print(\"best score\", pipe_rf.best_score_)\n",
    "\n",
    "# Print the model parameters of the best model\n",
    "print(\"best model parameter\", pipe_rf.best_params_)\n",
    "\n",
    "pipe_rf.fit(features_train, target_train)\n",
    "\n",
    "#predict\n",
    "target_test_pred_rf_grid_sel = grid_rf.predict(features_test)\n",
    "\n",
    "#save\n",
    "scores = {'name': \"RandomForest optimized with feature selection\",\n",
    "          'accuracy': accuracy_score(target_test, target_test_pred_rf_grid_sel) * 100,\n",
    "          'precision': precision_score(target_test, target_test_pred_rf_grid_sel) * 100,\n",
    "          'recall': recall_score(target_test, target_test_pred_rf_grid_sel) * 100,\n",
    "          'f1': f1_score(target_test, target_test_pred_rf_grid_sel) * 100,\n",
    "        }\n",
    "model_results.append(scores)\n",
    "    \n",
    "#show results\n",
    "pd.DataFrame(model_results).T"
   ]
  },
  {
   "attachments": {},
   "cell_type": "markdown",
   "metadata": {},
   "source": [
    "# 3. RandomForest with polynomial features"
   ]
  },
  {
   "cell_type": "code",
   "execution_count": 54,
   "metadata": {},
   "outputs": [
    {
     "name": "stdout",
     "output_type": "stream",
     "text": [
      "best score\n",
      "0.6245710423941896\n",
      "best model parameter\n",
      "{'classifier__max_depth': 18, 'classifier__max_features': 6, 'classifier__min_samples_leaf': 4, 'classifier__min_samples_split': 2, 'classifier__n_estimators': 130}\n"
     ]
    },
    {
     "data": {
      "text/html": [
       "<div>\n",
       "<style scoped>\n",
       "    .dataframe tbody tr th:only-of-type {\n",
       "        vertical-align: middle;\n",
       "    }\n",
       "\n",
       "    .dataframe tbody tr th {\n",
       "        vertical-align: top;\n",
       "    }\n",
       "\n",
       "    .dataframe thead th {\n",
       "        text-align: right;\n",
       "    }\n",
       "</style>\n",
       "<table border=\"1\" class=\"dataframe\">\n",
       "  <thead>\n",
       "    <tr style=\"text-align: right;\">\n",
       "      <th></th>\n",
       "      <th>0</th>\n",
       "      <th>1</th>\n",
       "      <th>2</th>\n",
       "    </tr>\n",
       "  </thead>\n",
       "  <tbody>\n",
       "    <tr>\n",
       "      <th>name</th>\n",
       "      <td>Baseline model</td>\n",
       "      <td>RandomForestClassifier with all features selected</td>\n",
       "      <td>RandomForest with polynomial features</td>\n",
       "    </tr>\n",
       "    <tr>\n",
       "      <th>accuracy</th>\n",
       "      <td>92.059553</td>\n",
       "      <td>91.563275</td>\n",
       "      <td>91.563275</td>\n",
       "    </tr>\n",
       "    <tr>\n",
       "      <th>precision</th>\n",
       "      <td>85.185185</td>\n",
       "      <td>83.333333</td>\n",
       "      <td>80.0</td>\n",
       "    </tr>\n",
       "    <tr>\n",
       "      <th>recall</th>\n",
       "      <td>65.714286</td>\n",
       "      <td>64.285714</td>\n",
       "      <td>68.571429</td>\n",
       "    </tr>\n",
       "    <tr>\n",
       "      <th>f1</th>\n",
       "      <td>74.193548</td>\n",
       "      <td>72.580645</td>\n",
       "      <td>73.846154</td>\n",
       "    </tr>\n",
       "  </tbody>\n",
       "</table>\n",
       "</div>"
      ],
      "text/plain": [
       "                        0                                                  1  \\\n",
       "name       Baseline model  RandomForestClassifier with all features selected   \n",
       "accuracy        92.059553                                          91.563275   \n",
       "precision       85.185185                                          83.333333   \n",
       "recall          65.714286                                          64.285714   \n",
       "f1              74.193548                                          72.580645   \n",
       "\n",
       "                                               2  \n",
       "name       RandomForest with polynomial features  \n",
       "accuracy                               91.563275  \n",
       "precision                                   80.0  \n",
       "recall                                 68.571429  \n",
       "f1                                     73.846154  "
      ]
     },
     "execution_count": 54,
     "metadata": {},
     "output_type": "execute_result"
    }
   ],
   "source": [
    "# RandomForestClassifier with PolynomialFeatures\n",
    "# running time: 25m 26.6s\n",
    "\n",
    "from sklearn.preprocessing import PolynomialFeatures\n",
    "\n",
    "#initate PolynomialFeatures\n",
    "poly_transformer = PolynomialFeatures(degree=2,           \n",
    "                                      interaction_only=False, # Controls whether self interactons are included \n",
    "                                      include_bias=False)    # Controls whether the 1 is also icluded as a feature\n",
    "\n",
    "#create Pipeline\n",
    "pipeline_rf_poly = Pipeline([('preprocessing', ColumnTransformer(transformers=[\n",
    "                    ('encoder', OneHotEncoder(handle_unknown='ignore'), cat_cols),\n",
    "                     ('ord_transformer', OrdinalEncoder(), ord_cols)\n",
    "                    ], remainder='passthrough')),\n",
    "                    ('scaler', StandardScaler()),\n",
    "                    (\"poly\", poly_transformer),\n",
    "                    ('classifier', RandomForestClassifier(class_weight=\"balanced\", random_state=42))])\n",
    "\n",
    "# Create the parameter grid\n",
    "grid_search_rf_poly = [{'classifier__max_depth':range(2, 40,4),#[10,11,12,13,14,15, 20],       \n",
    "                  'classifier__max_features':[2, 3, 4, 5, 6, 8, 20,\"auto\"],\n",
    "                  'classifier__min_samples_split':[2, 3, 4],\n",
    "                  'classifier__min_samples_leaf':[2, 3, 4],\n",
    "                  'classifier__n_estimators': np.arange(10,150,20)\n",
    "                }]\n",
    "\n",
    "# Create an instance of GridSearch \n",
    "grid_rf_poly = GridSearchCV(estimator=pipeline_rf_poly,\n",
    "                    param_grid = grid_search_rf_poly,\n",
    "                    scoring='f1',\n",
    "                    cv=5,\n",
    "                    n_jobs=-1)\n",
    "\n",
    "# Train the RandomForestClassifier\n",
    "grid_rf_poly.fit(features_train, target_train)\n",
    "\n",
    "# Print the training score of the best model\n",
    "print(\"best score\")\n",
    "print(grid_rf_poly.best_score_)\n",
    "\n",
    "# Print the model parameters of the best model\n",
    "print(\"best model parameter\")\n",
    "print(grid_rf_poly.best_params_)\n",
    "\n",
    "#predict\n",
    "target_test_pred_rf_poly_grid = grid_rf_poly.best_estimator_.predict(features_test)\n",
    "\n",
    "#save\n",
    "scores = {'name': \"RandomForest with polynomial features\",\n",
    "          'accuracy': accuracy_score(target_test, target_test_pred_rf_poly_grid) * 100,\n",
    "          'precision': precision_score(target_test, target_test_pred_rf_poly_grid) * 100,\n",
    "          'recall': recall_score(target_test, target_test_pred_rf_poly_grid) * 100,\n",
    "          'f1': f1_score(target_test, target_test_pred_rf_poly_grid) * 100,\n",
    "        }\n",
    "model_results.append(scores)\n",
    "    \n",
    "#show results\n",
    "pd.DataFrame(model_results).T"
   ]
  },
  {
   "cell_type": "code",
   "execution_count": 55,
   "metadata": {},
   "outputs": [
    {
     "data": {
      "image/png": "[encoded data removed]",
      "text/plain": [
       "<Figure size 640x640 with 2 Axes>"
      ]
     },
     "metadata": {},
     "output_type": "display_data"
    }
   ],
   "source": [
    "labels = ['Alive', 'Dead']\n",
    "cm = confusion_matrix(target_test, target_test_pred_rf_poly_grid)\n",
    "plt.figure(figsize = (8,8))\n",
    "sns.heatmap(cm, annot = True, fmt='', xticklabels = labels, yticklabels = labels)\n",
    "plt.title('Confusion Matrix')\n",
    "plt.show()"
   ]
  },
  {
   "cell_type": "code",
   "execution_count": 56,
   "metadata": {},
   "outputs": [
    {
     "name": "stdout",
     "output_type": "stream",
     "text": [
      "Classification Report:\n",
      "               precision    recall  f1-score   support\n",
      "\n",
      "           0       0.94      0.96      0.95       333\n",
      "           1       0.80      0.69      0.74        70\n",
      "\n",
      "    accuracy                           0.92       403\n",
      "   macro avg       0.87      0.82      0.84       403\n",
      "weighted avg       0.91      0.92      0.91       403\n",
      "\n"
     ]
    }
   ],
   "source": [
    "# report\n",
    "report = classification_report(target_test, target_test_pred_rf_poly_grid)\n",
    "print(\"Classification Report:\\n\", report)"
   ]
  },
  {
   "cell_type": "code",
   "execution_count": 57,
   "metadata": {},
   "outputs": [
    {
     "data": {
      "image/png": "[encoded data removed]",
      "text/plain": [
       "<Figure size 640x480 with 1 Axes>"
      ]
     },
     "metadata": {},
     "output_type": "display_data"
    }
   ],
   "source": [
    "# print roc-curve\n",
    "\n",
    "# create DataFrame with one column named prediction\n",
    "df_pred_test = pd.DataFrame(target_test_pred_rf_poly_grid, columns=['prediction'])\n",
    "\n",
    "# predict probabilities and add them as new column\n",
    "df_pred_test.loc[:, 'probability'] = grid_rf_poly.best_estimator_.predict_proba(features_test)[:, 1]  \n",
    "\n",
    "# calculate roc-curve\n",
    "from sklearn.metrics import roc_curve\n",
    "\n",
    "false_positive_rate, recall, threshold = roc_curve(target_test, df_pred_test.loc[:, 'probability']) \n",
    "\n",
    "# plotting\n",
    "plt.style.use('ggplot')\n",
    "\n",
    "# figure and axes intialisation\n",
    "fig, ax = plt.subplots()\n",
    "\n",
    "# reference lines\n",
    "ax.plot([0, 1], ls = \"--\")  # blue diagonal\n",
    "ax.plot([0, 0], [1, 0], c=\".7\", ls='--')  # grey vertical\n",
    "ax.plot([1, 1], c=\".7\", ls='--')  # grey horizontal\n",
    "\n",
    "# roc curve\n",
    "ax.plot(false_positive_rate, recall)\n",
    "\n",
    "# labels\n",
    "ax.set_title(\"Receiver Operating Characteristic\")\n",
    "ax.set_xlabel(\"False Positive Rate\")\n",
    "ax.set_ylabel(\"Recall\");"
   ]
  },
  {
   "cell_type": "code",
   "execution_count": 58,
   "metadata": {},
   "outputs": [],
   "source": [
    "# save grid_rf_poly as pickle\n",
    "\n",
    "pickle.dump(grid_rf_poly, open('grid_rf_poly.p', 'wb'))"
   ]
  },
  {
   "cell_type": "code",
   "execution_count": 59,
   "metadata": {},
   "outputs": [],
   "source": [
    "# load grid_rf_poly\n",
    "file_name = 'grid_rf_poly.p'\n",
    "grid_rf_poly = pickle.load(open(file_name, 'rb'))"
   ]
  },
  {
   "attachments": {},
   "cell_type": "markdown",
   "metadata": {},
   "source": [
    "# 4. LogisticRegression"
   ]
  },
  {
   "cell_type": "code",
   "execution_count": 60,
   "metadata": {},
   "outputs": [
    {
     "name": "stdout",
     "output_type": "stream",
     "text": [
      "best score\n",
      "0.5238762727030883\n",
      "best model parameter\n",
      "{'classifier__C': 0.3727593720314938, 'classifier__penalty': 'l2'}\n"
     ]
    },
    {
     "data": {
      "text/html": [
       "<div>\n",
       "<style scoped>\n",
       "    .dataframe tbody tr th:only-of-type {\n",
       "        vertical-align: middle;\n",
       "    }\n",
       "\n",
       "    .dataframe tbody tr th {\n",
       "        vertical-align: top;\n",
       "    }\n",
       "\n",
       "    .dataframe thead th {\n",
       "        text-align: right;\n",
       "    }\n",
       "</style>\n",
       "<table border=\"1\" class=\"dataframe\">\n",
       "  <thead>\n",
       "    <tr style=\"text-align: right;\">\n",
       "      <th></th>\n",
       "      <th>0</th>\n",
       "      <th>1</th>\n",
       "      <th>2</th>\n",
       "      <th>3</th>\n",
       "    </tr>\n",
       "  </thead>\n",
       "  <tbody>\n",
       "    <tr>\n",
       "      <th>name</th>\n",
       "      <td>Baseline model</td>\n",
       "      <td>RandomForestClassifier with all features selected</td>\n",
       "      <td>RandomForest with polynomial features</td>\n",
       "      <td>LogisticRegression_GridSearch</td>\n",
       "    </tr>\n",
       "    <tr>\n",
       "      <th>accuracy</th>\n",
       "      <td>92.059553</td>\n",
       "      <td>91.563275</td>\n",
       "      <td>91.563275</td>\n",
       "      <td>82.133995</td>\n",
       "    </tr>\n",
       "    <tr>\n",
       "      <th>precision</th>\n",
       "      <td>85.185185</td>\n",
       "      <td>83.333333</td>\n",
       "      <td>80.0</td>\n",
       "      <td>49.107143</td>\n",
       "    </tr>\n",
       "    <tr>\n",
       "      <th>recall</th>\n",
       "      <td>65.714286</td>\n",
       "      <td>64.285714</td>\n",
       "      <td>68.571429</td>\n",
       "      <td>78.571429</td>\n",
       "    </tr>\n",
       "    <tr>\n",
       "      <th>f1</th>\n",
       "      <td>74.193548</td>\n",
       "      <td>72.580645</td>\n",
       "      <td>73.846154</td>\n",
       "      <td>60.43956</td>\n",
       "    </tr>\n",
       "  </tbody>\n",
       "</table>\n",
       "</div>"
      ],
      "text/plain": [
       "                        0                                                  1  \\\n",
       "name       Baseline model  RandomForestClassifier with all features selected   \n",
       "accuracy        92.059553                                          91.563275   \n",
       "precision       85.185185                                          83.333333   \n",
       "recall          65.714286                                          64.285714   \n",
       "f1              74.193548                                          72.580645   \n",
       "\n",
       "                                               2  \\\n",
       "name       RandomForest with polynomial features   \n",
       "accuracy                               91.563275   \n",
       "precision                                   80.0   \n",
       "recall                                 68.571429   \n",
       "f1                                     73.846154   \n",
       "\n",
       "                                       3  \n",
       "name       LogisticRegression_GridSearch  \n",
       "accuracy                       82.133995  \n",
       "precision                      49.107143  \n",
       "recall                         78.571429  \n",
       "f1                              60.43956  "
      ]
     },
     "execution_count": 60,
     "metadata": {},
     "output_type": "execute_result"
    }
   ],
   "source": [
    "# Logistic Regression\n",
    "\n",
    "from sklearn.preprocessing import PolynomialFeatures\n",
    "\n",
    "# create Pipeline\n",
    "pipeline_log = Pipeline([('preprocessing', ColumnTransformer(transformers=[\n",
    "                    ('encoder', OneHotEncoder(handle_unknown='ignore'), cat_cols),\n",
    "                     ('ord_transformer', OrdinalEncoder(), ord_cols),\n",
    "                     #('poly', PolynomialFeatures(degree=2, include_bias=False), num_cols),\n",
    "                     ], remainder='passthrough')),\n",
    "                    ('scaler', StandardScaler()),\n",
    "                    ('classifier', LogisticRegression(solver=\"liblinear\", class_weight='balanced', max_iter=1000, random_state=42))])\n",
    "\n",
    "# create C_values\n",
    "C_values = np.geomspace(0.001,1000,50) #[0.01, 0.1, 1, 10, 100]\n",
    "\n",
    "# creat parameter Grid\n",
    "grid_search_log = [{'classifier__penalty':[\"l2\",\"l1\"],\n",
    "                    'classifier__C': C_values\n",
    "                }]\n",
    "\n",
    "# Create an instance of GridSearch Cross-validation estimator\n",
    "grid_log = GridSearchCV(estimator=pipeline_log,\n",
    "                     param_grid = grid_search_log,\n",
    "                     scoring='f1',\n",
    "                     cv=3,   \n",
    "                     n_jobs=-1)\n",
    "\n",
    "# Train the RandomForestClassifier\n",
    "grid_log.fit(features_train, target_train)\n",
    "\n",
    "# Print the training score of the best model\n",
    "print(\"best score\")\n",
    "print(grid_log.best_score_)\n",
    "\n",
    "# Print the model parameters of the best model\n",
    "print(\"best model parameter\")\n",
    "print(grid_log.best_params_)\n",
    "\n",
    "# Print the test score of the best model\n",
    "#predict\n",
    "target_test_pred_log_grid = grid_log.best_estimator_.predict(features_test)\n",
    "\n",
    "#save\n",
    "scores = {'name': \"LogisticRegression_GridSearch\",\n",
    "          'accuracy': accuracy_score(target_test, target_test_pred_log_grid) * 100,\n",
    "          'precision': precision_score(target_test, target_test_pred_log_grid) * 100,\n",
    "          'recall': recall_score(target_test, target_test_pred_log_grid) * 100,\n",
    "          'f1': f1_score(target_test, target_test_pred_log_grid) * 100,\n",
    "         }\n",
    "model_results.append(scores)\n",
    "    \n",
    "#show results\n",
    "pd.DataFrame(model_results).T "
   ]
  },
  {
   "cell_type": "code",
   "execution_count": 61,
   "metadata": {},
   "outputs": [
    {
     "data": {
      "image/png": "[encoded data removed]",
      "text/plain": [
       "<Figure size 640x640 with 2 Axes>"
      ]
     },
     "metadata": {},
     "output_type": "display_data"
    }
   ],
   "source": [
    "labels = ['Alive', 'Dead']\n",
    "cm = confusion_matrix(target_test, target_test_pred_log_grid)\n",
    "plt.figure(figsize = (8,8))\n",
    "sns.heatmap(cm, annot = True, fmt='', xticklabels = labels, yticklabels = labels)\n",
    "plt.title('Confusion Matrix')\n",
    "plt.show()"
   ]
  },
  {
   "cell_type": "code",
   "execution_count": 63,
   "metadata": {},
   "outputs": [
    {
     "name": "stdout",
     "output_type": "stream",
     "text": [
      "Classification Report:\n",
      "               precision    recall  f1-score   support\n",
      "\n",
      "           0       0.95      0.83      0.88       333\n",
      "           1       0.49      0.79      0.60        70\n",
      "\n",
      "    accuracy                           0.82       403\n",
      "   macro avg       0.72      0.81      0.74       403\n",
      "weighted avg       0.87      0.82      0.84       403\n",
      "\n"
     ]
    }
   ],
   "source": [
    "# report\n",
    "report = classification_report(target_test, target_test_pred_log_grid)\n",
    "print(\"Classification Report:\\n\", report)"
   ]
  },
  {
   "cell_type": "code",
   "execution_count": 66,
   "metadata": {},
   "outputs": [
    {
     "data": {
      "image/png": "[encoded data removed]",
      "text/plain": [
       "<Figure size 640x480 with 1 Axes>"
      ]
     },
     "metadata": {},
     "output_type": "display_data"
    }
   ],
   "source": [
    "# print roc-curve\n",
    "\n",
    "# create DataFrame with one column named prediction\n",
    "df_pred_test = pd.DataFrame(target_test_pred_log_grid, columns=['prediction'])\n",
    "\n",
    "# predict probabilities and add them as new column\n",
    "df_pred_test.loc[:, 'probability'] = grid_log.best_estimator_.predict_proba(features_test)[:, 1]  \n",
    "\n",
    "# calculate roc-curve\n",
    "from sklearn.metrics import roc_curve\n",
    "\n",
    "false_positive_rate, recall, threshold = roc_curve(target_test, df_pred_test.loc[:, 'probability']) \n",
    "\n",
    "# plotting\n",
    "plt.style.use('ggplot')\n",
    "\n",
    "# figure and axes intialisation\n",
    "fig, ax = plt.subplots()\n",
    "\n",
    "# reference lines\n",
    "ax.plot([0, 1], ls = \"--\")  # blue diagonal\n",
    "ax.plot([0, 0], [1, 0], c=\".7\", ls='--')  # grey vertical\n",
    "ax.plot([1, 1], c=\".7\", ls='--')  # grey horizontal\n",
    "\n",
    "# roc curve\n",
    "ax.plot(false_positive_rate, recall)\n",
    "\n",
    "# labels\n",
    "ax.set_title(\"Receiver Operating Characteristic\")\n",
    "ax.set_xlabel(\"False Positive Rate\")\n",
    "ax.set_ylabel(\"Recall\");"
   ]
  },
  {
   "cell_type": "code",
   "execution_count": 64,
   "metadata": {},
   "outputs": [],
   "source": [
    "# save grid_log as pickle\n",
    "\n",
    "pickle.dump(grid_log, open('grid_log.p', 'wb'))"
   ]
  },
  {
   "cell_type": "code",
   "execution_count": 65,
   "metadata": {},
   "outputs": [],
   "source": [
    "# load grid_log\n",
    "file_name = 'grid_log.p'\n",
    "grid_log = pickle.load(open(file_name, 'rb'))"
   ]
  },
  {
   "attachments": {},
   "cell_type": "markdown",
   "metadata": {},
   "source": [
    "# 5. Support Vector Machine with Gaussian kernel"
   ]
  },
  {
   "cell_type": "code",
   "execution_count": 67,
   "metadata": {},
   "outputs": [
    {
     "name": "stdout",
     "output_type": "stream",
     "text": [
      "Fitting 3 folds for each of 20 candidates, totalling 60 fits\n",
      "best score\n",
      "0.5367396728050355\n",
      "best model parameter\n",
      "{'classifier__C': 10, 'classifier__gamma': 0.01}\n"
     ]
    },
    {
     "data": {
      "text/html": [
       "<div>\n",
       "<style scoped>\n",
       "    .dataframe tbody tr th:only-of-type {\n",
       "        vertical-align: middle;\n",
       "    }\n",
       "\n",
       "    .dataframe tbody tr th {\n",
       "        vertical-align: top;\n",
       "    }\n",
       "\n",
       "    .dataframe thead th {\n",
       "        text-align: right;\n",
       "    }\n",
       "</style>\n",
       "<table border=\"1\" class=\"dataframe\">\n",
       "  <thead>\n",
       "    <tr style=\"text-align: right;\">\n",
       "      <th></th>\n",
       "      <th>0</th>\n",
       "      <th>1</th>\n",
       "      <th>2</th>\n",
       "      <th>3</th>\n",
       "      <th>4</th>\n",
       "    </tr>\n",
       "  </thead>\n",
       "  <tbody>\n",
       "    <tr>\n",
       "      <th>name</th>\n",
       "      <td>Baseline model</td>\n",
       "      <td>RandomForestClassifier with all features selected</td>\n",
       "      <td>RandomForest with polynomial features</td>\n",
       "      <td>LogisticRegression_GridSearch</td>\n",
       "      <td>SVC with Gaussian kernel and GridSearch</td>\n",
       "    </tr>\n",
       "    <tr>\n",
       "      <th>accuracy</th>\n",
       "      <td>92.059553</td>\n",
       "      <td>91.563275</td>\n",
       "      <td>91.563275</td>\n",
       "      <td>82.133995</td>\n",
       "      <td>82.382134</td>\n",
       "    </tr>\n",
       "    <tr>\n",
       "      <th>precision</th>\n",
       "      <td>85.185185</td>\n",
       "      <td>83.333333</td>\n",
       "      <td>80.0</td>\n",
       "      <td>49.107143</td>\n",
       "      <td>49.50495</td>\n",
       "    </tr>\n",
       "    <tr>\n",
       "      <th>recall</th>\n",
       "      <td>65.714286</td>\n",
       "      <td>64.285714</td>\n",
       "      <td>68.571429</td>\n",
       "      <td>78.571429</td>\n",
       "      <td>71.428571</td>\n",
       "    </tr>\n",
       "    <tr>\n",
       "      <th>f1</th>\n",
       "      <td>74.193548</td>\n",
       "      <td>72.580645</td>\n",
       "      <td>73.846154</td>\n",
       "      <td>60.43956</td>\n",
       "      <td>58.479532</td>\n",
       "    </tr>\n",
       "  </tbody>\n",
       "</table>\n",
       "</div>"
      ],
      "text/plain": [
       "                        0                                                  1  \\\n",
       "name       Baseline model  RandomForestClassifier with all features selected   \n",
       "accuracy        92.059553                                          91.563275   \n",
       "precision       85.185185                                          83.333333   \n",
       "recall          65.714286                                          64.285714   \n",
       "f1              74.193548                                          72.580645   \n",
       "\n",
       "                                               2  \\\n",
       "name       RandomForest with polynomial features   \n",
       "accuracy                               91.563275   \n",
       "precision                                   80.0   \n",
       "recall                                 68.571429   \n",
       "f1                                     73.846154   \n",
       "\n",
       "                                       3  \\\n",
       "name       LogisticRegression_GridSearch   \n",
       "accuracy                       82.133995   \n",
       "precision                      49.107143   \n",
       "recall                         78.571429   \n",
       "f1                              60.43956   \n",
       "\n",
       "                                                 4  \n",
       "name       SVC with Gaussian kernel and GridSearch  \n",
       "accuracy                                 82.382134  \n",
       "precision                                 49.50495  \n",
       "recall                                   71.428571  \n",
       "f1                                       58.479532  "
      ]
     },
     "execution_count": 67,
     "metadata": {},
     "output_type": "execute_result"
    }
   ],
   "source": [
    "#Support Vector Machine with Gaussian kernel\n",
    "# running time: 12.9s\n",
    "\n",
    "from sklearn.svm import SVC \n",
    "\n",
    "# create Pipeline\n",
    "pipeline_svc = Pipeline([('preprocessing', ColumnTransformer(transformers=[\n",
    "                    ('encoder', OneHotEncoder(handle_unknown='ignore'), cat_cols),\n",
    "                     ('ord_transformer', OrdinalEncoder(), ord_cols)\n",
    "                    ], remainder='passthrough')),\n",
    "                    ('scaler', StandardScaler()),\n",
    "                    ('classifier', SVC(C=1000, kernel=\"rbf\", gamma='scale', class_weight='balanced', random_state=42))])\n",
    "\n",
    "# create k values\n",
    "k = np.geomspace(1,1000,10, dtype=\"int\")\n",
    "k = np.unique(k)\n",
    "\n",
    "# Create the parameter grid\n",
    "grid_search_svc = [{'classifier__C':[0.1,1, 10, 100],\n",
    "                   'classifier__gamma':[0.001,0.01,0.1, 1, 10]\n",
    "                    }]\n",
    "\n",
    "# Create an instance of GridSearch Cross-validation estimator\n",
    "grid_svc = GridSearchCV(estimator=pipeline_svc,\n",
    "                     param_grid = grid_search_svc,\n",
    "                     scoring='f1',\n",
    "                     cv=3,\n",
    "                     verbose =1,\n",
    "                     n_jobs=-1)\n",
    "\n",
    "# fit the Model\n",
    "grid_svc.fit(features_train, target_train)\n",
    "\n",
    "# Print the training score of the best model\n",
    "print(\"best score\")\n",
    "print(grid_svc.best_score_)\n",
    "\n",
    "# Print the model parameters of the best model\n",
    "print(\"best model parameter\")\n",
    "print(grid_svc.best_params_)\n",
    "\n",
    "# Print the test score of the best model\n",
    "#predict\n",
    "target_test_pred_svc_grid = grid_svc.predict(features_test)\n",
    "\n",
    "#save\n",
    "scores = {'name': \"SVC with Gaussian kernel and GridSearch\",\n",
    "          'accuracy': accuracy_score(target_test, target_test_pred_svc_grid) * 100,\n",
    "          'precision': precision_score(target_test, target_test_pred_svc_grid) * 100,\n",
    "          'recall': recall_score(target_test, target_test_pred_svc_grid) * 100,\n",
    "          'f1': f1_score(target_test, target_test_pred_svc_grid) * 100,\n",
    "         }\n",
    "model_results.append(scores)\n",
    "    \n",
    "#show results\n",
    "pd.DataFrame(model_results).T"
   ]
  },
  {
   "cell_type": "code",
   "execution_count": 68,
   "metadata": {},
   "outputs": [
    {
     "data": {
      "image/png": "[encoded data removed]",
      "text/plain": [
       "<Figure size 640x480 with 2 Axes>"
      ]
     },
     "metadata": {},
     "output_type": "display_data"
    }
   ],
   "source": [
    "from sklearn.metrics import ConfusionMatrixDisplay\n",
    "\n",
    "# confusion matrix for predictions on test data\n",
    "plt.style.use('classic')\n",
    "test_pred = grid_svc.best_estimator_.predict(features_test)\n",
    "confusion_matrix(target_test, test_pred)\n",
    "\n",
    "ConfusionMatrixDisplay.from_estimator(grid_svc, features_test, target_test);"
   ]
  },
  {
   "cell_type": "code",
   "execution_count": 69,
   "metadata": {},
   "outputs": [
    {
     "name": "stdout",
     "output_type": "stream",
     "text": [
      "Classification Report:\n",
      "               precision    recall  f1-score   support\n",
      "\n",
      "           0       0.93      0.85      0.89       333\n",
      "           1       0.50      0.71      0.58        70\n",
      "\n",
      "    accuracy                           0.82       403\n",
      "   macro avg       0.71      0.78      0.74       403\n",
      "weighted avg       0.86      0.82      0.84       403\n",
      "\n"
     ]
    }
   ],
   "source": [
    "# report\n",
    "report = classification_report(target_test, target_test_pred_svc_grid)\n",
    "print(\"Classification Report:\\n\", report)"
   ]
  },
  {
   "cell_type": "code",
   "execution_count": 70,
   "metadata": {},
   "outputs": [],
   "source": [
    "# save grid_log as pickle\n",
    "\n",
    "pickle.dump(grid_svc, open('grid_svc.p', 'wb'))"
   ]
  },
  {
   "cell_type": "code",
   "execution_count": 71,
   "metadata": {},
   "outputs": [],
   "source": [
    "# load grid_svc\n",
    "file_name = 'grid_svc.p'\n",
    "grid_svc = pickle.load(open(file_name, 'rb'))"
   ]
  },
  {
   "cell_type": "code",
   "execution_count": 74,
   "metadata": {},
   "outputs": [
    {
     "ename": "AttributeError",
     "evalue": "predict_proba is not available when  probability=False",
     "output_type": "error",
     "traceback": [
      "\u001b[1;31m---------------------------------------------------------------------------\u001b[0m",
      "\u001b[1;31mAttributeError\u001b[0m                            Traceback (most recent call last)",
      "Cell \u001b[1;32mIn[74], line 7\u001b[0m\n\u001b[0;32m      4\u001b[0m df_pred_test \u001b[39m=\u001b[39m pd\u001b[39m.\u001b[39mDataFrame(target_test_pred_svc_grid, columns\u001b[39m=\u001b[39m[\u001b[39m'\u001b[39m\u001b[39mprediction\u001b[39m\u001b[39m'\u001b[39m])\n\u001b[0;32m      6\u001b[0m \u001b[39m# predict probabilities and add them as new column\u001b[39;00m\n\u001b[1;32m----> 7\u001b[0m df_pred_test\u001b[39m.\u001b[39mloc[:, \u001b[39m'\u001b[39m\u001b[39mprobability\u001b[39m\u001b[39m'\u001b[39m] \u001b[39m=\u001b[39m grid_svc\u001b[39m.\u001b[39;49mbest_estimator_\u001b[39m.\u001b[39;49mpredict_proba(features_test)[:, \u001b[39m1\u001b[39m]  \n\u001b[0;32m      9\u001b[0m \u001b[39m# calculate roc-curve\u001b[39;00m\n\u001b[0;32m     10\u001b[0m \u001b[39mfrom\u001b[39;00m \u001b[39msklearn\u001b[39;00m\u001b[39m.\u001b[39;00m\u001b[39mmetrics\u001b[39;00m \u001b[39mimport\u001b[39;00m roc_curve\n",
      "File \u001b[1;32mc:\\Users\\flori\\anaconda3\\lib\\site-packages\\sklearn\\utils\\_available_if.py:32\u001b[0m, in \u001b[0;36m_AvailableIfDescriptor.__get__\u001b[1;34m(self, obj, owner)\u001b[0m\n\u001b[0;32m     26\u001b[0m attr_err \u001b[39m=\u001b[39m \u001b[39mAttributeError\u001b[39;00m(\n\u001b[0;32m     27\u001b[0m     \u001b[39mf\u001b[39m\u001b[39m\"\u001b[39m\u001b[39mThis \u001b[39m\u001b[39m{\u001b[39;00m\u001b[39mrepr\u001b[39m(owner\u001b[39m.\u001b[39m\u001b[39m__name__\u001b[39m)\u001b[39m}\u001b[39;00m\u001b[39m has no attribute \u001b[39m\u001b[39m{\u001b[39;00m\u001b[39mrepr\u001b[39m(\u001b[39mself\u001b[39m\u001b[39m.\u001b[39mattribute_name)\u001b[39m}\u001b[39;00m\u001b[39m\"\u001b[39m\n\u001b[0;32m     28\u001b[0m )\n\u001b[0;32m     29\u001b[0m \u001b[39mif\u001b[39;00m obj \u001b[39mis\u001b[39;00m \u001b[39mnot\u001b[39;00m \u001b[39mNone\u001b[39;00m:\n\u001b[0;32m     30\u001b[0m     \u001b[39m# delegate only on instances, not the classes.\u001b[39;00m\n\u001b[0;32m     31\u001b[0m     \u001b[39m# this is to allow access to the docstrings.\u001b[39;00m\n\u001b[1;32m---> 32\u001b[0m     \u001b[39mif\u001b[39;00m \u001b[39mnot\u001b[39;00m \u001b[39mself\u001b[39;49m\u001b[39m.\u001b[39;49mcheck(obj):\n\u001b[0;32m     33\u001b[0m         \u001b[39mraise\u001b[39;00m attr_err\n\u001b[0;32m     34\u001b[0m     out \u001b[39m=\u001b[39m MethodType(\u001b[39mself\u001b[39m\u001b[39m.\u001b[39mfn, obj)\n",
      "File \u001b[1;32mc:\\Users\\flori\\anaconda3\\lib\\site-packages\\sklearn\\pipeline.py:46\u001b[0m, in \u001b[0;36m_final_estimator_has.<locals>.check\u001b[1;34m(self)\u001b[0m\n\u001b[0;32m     44\u001b[0m \u001b[39mdef\u001b[39;00m \u001b[39mcheck\u001b[39m(\u001b[39mself\u001b[39m):\n\u001b[0;32m     45\u001b[0m     \u001b[39m# raise original `AttributeError` if `attr` does not exist\u001b[39;00m\n\u001b[1;32m---> 46\u001b[0m     \u001b[39mgetattr\u001b[39;49m(\u001b[39mself\u001b[39;49m\u001b[39m.\u001b[39;49m_final_estimator, attr)\n\u001b[0;32m     47\u001b[0m     \u001b[39mreturn\u001b[39;00m \u001b[39mTrue\u001b[39;00m\n",
      "File \u001b[1;32mc:\\Users\\flori\\anaconda3\\lib\\site-packages\\sklearn\\utils\\_available_if.py:32\u001b[0m, in \u001b[0;36m_AvailableIfDescriptor.__get__\u001b[1;34m(self, obj, owner)\u001b[0m\n\u001b[0;32m     26\u001b[0m attr_err \u001b[39m=\u001b[39m \u001b[39mAttributeError\u001b[39;00m(\n\u001b[0;32m     27\u001b[0m     \u001b[39mf\u001b[39m\u001b[39m\"\u001b[39m\u001b[39mThis \u001b[39m\u001b[39m{\u001b[39;00m\u001b[39mrepr\u001b[39m(owner\u001b[39m.\u001b[39m\u001b[39m__name__\u001b[39m)\u001b[39m}\u001b[39;00m\u001b[39m has no attribute \u001b[39m\u001b[39m{\u001b[39;00m\u001b[39mrepr\u001b[39m(\u001b[39mself\u001b[39m\u001b[39m.\u001b[39mattribute_name)\u001b[39m}\u001b[39;00m\u001b[39m\"\u001b[39m\n\u001b[0;32m     28\u001b[0m )\n\u001b[0;32m     29\u001b[0m \u001b[39mif\u001b[39;00m obj \u001b[39mis\u001b[39;00m \u001b[39mnot\u001b[39;00m \u001b[39mNone\u001b[39;00m:\n\u001b[0;32m     30\u001b[0m     \u001b[39m# delegate only on instances, not the classes.\u001b[39;00m\n\u001b[0;32m     31\u001b[0m     \u001b[39m# this is to allow access to the docstrings.\u001b[39;00m\n\u001b[1;32m---> 32\u001b[0m     \u001b[39mif\u001b[39;00m \u001b[39mnot\u001b[39;00m \u001b[39mself\u001b[39;49m\u001b[39m.\u001b[39;49mcheck(obj):\n\u001b[0;32m     33\u001b[0m         \u001b[39mraise\u001b[39;00m attr_err\n\u001b[0;32m     34\u001b[0m     out \u001b[39m=\u001b[39m MethodType(\u001b[39mself\u001b[39m\u001b[39m.\u001b[39mfn, obj)\n",
      "File \u001b[1;32mc:\\Users\\flori\\anaconda3\\lib\\site-packages\\sklearn\\svm\\_base.py:829\u001b[0m, in \u001b[0;36mBaseSVC._check_proba\u001b[1;34m(self)\u001b[0m\n\u001b[0;32m    827\u001b[0m \u001b[39mdef\u001b[39;00m \u001b[39m_check_proba\u001b[39m(\u001b[39mself\u001b[39m):\n\u001b[0;32m    828\u001b[0m     \u001b[39mif\u001b[39;00m \u001b[39mnot\u001b[39;00m \u001b[39mself\u001b[39m\u001b[39m.\u001b[39mprobability:\n\u001b[1;32m--> 829\u001b[0m         \u001b[39mraise\u001b[39;00m \u001b[39mAttributeError\u001b[39;00m(\n\u001b[0;32m    830\u001b[0m             \u001b[39m\"\u001b[39m\u001b[39mpredict_proba is not available when  probability=False\u001b[39m\u001b[39m\"\u001b[39m\n\u001b[0;32m    831\u001b[0m         )\n\u001b[0;32m    832\u001b[0m     \u001b[39mif\u001b[39;00m \u001b[39mself\u001b[39m\u001b[39m.\u001b[39m_impl \u001b[39mnot\u001b[39;00m \u001b[39min\u001b[39;00m (\u001b[39m\"\u001b[39m\u001b[39mc_svc\u001b[39m\u001b[39m\"\u001b[39m, \u001b[39m\"\u001b[39m\u001b[39mnu_svc\u001b[39m\u001b[39m\"\u001b[39m):\n\u001b[0;32m    833\u001b[0m         \u001b[39mraise\u001b[39;00m \u001b[39mAttributeError\u001b[39;00m(\u001b[39m\"\u001b[39m\u001b[39mpredict_proba only implemented for SVC and NuSVC\u001b[39m\u001b[39m\"\u001b[39m)\n",
      "\u001b[1;31mAttributeError\u001b[0m: predict_proba is not available when  probability=False"
     ]
    }
   ],
   "source": [
    "# # print roc-curve\n",
    "\n",
    "# # create DataFrame with one column named prediction\n",
    "# df_pred_test = pd.DataFrame(target_test_pred_svc_grid, columns=['prediction'])\n",
    "\n",
    "# # predict probabilities and add them as new column\n",
    "# df_pred_test.loc[:, 'probability'] = grid_svc.best_estimator_.predict_proba(features_test)[:, 1]  \n",
    "\n",
    "# # calculate roc-curve\n",
    "# from sklearn.metrics import roc_curve\n",
    "\n",
    "# false_positive_rate, recall, threshold = roc_curve(target_test, df_pred_test.loc[:, 'probability']) \n",
    "\n",
    "# # plotting\n",
    "# plt.style.use('ggplot')\n",
    "\n",
    "# # figure and axes intialisation\n",
    "# fig, ax = plt.subplots()\n",
    "\n",
    "# # reference lines\n",
    "# ax.plot([0, 1], ls = \"--\")  # blue diagonal\n",
    "# ax.plot([0, 0], [1, 0], c=\".7\", ls='--')  # grey vertical\n",
    "# ax.plot([1, 1], c=\".7\", ls='--')  # grey horizontal\n",
    "\n",
    "# # roc curve\n",
    "# ax.plot(false_positive_rate, recall)\n",
    "\n",
    "# # labels\n",
    "# ax.set_title(\"Receiver Operating Characteristic\")\n",
    "# ax.set_xlabel(\"False Positive Rate\")\n",
    "# ax.set_ylabel(\"Recall\");"
   ]
  }
 ],
 "metadata": {
  "kernelspec": {
   "display_name": "portfolio_minimal_ds",
   "language": "python",
   "name": "python3"
  },
  "language_info": {
   "codemirror_mode": {
    "name": "ipython",
    "version": 3
   },
   "file_extension": ".py",
   "mimetype": "text/x-python",
   "name": "python",
   "nbconvert_exporter": "python",
   "pygments_lexer": "ipython3",
   "version": "3.10.9"
  },
  "orig_nbformat": 4
 },
 "nbformat": 4,
 "nbformat_minor": 2
}
