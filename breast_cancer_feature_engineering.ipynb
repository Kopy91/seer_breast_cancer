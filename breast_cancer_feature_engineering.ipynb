{
 "cells": [
  {
   "cell_type": "code",
   "execution_count": 1,
   "metadata": {},
   "outputs": [],
   "source": [
    "import pandas as pd\n",
    "\n",
    "\n",
    "def feature_engineering(features, cols_cat_nom, cols_num):\n",
    "    features[\"age_group\"] = pd.cut(x=features['Age'], bins=[30,34,39,44,49,54,59,64,69],\n",
    "                        labels = ['30-34','35-39','40-44','45-49','50-54','55-59',\n",
    "                                 '60-64','65-69'])\n",
    "    features = features.drop('Age', axis=1)\n",
    "    cols_cat_nom.append(\"age_group\")\n",
    "    cols_num.remove('Age')\n",
    "    return features, cols_cat_nom, cols_num"
   ]
  }
 ],
 "metadata": {
  "kernelspec": {
   "display_name": "base",
   "language": "python",
   "name": "python3"
  },
  "language_info": {
   "codemirror_mode": {
    "name": "ipython",
    "version": 3
   },
   "file_extension": ".py",
   "mimetype": "text/x-python",
   "name": "python",
   "nbconvert_exporter": "python",
   "pygments_lexer": "ipython3",
   "version": "3.10.9"
  },
  "orig_nbformat": 4
 },
 "nbformat": 4,
 "nbformat_minor": 2
}
