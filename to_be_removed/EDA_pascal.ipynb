{
 "cells": [
  {
   "cell_type": "code",
   "execution_count": null,
   "metadata": {},
   "outputs": [],
   "source": [
    "os.chdir(\"C:/Users/kopyt/Desktop/kaggle\")\n",
    "\n",
    "os.getcwd()"
   ]
  },
  {
   "cell_type": "code",
   "execution_count": null,
   "metadata": {},
   "outputs": [],
   "source": [
    "# read in data, overview\n",
    "\n",
    "df = pd.read_csv(\"Breast_Cancer.csv\")\n",
    "\n",
    "display(df.head())\n",
    "display(df.describe())\n",
    "display(df.dtypes)"
   ]
  },
  {
   "cell_type": "code",
   "execution_count": null,
   "metadata": {},
   "outputs": [],
   "source": [
    "# renaming columns, changing dtypes\n",
    "\n",
    "df.rename(columns={'Age': 'age', 'Race': 'race', 'Marital Status': 'marital_status', 'T Stage ': 'T_stage', \n",
    "                   'N Stage': 'N_stage', '6th Stage': '6th_stage', 'A Stage': 'A_stage', 'Tumor Size': 'tumor_size',\n",
    "                   'Estrogen Status': 'estrogen_status', 'Progesterone Status': 'progesterone_status',\n",
    "                   'Grade': 'grade', 'Regional Node Examined': 'regional_node_examined',\n",
    "                   'Reginol Node Positive': 'regional_node_positive', 'Survival Months': 'survival_months',\n",
    "                   'Status': 'status'}, inplace=True)\n",
    "\n",
    "# Specify columns to be converted to 'category' data type\n",
    "columns_cat = ['race', 'marital_status', 'T_stage', 'N_stage', '6th_stage', 'differentiate', 'grade', 'A_stage',\n",
    "               'estrogen_status', 'progesterone_status', 'status']\n",
    "\n",
    "# Convert columns to 'category' data type\n",
    "df[columns_cat] = df[columns_cat].astype('category')\n",
    "\n",
    "# create new column \"survival_years\"\n",
    "df[\"survival_years\"] = df[\"survival_months\"] / 12\n",
    "\n",
    "# encode target (\"status_encoded\"), delete original\n",
    "df[\"status_encoded\"] = df[\"status\"].replace({\"Dead\": 1, \"Alive\": 0})\n",
    "df[\"status_encoded\"] = df[\"status_encoded\"].astype('uint8')\n",
    "df = df.drop(\"status\", axis=1)\n",
    "\n",
    "\n",
    "# Display the updated df\n",
    "display(df.head())\n",
    "display(df.describe())\n",
    "display(df.dtypes)"
   ]
  },
  {
   "cell_type": "code",
   "execution_count": null,
   "metadata": {},
   "outputs": [],
   "source": [
    "#plotting categorial data\n",
    "sns.catplot(data=df, x=\"T_stage\", y=\"survival_months\", kind=\"box\")\n",
    "sns.catplot(data=df, x=\"N_stage\", y=\"survival_months\", kind=\"box\")\n",
    "sns.catplot(data=df, x=\"grade\", y=\"survival_months\", kind=\"box\")\n",
    "\n",
    "\n",
    "sns.catplot(data=df, x=\"estrogen_status\", y=\"survival_months\", kind=\"box\")\n",
    "sns.catplot(data=df, x=\"progesterone_status\", y=\"survival_months\", kind=\"box\")\n",
    "sns.catplot(data=df, x=\"A_stage\", y=\"survival_months\", kind=\"box\")\n",
    "\n",
    "plt.tight_layout()"
   ]
  },
  {
   "cell_type": "code",
   "execution_count": null,
   "metadata": {},
   "outputs": [],
   "source": [
    "#sns.pairplot(df, hue=\"status_encoded\")"
   ]
  },
  {
   "cell_type": "code",
   "execution_count": null,
   "metadata": {},
   "outputs": [],
   "source": [
    "corr_matrix = df.corr()\n",
    "\n",
    "plt.figure(figsize=(10, 8))\n",
    "sns.heatmap(corr_matrix, annot=True)\n",
    "plt.title('Correlation Heatmap')\n",
    "plt.show()"
   ]
  }
 ],
 "metadata": {
  "language_info": {
   "name": "python"
  },
  "orig_nbformat": 4
 },
 "nbformat": 4,
 "nbformat_minor": 2
}
